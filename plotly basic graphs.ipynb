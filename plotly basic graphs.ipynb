{
 "cells": [
  {
   "cell_type": "code",
   "execution_count": 4,
   "metadata": {},
   "outputs": [
    {
     "data": {
      "application/vnd.plotly.v1+json": {
       "config": {
        "plotlyServerURL": "https://plot.ly"
       },
       "data": [
        {
         "marker": {
          "color": [
           "green",
           "green",
           "green",
           "green",
           "green",
           "green",
           "green",
           "green"
          ]
         },
         "text": "Access to electricity in rural area in 2008",
         "textposition": "outside",
         "type": "bar",
         "x": [
          "India",
          "Philippines",
          "Malaysia",
          "SriLanka",
          "Japan",
          "Germany",
          "Australia",
          "Switzerland"
         ],
         "xaxis": "x",
         "y": [
          63.43433,
          74.63317,
          95.52333,
          79.59493,
          100,
          100,
          100,
          100
         ],
         "yaxis": "y"
        },
        {
         "marker": {
          "color": [
           "dodgerblue",
           "dodgerblue",
           "dodgerblue",
           "dodgerblue",
           "dodgerblue",
           "dodgerblue",
           "dodgerblue",
           "dodgerblue"
          ]
         },
         "text": "Access to electricity in rural area in 2009 ",
         "textposition": "outside",
         "type": "bar",
         "x": [
          "India",
          "Philippines",
          "Malaysia",
          "SriLanka",
          "Japan",
          "Germany",
          "Australia",
          "Switzerland"
         ],
         "xaxis": "x",
         "y": [
          65.70224,
          76.38853,
          97.89499,
          81.38262,
          100,
          100,
          100,
          100
         ],
         "yaxis": "y"
        },
        {
         "marker": {
          "color": [
           "blue",
           "blue",
           "blue",
           "blue",
           "blue",
           "blue",
           "blue",
           "blue"
          ]
         },
         "text": "Access to electricity in rural area in 2010 ",
         "textposition": "outside",
         "type": "bar",
         "x": [
          "India",
          "Philippines",
          "Malaysia",
          "SriLanka",
          "Japan",
          "Germany",
          "Australia",
          "Switzerland"
         ],
         "xaxis": "x",
         "y": [
          68.37382,
          78.08313,
          98.08235,
          83.00431,
          100,
          100,
          100,
          100
         ],
         "yaxis": "y"
        },
        {
         "marker": {
          "color": [
           "rgb(255, 0, 191)",
           "rgb(255, 0, 191)",
           "rgb(255, 0, 191)",
           "rgb(255, 0, 191)",
           "rgb(255, 0, 191)",
           "rgb(255, 0, 191)",
           "rgb(255, 0, 191)",
           "rgb(255, 0, 191)"
          ]
         },
         "text": "Access to electricity in rural area in 2011 ",
         "textposition": "outside",
         "type": "bar",
         "x": [
          "India",
          "Philippines",
          "Malaysia",
          "SriLanka",
          "Japan",
          "Germany",
          "Australia",
          "Switzerland"
         ],
         "xaxis": "x",
         "y": [
          56.08608,
          81.2667,
          98.56712,
          85.74049,
          100,
          100,
          100,
          100
         ],
         "yaxis": "y"
        },
        {
         "marker": {
          "color": [
           "#66FFCC",
           "#66FFCC",
           "#66FFCC",
           "#66FFCC",
           "#66FFCC",
           "#66FFCC",
           "#66FFCC",
           "#66FFCC"
          ]
         },
         "text": "Access to electricity in rural area in 2012 ",
         "textposition": "outside",
         "type": "bar",
         "x": [
          "India",
          "Philippines",
          "Malaysia",
          "SriLanka",
          "Japan",
          "Germany",
          "Australia",
          "Switzerland"
         ],
         "xaxis": "x",
         "y": [
          72.40401,
          81.21015,
          99.53931,
          84.706,
          100,
          100,
          100,
          100
         ],
         "yaxis": "y"
        },
        {
         "marker": {
          "color": [
           "#665869",
           "#665869",
           "#665869",
           "#665869",
           "#665869",
           "#665869",
           "#665869",
           "#665869"
          ]
         },
         "text": "Access to electricity in rural area in 2013",
         "textposition": "outside",
         "type": "bar",
         "x": [
          "India",
          "Philippines",
          "Malaysia",
          "SriLanka",
          "Japan",
          "Germany",
          "Australia",
          "Switzerland"
         ],
         "xaxis": "x",
         "y": [
          73.66351,
          81.89969,
          99.73659,
          88.46478,
          100,
          100,
          100,
          100
         ],
         "yaxis": "y"
        },
        {
         "marker": {
          "color": [
           "#a7b9ff",
           "#a7b9ff",
           "#a7b9ff",
           "#a7b9ff",
           "#a7b9ff",
           "#a7b9ff",
           "#a7b9ff",
           "#a7b9ff"
          ]
         },
         "text": "Access to electricity in rural area in 2014",
         "textposition": "outside",
         "type": "bar",
         "x": [
          "India",
          "Philippines",
          "Malaysia",
          "SriLanka",
          "Japan",
          "Germany",
          "Australia",
          "Switzerland"
         ],
         "xaxis": "x",
         "y": [
          77.30267,
          84.73976,
          99.9605,
          90.9854,
          100,
          100,
          100,
          100
         ],
         "yaxis": "y"
        },
        {
         "marker": {
          "color": [
           "#9856eb",
           "#9856eb",
           "#9856eb",
           "#9856eb",
           "#9856eb",
           "#9856eb",
           "#9856eb",
           "#9856eb"
          ]
         },
         "text": " Access to electricity in rural area in 2015 ",
         "textposition": "outside",
         "type": "bar",
         "x": [
          "India",
          "Philippines",
          "Malaysia",
          "SriLanka",
          "Japan",
          "Germany",
          "Australia",
          "Switzerland"
         ],
         "xaxis": "x",
         "y": [
          83.36793,
          83.19498,
          100,
          93.07926,
          100,
          100,
          100,
          100
         ],
         "yaxis": "y"
        },
        {
         "marker": {
          "color": [
           "#fc7f2b",
           "#fc7f2b",
           "#fc7f2b",
           "#fc7f2b",
           "#fc7f2b",
           "#fc7f2b",
           "#fc7f2b",
           "#fc7f2b"
          ]
         },
         "text": "Access to electricity in rural area in 2016 ",
         "textposition": "outside",
         "type": "bar",
         "x": [
          "India",
          "Philippines",
          "Malaysia",
          "SriLanka",
          "Japan",
          "Germany",
          "Australia",
          "Switzerland"
         ],
         "xaxis": "x",
         "y": [
          85.36613,
          88.57234,
          100,
          97.16377,
          100,
          100,
          100,
          100
         ],
         "yaxis": "y"
        },
        {
         "marker": {
          "color": [
           "violet",
           "violet",
           "violet",
           "violet",
           "violet",
           "violet",
           "violet",
           "violet"
          ]
         },
         "text": "Access to electricity in rural area in 2017 ",
         "textposition": "outside",
         "type": "bar",
         "x": [
          "India",
          "Philippines",
          "Malaysia",
          "SriLanka",
          "Japan",
          "Germany",
          "Australia",
          "Switzerland"
         ],
         "xaxis": "x",
         "y": [
          89.31665,
          90.02317,
          100,
          96.98971,
          100,
          100,
          100,
          100
         ],
         "yaxis": "y"
        }
       ],
       "layout": {
        "template": {
         "data": {
          "bar": [
           {
            "error_x": {
             "color": "#2a3f5f"
            },
            "error_y": {
             "color": "#2a3f5f"
            },
            "marker": {
             "line": {
              "color": "#E5ECF6",
              "width": 0.5
             }
            },
            "type": "bar"
           }
          ],
          "barpolar": [
           {
            "marker": {
             "line": {
              "color": "#E5ECF6",
              "width": 0.5
             }
            },
            "type": "barpolar"
           }
          ],
          "carpet": [
           {
            "aaxis": {
             "endlinecolor": "#2a3f5f",
             "gridcolor": "white",
             "linecolor": "white",
             "minorgridcolor": "white",
             "startlinecolor": "#2a3f5f"
            },
            "baxis": {
             "endlinecolor": "#2a3f5f",
             "gridcolor": "white",
             "linecolor": "white",
             "minorgridcolor": "white",
             "startlinecolor": "#2a3f5f"
            },
            "type": "carpet"
           }
          ],
          "choropleth": [
           {
            "colorbar": {
             "outlinewidth": 0,
             "ticks": ""
            },
            "type": "choropleth"
           }
          ],
          "contour": [
           {
            "colorbar": {
             "outlinewidth": 0,
             "ticks": ""
            },
            "colorscale": [
             [
              0,
              "#0d0887"
             ],
             [
              0.1111111111111111,
              "#46039f"
             ],
             [
              0.2222222222222222,
              "#7201a8"
             ],
             [
              0.3333333333333333,
              "#9c179e"
             ],
             [
              0.4444444444444444,
              "#bd3786"
             ],
             [
              0.5555555555555556,
              "#d8576b"
             ],
             [
              0.6666666666666666,
              "#ed7953"
             ],
             [
              0.7777777777777778,
              "#fb9f3a"
             ],
             [
              0.8888888888888888,
              "#fdca26"
             ],
             [
              1,
              "#f0f921"
             ]
            ],
            "type": "contour"
           }
          ],
          "contourcarpet": [
           {
            "colorbar": {
             "outlinewidth": 0,
             "ticks": ""
            },
            "type": "contourcarpet"
           }
          ],
          "heatmap": [
           {
            "colorbar": {
             "outlinewidth": 0,
             "ticks": ""
            },
            "colorscale": [
             [
              0,
              "#0d0887"
             ],
             [
              0.1111111111111111,
              "#46039f"
             ],
             [
              0.2222222222222222,
              "#7201a8"
             ],
             [
              0.3333333333333333,
              "#9c179e"
             ],
             [
              0.4444444444444444,
              "#bd3786"
             ],
             [
              0.5555555555555556,
              "#d8576b"
             ],
             [
              0.6666666666666666,
              "#ed7953"
             ],
             [
              0.7777777777777778,
              "#fb9f3a"
             ],
             [
              0.8888888888888888,
              "#fdca26"
             ],
             [
              1,
              "#f0f921"
             ]
            ],
            "type": "heatmap"
           }
          ],
          "heatmapgl": [
           {
            "colorbar": {
             "outlinewidth": 0,
             "ticks": ""
            },
            "colorscale": [
             [
              0,
              "#0d0887"
             ],
             [
              0.1111111111111111,
              "#46039f"
             ],
             [
              0.2222222222222222,
              "#7201a8"
             ],
             [
              0.3333333333333333,
              "#9c179e"
             ],
             [
              0.4444444444444444,
              "#bd3786"
             ],
             [
              0.5555555555555556,
              "#d8576b"
             ],
             [
              0.6666666666666666,
              "#ed7953"
             ],
             [
              0.7777777777777778,
              "#fb9f3a"
             ],
             [
              0.8888888888888888,
              "#fdca26"
             ],
             [
              1,
              "#f0f921"
             ]
            ],
            "type": "heatmapgl"
           }
          ],
          "histogram": [
           {
            "marker": {
             "colorbar": {
              "outlinewidth": 0,
              "ticks": ""
             }
            },
            "type": "histogram"
           }
          ],
          "histogram2d": [
           {
            "colorbar": {
             "outlinewidth": 0,
             "ticks": ""
            },
            "colorscale": [
             [
              0,
              "#0d0887"
             ],
             [
              0.1111111111111111,
              "#46039f"
             ],
             [
              0.2222222222222222,
              "#7201a8"
             ],
             [
              0.3333333333333333,
              "#9c179e"
             ],
             [
              0.4444444444444444,
              "#bd3786"
             ],
             [
              0.5555555555555556,
              "#d8576b"
             ],
             [
              0.6666666666666666,
              "#ed7953"
             ],
             [
              0.7777777777777778,
              "#fb9f3a"
             ],
             [
              0.8888888888888888,
              "#fdca26"
             ],
             [
              1,
              "#f0f921"
             ]
            ],
            "type": "histogram2d"
           }
          ],
          "histogram2dcontour": [
           {
            "colorbar": {
             "outlinewidth": 0,
             "ticks": ""
            },
            "colorscale": [
             [
              0,
              "#0d0887"
             ],
             [
              0.1111111111111111,
              "#46039f"
             ],
             [
              0.2222222222222222,
              "#7201a8"
             ],
             [
              0.3333333333333333,
              "#9c179e"
             ],
             [
              0.4444444444444444,
              "#bd3786"
             ],
             [
              0.5555555555555556,
              "#d8576b"
             ],
             [
              0.6666666666666666,
              "#ed7953"
             ],
             [
              0.7777777777777778,
              "#fb9f3a"
             ],
             [
              0.8888888888888888,
              "#fdca26"
             ],
             [
              1,
              "#f0f921"
             ]
            ],
            "type": "histogram2dcontour"
           }
          ],
          "mesh3d": [
           {
            "colorbar": {
             "outlinewidth": 0,
             "ticks": ""
            },
            "type": "mesh3d"
           }
          ],
          "parcoords": [
           {
            "line": {
             "colorbar": {
              "outlinewidth": 0,
              "ticks": ""
             }
            },
            "type": "parcoords"
           }
          ],
          "pie": [
           {
            "automargin": true,
            "type": "pie"
           }
          ],
          "scatter": [
           {
            "marker": {
             "colorbar": {
              "outlinewidth": 0,
              "ticks": ""
             }
            },
            "type": "scatter"
           }
          ],
          "scatter3d": [
           {
            "line": {
             "colorbar": {
              "outlinewidth": 0,
              "ticks": ""
             }
            },
            "marker": {
             "colorbar": {
              "outlinewidth": 0,
              "ticks": ""
             }
            },
            "type": "scatter3d"
           }
          ],
          "scattercarpet": [
           {
            "marker": {
             "colorbar": {
              "outlinewidth": 0,
              "ticks": ""
             }
            },
            "type": "scattercarpet"
           }
          ],
          "scattergeo": [
           {
            "marker": {
             "colorbar": {
              "outlinewidth": 0,
              "ticks": ""
             }
            },
            "type": "scattergeo"
           }
          ],
          "scattergl": [
           {
            "marker": {
             "colorbar": {
              "outlinewidth": 0,
              "ticks": ""
             }
            },
            "type": "scattergl"
           }
          ],
          "scattermapbox": [
           {
            "marker": {
             "colorbar": {
              "outlinewidth": 0,
              "ticks": ""
             }
            },
            "type": "scattermapbox"
           }
          ],
          "scatterpolar": [
           {
            "marker": {
             "colorbar": {
              "outlinewidth": 0,
              "ticks": ""
             }
            },
            "type": "scatterpolar"
           }
          ],
          "scatterpolargl": [
           {
            "marker": {
             "colorbar": {
              "outlinewidth": 0,
              "ticks": ""
             }
            },
            "type": "scatterpolargl"
           }
          ],
          "scatterternary": [
           {
            "marker": {
             "colorbar": {
              "outlinewidth": 0,
              "ticks": ""
             }
            },
            "type": "scatterternary"
           }
          ],
          "surface": [
           {
            "colorbar": {
             "outlinewidth": 0,
             "ticks": ""
            },
            "colorscale": [
             [
              0,
              "#0d0887"
             ],
             [
              0.1111111111111111,
              "#46039f"
             ],
             [
              0.2222222222222222,
              "#7201a8"
             ],
             [
              0.3333333333333333,
              "#9c179e"
             ],
             [
              0.4444444444444444,
              "#bd3786"
             ],
             [
              0.5555555555555556,
              "#d8576b"
             ],
             [
              0.6666666666666666,
              "#ed7953"
             ],
             [
              0.7777777777777778,
              "#fb9f3a"
             ],
             [
              0.8888888888888888,
              "#fdca26"
             ],
             [
              1,
              "#f0f921"
             ]
            ],
            "type": "surface"
           }
          ],
          "table": [
           {
            "cells": {
             "fill": {
              "color": "#EBF0F8"
             },
             "line": {
              "color": "white"
             }
            },
            "header": {
             "fill": {
              "color": "#C8D4E3"
             },
             "line": {
              "color": "white"
             }
            },
            "type": "table"
           }
          ]
         },
         "layout": {
          "annotationdefaults": {
           "arrowcolor": "#2a3f5f",
           "arrowhead": 0,
           "arrowwidth": 1
          },
          "coloraxis": {
           "colorbar": {
            "outlinewidth": 0,
            "ticks": ""
           }
          },
          "colorscale": {
           "diverging": [
            [
             0,
             "#8e0152"
            ],
            [
             0.1,
             "#c51b7d"
            ],
            [
             0.2,
             "#de77ae"
            ],
            [
             0.3,
             "#f1b6da"
            ],
            [
             0.4,
             "#fde0ef"
            ],
            [
             0.5,
             "#f7f7f7"
            ],
            [
             0.6,
             "#e6f5d0"
            ],
            [
             0.7,
             "#b8e186"
            ],
            [
             0.8,
             "#7fbc41"
            ],
            [
             0.9,
             "#4d9221"
            ],
            [
             1,
             "#276419"
            ]
           ],
           "sequential": [
            [
             0,
             "#0d0887"
            ],
            [
             0.1111111111111111,
             "#46039f"
            ],
            [
             0.2222222222222222,
             "#7201a8"
            ],
            [
             0.3333333333333333,
             "#9c179e"
            ],
            [
             0.4444444444444444,
             "#bd3786"
            ],
            [
             0.5555555555555556,
             "#d8576b"
            ],
            [
             0.6666666666666666,
             "#ed7953"
            ],
            [
             0.7777777777777778,
             "#fb9f3a"
            ],
            [
             0.8888888888888888,
             "#fdca26"
            ],
            [
             1,
             "#f0f921"
            ]
           ],
           "sequentialminus": [
            [
             0,
             "#0d0887"
            ],
            [
             0.1111111111111111,
             "#46039f"
            ],
            [
             0.2222222222222222,
             "#7201a8"
            ],
            [
             0.3333333333333333,
             "#9c179e"
            ],
            [
             0.4444444444444444,
             "#bd3786"
            ],
            [
             0.5555555555555556,
             "#d8576b"
            ],
            [
             0.6666666666666666,
             "#ed7953"
            ],
            [
             0.7777777777777778,
             "#fb9f3a"
            ],
            [
             0.8888888888888888,
             "#fdca26"
            ],
            [
             1,
             "#f0f921"
            ]
           ]
          },
          "colorway": [
           "#636efa",
           "#EF553B",
           "#00cc96",
           "#ab63fa",
           "#FFA15A",
           "#19d3f3",
           "#FF6692",
           "#B6E880",
           "#FF97FF",
           "#FECB52"
          ],
          "font": {
           "color": "#2a3f5f"
          },
          "geo": {
           "bgcolor": "white",
           "lakecolor": "white",
           "landcolor": "#E5ECF6",
           "showlakes": true,
           "showland": true,
           "subunitcolor": "white"
          },
          "hoverlabel": {
           "align": "left"
          },
          "hovermode": "closest",
          "mapbox": {
           "style": "light"
          },
          "paper_bgcolor": "white",
          "plot_bgcolor": "#E5ECF6",
          "polar": {
           "angularaxis": {
            "gridcolor": "white",
            "linecolor": "white",
            "ticks": ""
           },
           "bgcolor": "#E5ECF6",
           "radialaxis": {
            "gridcolor": "white",
            "linecolor": "white",
            "ticks": ""
           }
          },
          "scene": {
           "xaxis": {
            "backgroundcolor": "#E5ECF6",
            "gridcolor": "white",
            "gridwidth": 2,
            "linecolor": "white",
            "showbackground": true,
            "ticks": "",
            "zerolinecolor": "white"
           },
           "yaxis": {
            "backgroundcolor": "#E5ECF6",
            "gridcolor": "white",
            "gridwidth": 2,
            "linecolor": "white",
            "showbackground": true,
            "ticks": "",
            "zerolinecolor": "white"
           },
           "zaxis": {
            "backgroundcolor": "#E5ECF6",
            "gridcolor": "white",
            "gridwidth": 2,
            "linecolor": "white",
            "showbackground": true,
            "ticks": "",
            "zerolinecolor": "white"
           }
          },
          "shapedefaults": {
           "line": {
            "color": "#2a3f5f"
           }
          },
          "ternary": {
           "aaxis": {
            "gridcolor": "white",
            "linecolor": "white",
            "ticks": ""
           },
           "baxis": {
            "gridcolor": "white",
            "linecolor": "white",
            "ticks": ""
           },
           "bgcolor": "#E5ECF6",
           "caxis": {
            "gridcolor": "white",
            "linecolor": "white",
            "ticks": ""
           }
          },
          "title": {
           "x": 0.05
          },
          "xaxis": {
           "automargin": true,
           "gridcolor": "white",
           "linecolor": "white",
           "ticks": "",
           "title": {
            "standoff": 15
           },
           "zerolinecolor": "white",
           "zerolinewidth": 2
          },
          "yaxis": {
           "automargin": true,
           "gridcolor": "white",
           "linecolor": "white",
           "ticks": "",
           "title": {
            "standoff": 15
           },
           "zerolinecolor": "white",
           "zerolinewidth": 2
          }
         }
        },
        "updatemenus": [
         {
          "buttons": [
           {
            "args": [
             {
              "visible": [
               false,
               false,
               false,
               false,
               false,
               false,
               false,
               false,
               false,
               false
              ]
             }
            ],
            "label": "Select Year",
            "method": "update"
           },
           {
            "args": [
             {
              "visible": [
               true,
               false,
               false,
               false,
               false,
               false,
               false,
               false,
               false,
               false
              ]
             }
            ],
            "label": "2008",
            "method": "update"
           },
           {
            "args": [
             {
              "visible": [
               false,
               true,
               false,
               false,
               false,
               false,
               false,
               false,
               false,
               false
              ]
             }
            ],
            "label": "2009",
            "method": "update"
           },
           {
            "args": [
             {
              "visible": [
               false,
               false,
               true,
               false,
               false,
               false,
               false,
               false,
               false,
               false
              ]
             }
            ],
            "label": "2010",
            "method": "update"
           },
           {
            "args": [
             {
              "visible": [
               false,
               false,
               false,
               true,
               false,
               false,
               false,
               false,
               false,
               false
              ]
             }
            ],
            "label": "2011",
            "method": "update"
           },
           {
            "args": [
             {
              "visible": [
               false,
               false,
               false,
               false,
               true,
               false,
               false,
               false,
               false,
               false
              ]
             }
            ],
            "label": "2012",
            "method": "update"
           },
           {
            "args": [
             {
              "visible": [
               false,
               false,
               false,
               false,
               false,
               true,
               false,
               false,
               false,
               false
              ]
             }
            ],
            "label": "2013",
            "method": "update"
           },
           {
            "args": [
             {
              "visible": [
               false,
               false,
               false,
               false,
               false,
               false,
               true,
               false,
               false,
               false
              ]
             }
            ],
            "label": "2014",
            "method": "update"
           },
           {
            "args": [
             {
              "visible": [
               false,
               false,
               false,
               false,
               false,
               false,
               false,
               true,
               false,
               false
              ]
             }
            ],
            "label": "2015",
            "method": "update"
           },
           {
            "args": [
             {
              "visible": [
               false,
               false,
               false,
               false,
               false,
               false,
               false,
               false,
               true,
               false
              ]
             }
            ],
            "label": "2016",
            "method": "update"
           },
           {
            "args": [
             {
              "visible": [
               false,
               false,
               false,
               false,
               false,
               false,
               false,
               false,
               false,
               true
              ]
             }
            ],
            "label": "2017",
            "method": "update"
           }
          ],
          "x": -0.01,
          "y": 1.1
         }
        ],
        "xaxis": {
         "anchor": "y",
         "domain": [
          0,
          1
         ]
        },
        "yaxis": {
         "anchor": "x",
         "domain": [
          0,
          1
         ]
        }
       }
      },
      "text/html": [
       "<div>                            <div id=\"01195b93-dba9-441d-81cd-ba8b540ab38b\" class=\"plotly-graph-div\" style=\"height:525px; width:100%;\"></div>            <script type=\"text/javascript\">                require([\"plotly\"], function(Plotly) {                    window.PLOTLYENV=window.PLOTLYENV || {};                                    if (document.getElementById(\"01195b93-dba9-441d-81cd-ba8b540ab38b\")) {                    Plotly.newPlot(                        \"01195b93-dba9-441d-81cd-ba8b540ab38b\",                        [{\"marker\": {\"color\": [\"green\", \"green\", \"green\", \"green\", \"green\", \"green\", \"green\", \"green\"]}, \"text\": \"Access to electricity in rural area in 2008\", \"textposition\": \"outside\", \"type\": \"bar\", \"x\": [\"India\", \"Philippines\", \"Malaysia\", \"SriLanka\", \"Japan\", \"Germany\", \"Australia\", \"Switzerland\"], \"xaxis\": \"x\", \"y\": [63.43433, 74.63317, 95.52333, 79.59493, 100, 100, 100, 100], \"yaxis\": \"y\"}, {\"marker\": {\"color\": [\"dodgerblue\", \"dodgerblue\", \"dodgerblue\", \"dodgerblue\", \"dodgerblue\", \"dodgerblue\", \"dodgerblue\", \"dodgerblue\"]}, \"text\": \"Access to electricity in rural area in 2009 \", \"textposition\": \"outside\", \"type\": \"bar\", \"x\": [\"India\", \"Philippines\", \"Malaysia\", \"SriLanka\", \"Japan\", \"Germany\", \"Australia\", \"Switzerland\"], \"xaxis\": \"x\", \"y\": [65.70224, 76.38853, 97.89499, 81.38262, 100, 100, 100, 100], \"yaxis\": \"y\"}, {\"marker\": {\"color\": [\"blue\", \"blue\", \"blue\", \"blue\", \"blue\", \"blue\", \"blue\", \"blue\"]}, \"text\": \"Access to electricity in rural area in 2010 \", \"textposition\": \"outside\", \"type\": \"bar\", \"x\": [\"India\", \"Philippines\", \"Malaysia\", \"SriLanka\", \"Japan\", \"Germany\", \"Australia\", \"Switzerland\"], \"xaxis\": \"x\", \"y\": [68.37382, 78.08313, 98.08235, 83.00431, 100, 100, 100, 100], \"yaxis\": \"y\"}, {\"marker\": {\"color\": [\"rgb(255, 0, 191)\", \"rgb(255, 0, 191)\", \"rgb(255, 0, 191)\", \"rgb(255, 0, 191)\", \"rgb(255, 0, 191)\", \"rgb(255, 0, 191)\", \"rgb(255, 0, 191)\", \"rgb(255, 0, 191)\"]}, \"text\": \"Access to electricity in rural area in 2011 \", \"textposition\": \"outside\", \"type\": \"bar\", \"x\": [\"India\", \"Philippines\", \"Malaysia\", \"SriLanka\", \"Japan\", \"Germany\", \"Australia\", \"Switzerland\"], \"xaxis\": \"x\", \"y\": [56.08608, 81.2667, 98.56712, 85.74049, 100, 100, 100, 100], \"yaxis\": \"y\"}, {\"marker\": {\"color\": [\"#66FFCC\", \"#66FFCC\", \"#66FFCC\", \"#66FFCC\", \"#66FFCC\", \"#66FFCC\", \"#66FFCC\", \"#66FFCC\"]}, \"text\": \"Access to electricity in rural area in 2012 \", \"textposition\": \"outside\", \"type\": \"bar\", \"x\": [\"India\", \"Philippines\", \"Malaysia\", \"SriLanka\", \"Japan\", \"Germany\", \"Australia\", \"Switzerland\"], \"xaxis\": \"x\", \"y\": [72.40401, 81.21015, 99.53931, 84.706, 100, 100, 100, 100], \"yaxis\": \"y\"}, {\"marker\": {\"color\": [\"#665869\", \"#665869\", \"#665869\", \"#665869\", \"#665869\", \"#665869\", \"#665869\", \"#665869\"]}, \"text\": \"Access to electricity in rural area in 2013\", \"textposition\": \"outside\", \"type\": \"bar\", \"x\": [\"India\", \"Philippines\", \"Malaysia\", \"SriLanka\", \"Japan\", \"Germany\", \"Australia\", \"Switzerland\"], \"xaxis\": \"x\", \"y\": [73.66351, 81.89969, 99.73659, 88.46478, 100, 100, 100, 100], \"yaxis\": \"y\"}, {\"marker\": {\"color\": [\"#a7b9ff\", \"#a7b9ff\", \"#a7b9ff\", \"#a7b9ff\", \"#a7b9ff\", \"#a7b9ff\", \"#a7b9ff\", \"#a7b9ff\"]}, \"text\": \"Access to electricity in rural area in 2014\", \"textposition\": \"outside\", \"type\": \"bar\", \"x\": [\"India\", \"Philippines\", \"Malaysia\", \"SriLanka\", \"Japan\", \"Germany\", \"Australia\", \"Switzerland\"], \"xaxis\": \"x\", \"y\": [77.30267, 84.73976, 99.9605, 90.9854, 100, 100, 100, 100], \"yaxis\": \"y\"}, {\"marker\": {\"color\": [\"#9856eb\", \"#9856eb\", \"#9856eb\", \"#9856eb\", \"#9856eb\", \"#9856eb\", \"#9856eb\", \"#9856eb\"]}, \"text\": \" Access to electricity in rural area in 2015 \", \"textposition\": \"outside\", \"type\": \"bar\", \"x\": [\"India\", \"Philippines\", \"Malaysia\", \"SriLanka\", \"Japan\", \"Germany\", \"Australia\", \"Switzerland\"], \"xaxis\": \"x\", \"y\": [83.36793, 83.19498, 100, 93.07926, 100, 100, 100, 100], \"yaxis\": \"y\"}, {\"marker\": {\"color\": [\"#fc7f2b\", \"#fc7f2b\", \"#fc7f2b\", \"#fc7f2b\", \"#fc7f2b\", \"#fc7f2b\", \"#fc7f2b\", \"#fc7f2b\"]}, \"text\": \"Access to electricity in rural area in 2016 \", \"textposition\": \"outside\", \"type\": \"bar\", \"x\": [\"India\", \"Philippines\", \"Malaysia\", \"SriLanka\", \"Japan\", \"Germany\", \"Australia\", \"Switzerland\"], \"xaxis\": \"x\", \"y\": [85.36613, 88.57234, 100, 97.16377, 100, 100, 100, 100], \"yaxis\": \"y\"}, {\"marker\": {\"color\": [\"violet\", \"violet\", \"violet\", \"violet\", \"violet\", \"violet\", \"violet\", \"violet\"]}, \"text\": \"Access to electricity in rural area in 2017 \", \"textposition\": \"outside\", \"type\": \"bar\", \"x\": [\"India\", \"Philippines\", \"Malaysia\", \"SriLanka\", \"Japan\", \"Germany\", \"Australia\", \"Switzerland\"], \"xaxis\": \"x\", \"y\": [89.31665, 90.02317, 100, 96.98971, 100, 100, 100, 100], \"yaxis\": \"y\"}],                        {\"template\": {\"data\": {\"bar\": [{\"error_x\": {\"color\": \"#2a3f5f\"}, \"error_y\": {\"color\": \"#2a3f5f\"}, \"marker\": {\"line\": {\"color\": \"#E5ECF6\", \"width\": 0.5}}, \"type\": \"bar\"}], \"barpolar\": [{\"marker\": {\"line\": {\"color\": \"#E5ECF6\", \"width\": 0.5}}, \"type\": \"barpolar\"}], \"carpet\": [{\"aaxis\": {\"endlinecolor\": \"#2a3f5f\", \"gridcolor\": \"white\", \"linecolor\": \"white\", \"minorgridcolor\": \"white\", \"startlinecolor\": \"#2a3f5f\"}, \"baxis\": {\"endlinecolor\": \"#2a3f5f\", \"gridcolor\": \"white\", \"linecolor\": \"white\", \"minorgridcolor\": \"white\", \"startlinecolor\": \"#2a3f5f\"}, \"type\": \"carpet\"}], \"choropleth\": [{\"colorbar\": {\"outlinewidth\": 0, \"ticks\": \"\"}, \"type\": \"choropleth\"}], \"contour\": [{\"colorbar\": {\"outlinewidth\": 0, \"ticks\": \"\"}, \"colorscale\": [[0.0, \"#0d0887\"], [0.1111111111111111, \"#46039f\"], [0.2222222222222222, \"#7201a8\"], [0.3333333333333333, \"#9c179e\"], [0.4444444444444444, \"#bd3786\"], [0.5555555555555556, \"#d8576b\"], [0.6666666666666666, \"#ed7953\"], [0.7777777777777778, \"#fb9f3a\"], [0.8888888888888888, \"#fdca26\"], [1.0, \"#f0f921\"]], \"type\": \"contour\"}], \"contourcarpet\": [{\"colorbar\": {\"outlinewidth\": 0, \"ticks\": \"\"}, \"type\": \"contourcarpet\"}], \"heatmap\": [{\"colorbar\": {\"outlinewidth\": 0, \"ticks\": \"\"}, \"colorscale\": [[0.0, \"#0d0887\"], [0.1111111111111111, \"#46039f\"], [0.2222222222222222, \"#7201a8\"], [0.3333333333333333, \"#9c179e\"], [0.4444444444444444, \"#bd3786\"], [0.5555555555555556, \"#d8576b\"], [0.6666666666666666, \"#ed7953\"], [0.7777777777777778, \"#fb9f3a\"], [0.8888888888888888, \"#fdca26\"], [1.0, \"#f0f921\"]], \"type\": \"heatmap\"}], \"heatmapgl\": [{\"colorbar\": {\"outlinewidth\": 0, \"ticks\": \"\"}, \"colorscale\": [[0.0, \"#0d0887\"], [0.1111111111111111, \"#46039f\"], [0.2222222222222222, \"#7201a8\"], [0.3333333333333333, \"#9c179e\"], [0.4444444444444444, \"#bd3786\"], [0.5555555555555556, \"#d8576b\"], [0.6666666666666666, \"#ed7953\"], [0.7777777777777778, \"#fb9f3a\"], [0.8888888888888888, \"#fdca26\"], [1.0, \"#f0f921\"]], \"type\": \"heatmapgl\"}], \"histogram\": [{\"marker\": {\"colorbar\": {\"outlinewidth\": 0, \"ticks\": \"\"}}, \"type\": \"histogram\"}], \"histogram2d\": [{\"colorbar\": {\"outlinewidth\": 0, \"ticks\": \"\"}, \"colorscale\": [[0.0, \"#0d0887\"], [0.1111111111111111, \"#46039f\"], [0.2222222222222222, \"#7201a8\"], [0.3333333333333333, \"#9c179e\"], [0.4444444444444444, \"#bd3786\"], [0.5555555555555556, \"#d8576b\"], [0.6666666666666666, \"#ed7953\"], [0.7777777777777778, \"#fb9f3a\"], [0.8888888888888888, \"#fdca26\"], [1.0, \"#f0f921\"]], \"type\": \"histogram2d\"}], \"histogram2dcontour\": [{\"colorbar\": {\"outlinewidth\": 0, \"ticks\": \"\"}, \"colorscale\": [[0.0, \"#0d0887\"], [0.1111111111111111, \"#46039f\"], [0.2222222222222222, \"#7201a8\"], [0.3333333333333333, \"#9c179e\"], [0.4444444444444444, \"#bd3786\"], [0.5555555555555556, \"#d8576b\"], [0.6666666666666666, \"#ed7953\"], [0.7777777777777778, \"#fb9f3a\"], [0.8888888888888888, \"#fdca26\"], [1.0, \"#f0f921\"]], \"type\": \"histogram2dcontour\"}], \"mesh3d\": [{\"colorbar\": {\"outlinewidth\": 0, \"ticks\": \"\"}, \"type\": \"mesh3d\"}], \"parcoords\": [{\"line\": {\"colorbar\": {\"outlinewidth\": 0, \"ticks\": \"\"}}, \"type\": \"parcoords\"}], \"pie\": [{\"automargin\": true, \"type\": \"pie\"}], \"scatter\": [{\"marker\": {\"colorbar\": {\"outlinewidth\": 0, \"ticks\": \"\"}}, \"type\": \"scatter\"}], \"scatter3d\": [{\"line\": {\"colorbar\": {\"outlinewidth\": 0, \"ticks\": \"\"}}, \"marker\": {\"colorbar\": {\"outlinewidth\": 0, \"ticks\": \"\"}}, \"type\": \"scatter3d\"}], \"scattercarpet\": [{\"marker\": {\"colorbar\": {\"outlinewidth\": 0, \"ticks\": \"\"}}, \"type\": \"scattercarpet\"}], \"scattergeo\": [{\"marker\": {\"colorbar\": {\"outlinewidth\": 0, \"ticks\": \"\"}}, \"type\": \"scattergeo\"}], \"scattergl\": [{\"marker\": {\"colorbar\": {\"outlinewidth\": 0, \"ticks\": \"\"}}, \"type\": \"scattergl\"}], \"scattermapbox\": [{\"marker\": {\"colorbar\": {\"outlinewidth\": 0, \"ticks\": \"\"}}, \"type\": \"scattermapbox\"}], \"scatterpolar\": [{\"marker\": {\"colorbar\": {\"outlinewidth\": 0, \"ticks\": \"\"}}, \"type\": \"scatterpolar\"}], \"scatterpolargl\": [{\"marker\": {\"colorbar\": {\"outlinewidth\": 0, \"ticks\": \"\"}}, \"type\": \"scatterpolargl\"}], \"scatterternary\": [{\"marker\": {\"colorbar\": {\"outlinewidth\": 0, \"ticks\": \"\"}}, \"type\": \"scatterternary\"}], \"surface\": [{\"colorbar\": {\"outlinewidth\": 0, \"ticks\": \"\"}, \"colorscale\": [[0.0, \"#0d0887\"], [0.1111111111111111, \"#46039f\"], [0.2222222222222222, \"#7201a8\"], [0.3333333333333333, \"#9c179e\"], [0.4444444444444444, \"#bd3786\"], [0.5555555555555556, \"#d8576b\"], [0.6666666666666666, \"#ed7953\"], [0.7777777777777778, \"#fb9f3a\"], [0.8888888888888888, \"#fdca26\"], [1.0, \"#f0f921\"]], \"type\": \"surface\"}], \"table\": [{\"cells\": {\"fill\": {\"color\": \"#EBF0F8\"}, \"line\": {\"color\": \"white\"}}, \"header\": {\"fill\": {\"color\": \"#C8D4E3\"}, \"line\": {\"color\": \"white\"}}, \"type\": \"table\"}]}, \"layout\": {\"annotationdefaults\": {\"arrowcolor\": \"#2a3f5f\", \"arrowhead\": 0, \"arrowwidth\": 1}, \"coloraxis\": {\"colorbar\": {\"outlinewidth\": 0, \"ticks\": \"\"}}, \"colorscale\": {\"diverging\": [[0, \"#8e0152\"], [0.1, \"#c51b7d\"], [0.2, \"#de77ae\"], [0.3, \"#f1b6da\"], [0.4, \"#fde0ef\"], [0.5, \"#f7f7f7\"], [0.6, \"#e6f5d0\"], [0.7, \"#b8e186\"], [0.8, \"#7fbc41\"], [0.9, \"#4d9221\"], [1, \"#276419\"]], \"sequential\": [[0.0, \"#0d0887\"], [0.1111111111111111, \"#46039f\"], [0.2222222222222222, \"#7201a8\"], [0.3333333333333333, \"#9c179e\"], [0.4444444444444444, \"#bd3786\"], [0.5555555555555556, \"#d8576b\"], [0.6666666666666666, \"#ed7953\"], [0.7777777777777778, \"#fb9f3a\"], [0.8888888888888888, \"#fdca26\"], [1.0, \"#f0f921\"]], \"sequentialminus\": [[0.0, \"#0d0887\"], [0.1111111111111111, \"#46039f\"], [0.2222222222222222, \"#7201a8\"], [0.3333333333333333, \"#9c179e\"], [0.4444444444444444, \"#bd3786\"], [0.5555555555555556, \"#d8576b\"], [0.6666666666666666, \"#ed7953\"], [0.7777777777777778, \"#fb9f3a\"], [0.8888888888888888, \"#fdca26\"], [1.0, \"#f0f921\"]]}, \"colorway\": [\"#636efa\", \"#EF553B\", \"#00cc96\", \"#ab63fa\", \"#FFA15A\", \"#19d3f3\", \"#FF6692\", \"#B6E880\", \"#FF97FF\", \"#FECB52\"], \"font\": {\"color\": \"#2a3f5f\"}, \"geo\": {\"bgcolor\": \"white\", \"lakecolor\": \"white\", \"landcolor\": \"#E5ECF6\", \"showlakes\": true, \"showland\": true, \"subunitcolor\": \"white\"}, \"hoverlabel\": {\"align\": \"left\"}, \"hovermode\": \"closest\", \"mapbox\": {\"style\": \"light\"}, \"paper_bgcolor\": \"white\", \"plot_bgcolor\": \"#E5ECF6\", \"polar\": {\"angularaxis\": {\"gridcolor\": \"white\", \"linecolor\": \"white\", \"ticks\": \"\"}, \"bgcolor\": \"#E5ECF6\", \"radialaxis\": {\"gridcolor\": \"white\", \"linecolor\": \"white\", \"ticks\": \"\"}}, \"scene\": {\"xaxis\": {\"backgroundcolor\": \"#E5ECF6\", \"gridcolor\": \"white\", \"gridwidth\": 2, \"linecolor\": \"white\", \"showbackground\": true, \"ticks\": \"\", \"zerolinecolor\": \"white\"}, \"yaxis\": {\"backgroundcolor\": \"#E5ECF6\", \"gridcolor\": \"white\", \"gridwidth\": 2, \"linecolor\": \"white\", \"showbackground\": true, \"ticks\": \"\", \"zerolinecolor\": \"white\"}, \"zaxis\": {\"backgroundcolor\": \"#E5ECF6\", \"gridcolor\": \"white\", \"gridwidth\": 2, \"linecolor\": \"white\", \"showbackground\": true, \"ticks\": \"\", \"zerolinecolor\": \"white\"}}, \"shapedefaults\": {\"line\": {\"color\": \"#2a3f5f\"}}, \"ternary\": {\"aaxis\": {\"gridcolor\": \"white\", \"linecolor\": \"white\", \"ticks\": \"\"}, \"baxis\": {\"gridcolor\": \"white\", \"linecolor\": \"white\", \"ticks\": \"\"}, \"bgcolor\": \"#E5ECF6\", \"caxis\": {\"gridcolor\": \"white\", \"linecolor\": \"white\", \"ticks\": \"\"}}, \"title\": {\"x\": 0.05}, \"xaxis\": {\"automargin\": true, \"gridcolor\": \"white\", \"linecolor\": \"white\", \"ticks\": \"\", \"title\": {\"standoff\": 15}, \"zerolinecolor\": \"white\", \"zerolinewidth\": 2}, \"yaxis\": {\"automargin\": true, \"gridcolor\": \"white\", \"linecolor\": \"white\", \"ticks\": \"\", \"title\": {\"standoff\": 15}, \"zerolinecolor\": \"white\", \"zerolinewidth\": 2}}}, \"updatemenus\": [{\"buttons\": [{\"args\": [{\"visible\": [false, false, false, false, false, false, false, false, false, false]}], \"label\": \"Select Year\", \"method\": \"update\"}, {\"args\": [{\"visible\": [true, false, false, false, false, false, false, false, false, false]}], \"label\": \"2008\", \"method\": \"update\"}, {\"args\": [{\"visible\": [false, true, false, false, false, false, false, false, false, false]}], \"label\": \"2009\", \"method\": \"update\"}, {\"args\": [{\"visible\": [false, false, true, false, false, false, false, false, false, false]}], \"label\": \"2010\", \"method\": \"update\"}, {\"args\": [{\"visible\": [false, false, false, true, false, false, false, false, false, false]}], \"label\": \"2011\", \"method\": \"update\"}, {\"args\": [{\"visible\": [false, false, false, false, true, false, false, false, false, false]}], \"label\": \"2012\", \"method\": \"update\"}, {\"args\": [{\"visible\": [false, false, false, false, false, true, false, false, false, false]}], \"label\": \"2013\", \"method\": \"update\"}, {\"args\": [{\"visible\": [false, false, false, false, false, false, true, false, false, false]}], \"label\": \"2014\", \"method\": \"update\"}, {\"args\": [{\"visible\": [false, false, false, false, false, false, false, true, false, false]}], \"label\": \"2015\", \"method\": \"update\"}, {\"args\": [{\"visible\": [false, false, false, false, false, false, false, false, true, false]}], \"label\": \"2016\", \"method\": \"update\"}, {\"args\": [{\"visible\": [false, false, false, false, false, false, false, false, false, true]}], \"label\": \"2017\", \"method\": \"update\"}], \"x\": -0.01, \"y\": 1.1}], \"xaxis\": {\"anchor\": \"y\", \"domain\": [0.0, 1.0]}, \"yaxis\": {\"anchor\": \"x\", \"domain\": [0.0, 1.0]}},                        {\"responsive\": true}                    ).then(function(){\n",
       "                            \n",
       "var gd = document.getElementById('01195b93-dba9-441d-81cd-ba8b540ab38b');\n",
       "var x = new MutationObserver(function (mutations, observer) {{\n",
       "        var display = window.getComputedStyle(gd).display;\n",
       "        if (!display || display === 'none') {{\n",
       "            console.log([gd, 'removed!']);\n",
       "            Plotly.purge(gd);\n",
       "            observer.disconnect();\n",
       "        }}\n",
       "}});\n",
       "\n",
       "// Listen for the removal of the full notebook cells\n",
       "var notebookContainer = gd.closest('#notebook-container');\n",
       "if (notebookContainer) {{\n",
       "    x.observe(notebookContainer, {childList: true});\n",
       "}}\n",
       "\n",
       "// Listen for the clearing of the current output cell\n",
       "var outputEl = gd.closest('.output');\n",
       "if (outputEl) {{\n",
       "    x.observe(outputEl, {childList: true});\n",
       "}}\n",
       "\n",
       "                        })                };                });            </script>        </div>"
      ]
     },
     "metadata": {},
     "output_type": "display_data"
    }
   ],
   "source": [
    "import pandas as pd\n",
    "import numpy as np\n",
    "import matplotlib.pyplot as plt\n",
    "import matplotlib.gridspec as gridspec\n",
    "from plotly.subplots import make_subplots\n",
    "import plotly.graph_objects as go\n",
    "\n",
    "fig1 = make_subplots(rows=1, cols=1)\n",
    "\n",
    "countries = ['India','Philippines','Malaysia','SriLanka','Japan','Germany','Australia','Switzerland']\n",
    "\n",
    "fig1.add_trace(go.Bar(x=countries,y=[63.43433,74.63317,95.52333,79.59493,100,100,100,100],text='Access to electricity in rural area in 2008',marker_color=['green','green','green','green','green','green','green','green'],\n",
    "                                                                              textposition='outside'),row=1, col=1) \n",
    "fig1.add_trace(go.Bar(x=countries,y=[65.70224,76.38853,97.89499,81.38262,100,100,100,100],text='Access to electricity in rural area in 2009 ',marker_color=['dodgerblue','dodgerblue','dodgerblue','dodgerblue','dodgerblue','dodgerblue','dodgerblue','dodgerblue'],\n",
    "                                                                              textposition='outside'),row=1, col=1) \n",
    "\n",
    "\n",
    "fig1.add_trace(go.Bar(x=countries,y=[68.37382,78.08313,98.08235,83.00431,100,100,100,100],text='Access to electricity in rural area in 2010 ',marker_color=['blue','blue','blue','blue','blue','blue','blue','blue'],\n",
    "                                                                              textposition='outside'),row=1, col=1) \n",
    "fig1.add_trace(go.Bar(x=countries,y=[56.08608,81.2667,98.56712,85.74049,100,100,100,100],text='Access to electricity in rural area in 2011 ',marker_color=['rgb(255, 0, 191)','rgb(255, 0, 191)','rgb(255, 0, 191)','rgb(255, 0, 191)','rgb(255, 0, 191)','rgb(255, 0, 191)','rgb(255, 0, 191)','rgb(255, 0, 191)'],\n",
    "                                                                              textposition='outside'),row=1, col=1) \n",
    "fig1.add_trace(go.Bar(x=countries,y=[72.40401,81.21015,99.53931,84.706,100,100,100,100],text='Access to electricity in rural area in 2012 ',marker_color=['#66FFCC','#66FFCC','#66FFCC','#66FFCC','#66FFCC','#66FFCC','#66FFCC','#66FFCC'],\n",
    "                                                                              textposition='outside'),row=1, col=1)\n",
    "\n",
    "fig1.add_trace(go.Bar(x=countries,y=[73.66351,81.89969,99.73659,88.46478,100,100,100,100],text='Access to electricity in rural area in 2013' ,marker_color=['#665869','#665869','#665869','#665869','#665869','#665869','#665869','#665869'],\n",
    "                                                                              textposition='outside'),row=1, col=1)\n",
    "fig1.add_trace(go.Bar(x=countries,y=[77.30267,84.73976,99.9605,90.9854,100,100,100,100] ,text='Access to electricity in rural area in 2014'  ,marker_color=['#a7b9ff','#a7b9ff','#a7b9ff','#a7b9ff','#a7b9ff','#a7b9ff','#a7b9ff','#a7b9ff'],\n",
    "                                                                              textposition='outside'),row=1, col=1)\n",
    "\n",
    "fig1.add_trace(go.Bar(x=countries,y=[83.36793,83.19498,100,93.07926,100,100,100,100],text=' Access to electricity in rural area in 2015 ',marker_color=['#9856eb','#9856eb','#9856eb','#9856eb','#9856eb','#9856eb','#9856eb','#9856eb'],\n",
    "                                                                              textposition='outside'),row=1, col=1)\n",
    "fig1.add_trace(go.Bar(x=countries,y=[85.36613,88.57234,100,97.16377,100,100,100,100],text='Access to electricity in rural area in 2016 ',marker_color=['#fc7f2b','#fc7f2b','#fc7f2b','#fc7f2b','#fc7f2b','#fc7f2b','#fc7f2b','#fc7f2b'],\n",
    "                                                                              textposition='outside'),row=1, col=1)\n",
    "fig1.add_trace(go.Bar(x=countries,y=[89.31665,90.02317,100,96.98971,100,100,100,100],text='Access to electricity in rural area in 2017 ',marker_color=['violet','violet','violet','violet','violet','violet','violet','violet'],\n",
    "                                                                              textposition='outside'),row=1, col=1)\n",
    "\n",
    "fig1.update_layout(\n",
    "updatemenus=[\n",
    "        dict(\n",
    "            buttons=list([\n",
    "                dict(args = [{'visible': [False, False,False, False,False, False,False, False,False,False]}],\n",
    "                    label=\"Select Year\",\n",
    "                    method=\"update\"),\n",
    "                dict(args = [{'visible': [True, False,False, False,False, False,False, False,False,False]}],\n",
    "                    label=\"2008\",\n",
    "                    method=\"update\"),\n",
    "                dict(args = [{'visible': [False, True,False, False,False, False,False, False,False,False]}],\n",
    "                    label=\"2009\",\n",
    "                    method=\"update\"),\n",
    "                dict(args = [{'visible': [False, False,True, False,False, False,False, False,False,False]}],\n",
    "                    label=\"2010\",\n",
    "                    method=\"update\"),\n",
    "                dict(args = [{'visible': [False, False,False, True,False, False,False, False,False,False]}],\n",
    "                    label=\"2011\",\n",
    "                    method=\"update\"),\n",
    "                dict(args = [{'visible': [False, False,False, False,True, False,False, False,False,False]}],\n",
    "                    label=\"2012\",\n",
    "                    method=\"update\"),\n",
    "                dict(args = [{'visible': [False, False,False, False,False, True,False, False,False,False]}],\n",
    "                    label=\"2013\",\n",
    "                    method=\"update\"),\n",
    "                dict(args = [{'visible': [False, False,False, False,False, False,True, False,False,False]}],\n",
    "                    label=\"2014\",\n",
    "                    method=\"update\"),\n",
    "                dict(args = [{'visible': [False, False,False, False,False, False,False, True,False,False]}],\n",
    "                    label=\"2015\",\n",
    "                    method=\"update\"),\n",
    "                \n",
    "                dict(args = [{'visible': [False, False,False, False,False, False,False, False,True,False]}],\n",
    "                    label=\"2016\",\n",
    "                     method=\"update\"),\n",
    "                dict(args = [{'visible': [False, False,False, False,False, False,False, False,False,True]}],\n",
    "                    label=\"2017\",\n",
    "                     method=\"update\")]), x=-0.01,y=1.1),\n",
    "      \n",
    "    ]\n",
    "    \n",
    ")\n",
    "\n",
    "fig1.show()\n",
    "                \n",
    "\n"
   ]
  },
  {
   "cell_type": "code",
   "execution_count": 6,
   "metadata": {},
   "outputs": [
    {
     "data": {
      "application/vnd.plotly.v1+json": {
       "config": {
        "plotlyServerURL": "https://plot.ly"
       },
       "data": [
        {
         "marker": {
          "color": [
           "green",
           "green",
           "green",
           "green",
           "green",
           "green",
           "green",
           "green"
          ]
         },
         "mode": "markers",
         "text": "Access to electricity in urban area in 2008",
         "type": "scatter",
         "x": [
          "India",
          "Philippines",
          "Malaysia",
          "SriLanka",
          "Japan",
          "Germany",
          "Australia",
          "Switzerland"
         ],
         "xaxis": "x",
         "y": [
          92.58417,
          93.7,
          99,
          94.64954,
          99.8395,
          99.83868,
          99.82231,
          99.83868
         ],
         "yaxis": "y"
        },
        {
         "marker": {
          "color": [
           "dodgerblue",
           "dodgerblue",
           "dodgerblue",
           "dodgerblue",
           "dodgerblue",
           "dodgerblue",
           "dodgerblue",
           "dodgerblue"
          ]
         },
         "mode": "markers",
         "text": "Access to electricity in urban area in 2009 ",
         "type": "scatter",
         "x": [
          "India",
          "Philippines",
          "Malaysia",
          "SriLanka",
          "Japan",
          "Germany",
          "Australia",
          "Switzerland"
         ],
         "xaxis": "x",
         "y": [
          96.1,
          93.36079,
          99.9,
          94.33311,
          99.88587,
          99.88495,
          99.86665,
          99.88495
         ],
         "yaxis": "y"
        },
        {
         "marker": {
          "color": [
           "blue",
           "blue",
           "blue",
           "blue",
           "blue",
           "blue",
           "blue",
           "blue"
          ]
         },
         "mode": "markers",
         "text": "Access to electricity in urban area in 2010 ",
         "type": "scatter",
         "x": [
          "India",
          "Philippines",
          "Malaysia",
          "SriLanka",
          "Japan",
          "Germany",
          "Australia",
          "Switzerland"
         ],
         "xaxis": "x",
         "y": [
          94,
          93.83088,
          99.70244,
          95.6,
          99.93398,
          99.93304,
          99.91431,
          99.93304
         ],
         "yaxis": "y"
        },
        {
         "marker": {
          "color": [
           "rgb(255, 0, 191)",
           "rgb(255, 0, 191)",
           "rgb(255, 0, 191)",
           "rgb(255, 0, 191)",
           "rgb(255, 0, 191)",
           "rgb(255, 0, 191)",
           "rgb(255, 0, 191)",
           "rgb(255, 0, 191)"
          ]
         },
         "mode": "markers",
         "text": "Access to electricity in urban area in 2011 ",
         "type": "scatter",
         "x": [
          "India",
          "Philippines",
          "Malaysia",
          "SriLanka",
          "Japan",
          "Germany",
          "Australia",
          "Switzerland"
         ],
         "xaxis": "x",
         "y": [
          92.9,
          94.30061,
          99.87977,
          99.97164,
          96.83,
          99.97091,
          99.95639,
          99.97091
         ],
         "yaxis": "y"
        },
        {
         "marker": {
          "color": [
           "green",
           "green",
           "green",
           "green",
           "green",
           "green",
           "green",
           "green"
          ]
         },
         "mode": "markers",
         "text": "Access to electricity in urban area in 2012 ",
         "type": "scatter",
         "x": [
          "India",
          "Philippines",
          "Malaysia",
          "SriLanka",
          "Japan",
          "Germany",
          "Australia",
          "Switzerland"
         ],
         "xaxis": "x",
         "y": [
          96.1,
          94.76658,
          99.9,
          97.31316,
          99.99251,
          99.99216,
          99.98535,
          99.99216
         ],
         "yaxis": "y"
        },
        {
         "marker": {
          "color": [
           "#665869",
           "#665869",
           "#665869",
           "#665869",
           "#665869",
           "#665869",
           "#665869",
           "#665869"
          ]
         },
         "mode": "markers",
         "text": "Access to electricity in urban area in 2013",
         "type": "scatter",
         "x": [
          "India",
          "Philippines",
          "Malaysia",
          "SriLanka",
          "Japan",
          "Germany",
          "Australia",
          "Switzerland"
         ],
         "xaxis": "x",
         "y": [
          95.93652,
          94.1,
          99.99828,
          98,
          99.99912,
          99.99905,
          99.99767,
          99.99905
         ],
         "yaxis": "y"
        },
        {
         "marker": {
          "color": [
           "violet",
           "violet",
           "violet",
           "violet",
           "violet",
           "violet",
           "violet",
           "violet"
          ]
         },
         "mode": "markers",
         "text": "Access to electricity in urban area in 2014 ",
         "type": "scatter",
         "x": [
          "India",
          "Philippines",
          "Malaysia",
          "SriLanka",
          "Japan",
          "Germany",
          "Australia",
          "Switzerland"
         ],
         "xaxis": "x",
         "y": [
          96.54691,
          95.68777,
          100,
          97.95724,
          100,
          100,
          100,
          100
         ],
         "yaxis": "y"
        },
        {
         "marker": {
          "color": [
           "#9856eb",
           "#9856eb",
           "#9856eb",
           "#9856eb",
           "#9856eb",
           "#9856eb",
           "#9856eb",
           "#9856eb"
          ]
         },
         "mode": "markers",
         "text": " Access to electricity in urban area in 2015 ",
         "type": "scatter",
         "x": [
          "India",
          "Philippines",
          "Malaysia",
          "SriLanka",
          "Japan",
          "Germany",
          "Australia",
          "Switzerland"
         ],
         "xaxis": "x",
         "y": [
          97.5,
          95.91,
          100,
          98.53522,
          100,
          100,
          100,
          100
         ],
         "yaxis": "y"
        },
        {
         "marker": {
          "color": [
           "#fc7f2b",
           "#fc7f2b",
           "#fc7f2b",
           "#fc7f2b",
           "#fc7f2b",
           "#fc7f2b",
           "#fc7f2b",
           "#fc7f2b"
          ]
         },
         "mode": "markers",
         "text": "Access to electricity in urban area in 2016 ",
         "type": "scatter",
         "x": [
          "India",
          "Philippines",
          "Malaysia",
          "SriLanka",
          "Japan",
          "Germany",
          "Australia",
          "Switzerland"
         ],
         "xaxis": "x",
         "y": [
          98.34242,
          96.59977,
          100,
          99,
          100,
          100,
          100,
          100
         ],
         "yaxis": "y"
        },
        {
         "marker": {
          "color": [
           "violet",
           "violet",
           "violet",
           "violet",
           "violet",
           "violet",
           "violet",
           "violet"
          ]
         },
         "mode": "markers",
         "text": "Access to electricity in urban area in 2017 ",
         "type": "scatter",
         "x": [
          "India",
          "Philippines",
          "Malaysia",
          "SriLanka",
          "Japan",
          "Germany",
          "Australia",
          "Switzerland"
         ],
         "xaxis": "x",
         "y": [
          99.08852,
          96.4,
          100,
          99.76542,
          100,
          100,
          100,
          100
         ],
         "yaxis": "y"
        }
       ],
       "layout": {
        "template": {
         "data": {
          "bar": [
           {
            "error_x": {
             "color": "#2a3f5f"
            },
            "error_y": {
             "color": "#2a3f5f"
            },
            "marker": {
             "line": {
              "color": "#E5ECF6",
              "width": 0.5
             }
            },
            "type": "bar"
           }
          ],
          "barpolar": [
           {
            "marker": {
             "line": {
              "color": "#E5ECF6",
              "width": 0.5
             }
            },
            "type": "barpolar"
           }
          ],
          "carpet": [
           {
            "aaxis": {
             "endlinecolor": "#2a3f5f",
             "gridcolor": "white",
             "linecolor": "white",
             "minorgridcolor": "white",
             "startlinecolor": "#2a3f5f"
            },
            "baxis": {
             "endlinecolor": "#2a3f5f",
             "gridcolor": "white",
             "linecolor": "white",
             "minorgridcolor": "white",
             "startlinecolor": "#2a3f5f"
            },
            "type": "carpet"
           }
          ],
          "choropleth": [
           {
            "colorbar": {
             "outlinewidth": 0,
             "ticks": ""
            },
            "type": "choropleth"
           }
          ],
          "contour": [
           {
            "colorbar": {
             "outlinewidth": 0,
             "ticks": ""
            },
            "colorscale": [
             [
              0,
              "#0d0887"
             ],
             [
              0.1111111111111111,
              "#46039f"
             ],
             [
              0.2222222222222222,
              "#7201a8"
             ],
             [
              0.3333333333333333,
              "#9c179e"
             ],
             [
              0.4444444444444444,
              "#bd3786"
             ],
             [
              0.5555555555555556,
              "#d8576b"
             ],
             [
              0.6666666666666666,
              "#ed7953"
             ],
             [
              0.7777777777777778,
              "#fb9f3a"
             ],
             [
              0.8888888888888888,
              "#fdca26"
             ],
             [
              1,
              "#f0f921"
             ]
            ],
            "type": "contour"
           }
          ],
          "contourcarpet": [
           {
            "colorbar": {
             "outlinewidth": 0,
             "ticks": ""
            },
            "type": "contourcarpet"
           }
          ],
          "heatmap": [
           {
            "colorbar": {
             "outlinewidth": 0,
             "ticks": ""
            },
            "colorscale": [
             [
              0,
              "#0d0887"
             ],
             [
              0.1111111111111111,
              "#46039f"
             ],
             [
              0.2222222222222222,
              "#7201a8"
             ],
             [
              0.3333333333333333,
              "#9c179e"
             ],
             [
              0.4444444444444444,
              "#bd3786"
             ],
             [
              0.5555555555555556,
              "#d8576b"
             ],
             [
              0.6666666666666666,
              "#ed7953"
             ],
             [
              0.7777777777777778,
              "#fb9f3a"
             ],
             [
              0.8888888888888888,
              "#fdca26"
             ],
             [
              1,
              "#f0f921"
             ]
            ],
            "type": "heatmap"
           }
          ],
          "heatmapgl": [
           {
            "colorbar": {
             "outlinewidth": 0,
             "ticks": ""
            },
            "colorscale": [
             [
              0,
              "#0d0887"
             ],
             [
              0.1111111111111111,
              "#46039f"
             ],
             [
              0.2222222222222222,
              "#7201a8"
             ],
             [
              0.3333333333333333,
              "#9c179e"
             ],
             [
              0.4444444444444444,
              "#bd3786"
             ],
             [
              0.5555555555555556,
              "#d8576b"
             ],
             [
              0.6666666666666666,
              "#ed7953"
             ],
             [
              0.7777777777777778,
              "#fb9f3a"
             ],
             [
              0.8888888888888888,
              "#fdca26"
             ],
             [
              1,
              "#f0f921"
             ]
            ],
            "type": "heatmapgl"
           }
          ],
          "histogram": [
           {
            "marker": {
             "colorbar": {
              "outlinewidth": 0,
              "ticks": ""
             }
            },
            "type": "histogram"
           }
          ],
          "histogram2d": [
           {
            "colorbar": {
             "outlinewidth": 0,
             "ticks": ""
            },
            "colorscale": [
             [
              0,
              "#0d0887"
             ],
             [
              0.1111111111111111,
              "#46039f"
             ],
             [
              0.2222222222222222,
              "#7201a8"
             ],
             [
              0.3333333333333333,
              "#9c179e"
             ],
             [
              0.4444444444444444,
              "#bd3786"
             ],
             [
              0.5555555555555556,
              "#d8576b"
             ],
             [
              0.6666666666666666,
              "#ed7953"
             ],
             [
              0.7777777777777778,
              "#fb9f3a"
             ],
             [
              0.8888888888888888,
              "#fdca26"
             ],
             [
              1,
              "#f0f921"
             ]
            ],
            "type": "histogram2d"
           }
          ],
          "histogram2dcontour": [
           {
            "colorbar": {
             "outlinewidth": 0,
             "ticks": ""
            },
            "colorscale": [
             [
              0,
              "#0d0887"
             ],
             [
              0.1111111111111111,
              "#46039f"
             ],
             [
              0.2222222222222222,
              "#7201a8"
             ],
             [
              0.3333333333333333,
              "#9c179e"
             ],
             [
              0.4444444444444444,
              "#bd3786"
             ],
             [
              0.5555555555555556,
              "#d8576b"
             ],
             [
              0.6666666666666666,
              "#ed7953"
             ],
             [
              0.7777777777777778,
              "#fb9f3a"
             ],
             [
              0.8888888888888888,
              "#fdca26"
             ],
             [
              1,
              "#f0f921"
             ]
            ],
            "type": "histogram2dcontour"
           }
          ],
          "mesh3d": [
           {
            "colorbar": {
             "outlinewidth": 0,
             "ticks": ""
            },
            "type": "mesh3d"
           }
          ],
          "parcoords": [
           {
            "line": {
             "colorbar": {
              "outlinewidth": 0,
              "ticks": ""
             }
            },
            "type": "parcoords"
           }
          ],
          "pie": [
           {
            "automargin": true,
            "type": "pie"
           }
          ],
          "scatter": [
           {
            "marker": {
             "colorbar": {
              "outlinewidth": 0,
              "ticks": ""
             }
            },
            "type": "scatter"
           }
          ],
          "scatter3d": [
           {
            "line": {
             "colorbar": {
              "outlinewidth": 0,
              "ticks": ""
             }
            },
            "marker": {
             "colorbar": {
              "outlinewidth": 0,
              "ticks": ""
             }
            },
            "type": "scatter3d"
           }
          ],
          "scattercarpet": [
           {
            "marker": {
             "colorbar": {
              "outlinewidth": 0,
              "ticks": ""
             }
            },
            "type": "scattercarpet"
           }
          ],
          "scattergeo": [
           {
            "marker": {
             "colorbar": {
              "outlinewidth": 0,
              "ticks": ""
             }
            },
            "type": "scattergeo"
           }
          ],
          "scattergl": [
           {
            "marker": {
             "colorbar": {
              "outlinewidth": 0,
              "ticks": ""
             }
            },
            "type": "scattergl"
           }
          ],
          "scattermapbox": [
           {
            "marker": {
             "colorbar": {
              "outlinewidth": 0,
              "ticks": ""
             }
            },
            "type": "scattermapbox"
           }
          ],
          "scatterpolar": [
           {
            "marker": {
             "colorbar": {
              "outlinewidth": 0,
              "ticks": ""
             }
            },
            "type": "scatterpolar"
           }
          ],
          "scatterpolargl": [
           {
            "marker": {
             "colorbar": {
              "outlinewidth": 0,
              "ticks": ""
             }
            },
            "type": "scatterpolargl"
           }
          ],
          "scatterternary": [
           {
            "marker": {
             "colorbar": {
              "outlinewidth": 0,
              "ticks": ""
             }
            },
            "type": "scatterternary"
           }
          ],
          "surface": [
           {
            "colorbar": {
             "outlinewidth": 0,
             "ticks": ""
            },
            "colorscale": [
             [
              0,
              "#0d0887"
             ],
             [
              0.1111111111111111,
              "#46039f"
             ],
             [
              0.2222222222222222,
              "#7201a8"
             ],
             [
              0.3333333333333333,
              "#9c179e"
             ],
             [
              0.4444444444444444,
              "#bd3786"
             ],
             [
              0.5555555555555556,
              "#d8576b"
             ],
             [
              0.6666666666666666,
              "#ed7953"
             ],
             [
              0.7777777777777778,
              "#fb9f3a"
             ],
             [
              0.8888888888888888,
              "#fdca26"
             ],
             [
              1,
              "#f0f921"
             ]
            ],
            "type": "surface"
           }
          ],
          "table": [
           {
            "cells": {
             "fill": {
              "color": "#EBF0F8"
             },
             "line": {
              "color": "white"
             }
            },
            "header": {
             "fill": {
              "color": "#C8D4E3"
             },
             "line": {
              "color": "white"
             }
            },
            "type": "table"
           }
          ]
         },
         "layout": {
          "annotationdefaults": {
           "arrowcolor": "#2a3f5f",
           "arrowhead": 0,
           "arrowwidth": 1
          },
          "coloraxis": {
           "colorbar": {
            "outlinewidth": 0,
            "ticks": ""
           }
          },
          "colorscale": {
           "diverging": [
            [
             0,
             "#8e0152"
            ],
            [
             0.1,
             "#c51b7d"
            ],
            [
             0.2,
             "#de77ae"
            ],
            [
             0.3,
             "#f1b6da"
            ],
            [
             0.4,
             "#fde0ef"
            ],
            [
             0.5,
             "#f7f7f7"
            ],
            [
             0.6,
             "#e6f5d0"
            ],
            [
             0.7,
             "#b8e186"
            ],
            [
             0.8,
             "#7fbc41"
            ],
            [
             0.9,
             "#4d9221"
            ],
            [
             1,
             "#276419"
            ]
           ],
           "sequential": [
            [
             0,
             "#0d0887"
            ],
            [
             0.1111111111111111,
             "#46039f"
            ],
            [
             0.2222222222222222,
             "#7201a8"
            ],
            [
             0.3333333333333333,
             "#9c179e"
            ],
            [
             0.4444444444444444,
             "#bd3786"
            ],
            [
             0.5555555555555556,
             "#d8576b"
            ],
            [
             0.6666666666666666,
             "#ed7953"
            ],
            [
             0.7777777777777778,
             "#fb9f3a"
            ],
            [
             0.8888888888888888,
             "#fdca26"
            ],
            [
             1,
             "#f0f921"
            ]
           ],
           "sequentialminus": [
            [
             0,
             "#0d0887"
            ],
            [
             0.1111111111111111,
             "#46039f"
            ],
            [
             0.2222222222222222,
             "#7201a8"
            ],
            [
             0.3333333333333333,
             "#9c179e"
            ],
            [
             0.4444444444444444,
             "#bd3786"
            ],
            [
             0.5555555555555556,
             "#d8576b"
            ],
            [
             0.6666666666666666,
             "#ed7953"
            ],
            [
             0.7777777777777778,
             "#fb9f3a"
            ],
            [
             0.8888888888888888,
             "#fdca26"
            ],
            [
             1,
             "#f0f921"
            ]
           ]
          },
          "colorway": [
           "#636efa",
           "#EF553B",
           "#00cc96",
           "#ab63fa",
           "#FFA15A",
           "#19d3f3",
           "#FF6692",
           "#B6E880",
           "#FF97FF",
           "#FECB52"
          ],
          "font": {
           "color": "#2a3f5f"
          },
          "geo": {
           "bgcolor": "white",
           "lakecolor": "white",
           "landcolor": "#E5ECF6",
           "showlakes": true,
           "showland": true,
           "subunitcolor": "white"
          },
          "hoverlabel": {
           "align": "left"
          },
          "hovermode": "closest",
          "mapbox": {
           "style": "light"
          },
          "paper_bgcolor": "white",
          "plot_bgcolor": "#E5ECF6",
          "polar": {
           "angularaxis": {
            "gridcolor": "white",
            "linecolor": "white",
            "ticks": ""
           },
           "bgcolor": "#E5ECF6",
           "radialaxis": {
            "gridcolor": "white",
            "linecolor": "white",
            "ticks": ""
           }
          },
          "scene": {
           "xaxis": {
            "backgroundcolor": "#E5ECF6",
            "gridcolor": "white",
            "gridwidth": 2,
            "linecolor": "white",
            "showbackground": true,
            "ticks": "",
            "zerolinecolor": "white"
           },
           "yaxis": {
            "backgroundcolor": "#E5ECF6",
            "gridcolor": "white",
            "gridwidth": 2,
            "linecolor": "white",
            "showbackground": true,
            "ticks": "",
            "zerolinecolor": "white"
           },
           "zaxis": {
            "backgroundcolor": "#E5ECF6",
            "gridcolor": "white",
            "gridwidth": 2,
            "linecolor": "white",
            "showbackground": true,
            "ticks": "",
            "zerolinecolor": "white"
           }
          },
          "shapedefaults": {
           "line": {
            "color": "#2a3f5f"
           }
          },
          "ternary": {
           "aaxis": {
            "gridcolor": "white",
            "linecolor": "white",
            "ticks": ""
           },
           "baxis": {
            "gridcolor": "white",
            "linecolor": "white",
            "ticks": ""
           },
           "bgcolor": "#E5ECF6",
           "caxis": {
            "gridcolor": "white",
            "linecolor": "white",
            "ticks": ""
           }
          },
          "title": {
           "x": 0.05
          },
          "xaxis": {
           "automargin": true,
           "gridcolor": "white",
           "linecolor": "white",
           "ticks": "",
           "title": {
            "standoff": 15
           },
           "zerolinecolor": "white",
           "zerolinewidth": 2
          },
          "yaxis": {
           "automargin": true,
           "gridcolor": "white",
           "linecolor": "white",
           "ticks": "",
           "title": {
            "standoff": 15
           },
           "zerolinecolor": "white",
           "zerolinewidth": 2
          }
         }
        },
        "updatemenus": [
         {
          "buttons": [
           {
            "args": [
             {
              "visible": [
               false,
               false,
               false,
               false,
               false,
               false,
               false,
               false,
               false,
               false
              ]
             }
            ],
            "label": "Select Year",
            "method": "update"
           },
           {
            "args": [
             {
              "visible": [
               true,
               false,
               false,
               false,
               false,
               false,
               false,
               false,
               false,
               false
              ]
             }
            ],
            "label": "2008",
            "method": "update"
           },
           {
            "args": [
             {
              "visible": [
               false,
               true,
               false,
               false,
               false,
               false,
               false,
               false,
               false,
               false
              ]
             }
            ],
            "label": "2009",
            "method": "update"
           },
           {
            "args": [
             {
              "visible": [
               false,
               false,
               true,
               false,
               false,
               false,
               false,
               false,
               false,
               false
              ]
             }
            ],
            "label": "2010",
            "method": "update"
           },
           {
            "args": [
             {
              "visible": [
               false,
               false,
               false,
               true,
               false,
               false,
               false,
               false,
               false,
               false
              ]
             }
            ],
            "label": "2011",
            "method": "update"
           },
           {
            "args": [
             {
              "visible": [
               false,
               false,
               false,
               false,
               true,
               false,
               false,
               false,
               false,
               false
              ]
             }
            ],
            "label": "2012",
            "method": "update"
           },
           {
            "args": [
             {
              "visible": [
               false,
               false,
               false,
               false,
               false,
               true,
               false,
               false,
               false,
               false
              ]
             }
            ],
            "label": "2013",
            "method": "update"
           },
           {
            "args": [
             {
              "visible": [
               false,
               false,
               false,
               false,
               false,
               false,
               true,
               false,
               false,
               false
              ]
             }
            ],
            "label": "2014",
            "method": "update"
           },
           {
            "args": [
             {
              "visible": [
               false,
               false,
               false,
               false,
               false,
               false,
               false,
               true,
               false,
               false
              ]
             }
            ],
            "label": "2015",
            "method": "update"
           },
           {
            "args": [
             {
              "visible": [
               false,
               false,
               false,
               false,
               false,
               false,
               false,
               false,
               true,
               false
              ]
             }
            ],
            "label": "2016",
            "method": "update"
           },
           {
            "args": [
             {
              "visible": [
               false,
               false,
               false,
               false,
               false,
               false,
               false,
               false,
               false,
               true
              ]
             }
            ],
            "label": "2017",
            "method": "update"
           }
          ],
          "x": -0.01,
          "y": 1.1
         }
        ],
        "xaxis": {
         "anchor": "y",
         "domain": [
          0,
          1
         ]
        },
        "yaxis": {
         "anchor": "x",
         "domain": [
          0,
          1
         ]
        }
       }
      },
      "text/html": [
       "<div>                            <div id=\"5e176f61-ed4c-48e3-9ff6-b3acc5b039e7\" class=\"plotly-graph-div\" style=\"height:525px; width:100%;\"></div>            <script type=\"text/javascript\">                require([\"plotly\"], function(Plotly) {                    window.PLOTLYENV=window.PLOTLYENV || {};                                    if (document.getElementById(\"5e176f61-ed4c-48e3-9ff6-b3acc5b039e7\")) {                    Plotly.newPlot(                        \"5e176f61-ed4c-48e3-9ff6-b3acc5b039e7\",                        [{\"marker\": {\"color\": [\"green\", \"green\", \"green\", \"green\", \"green\", \"green\", \"green\", \"green\"]}, \"mode\": \"markers\", \"text\": \"Access to electricity in urban area in 2008\", \"type\": \"scatter\", \"x\": [\"India\", \"Philippines\", \"Malaysia\", \"SriLanka\", \"Japan\", \"Germany\", \"Australia\", \"Switzerland\"], \"xaxis\": \"x\", \"y\": [92.58417, 93.7, 99, 94.64954, 99.8395, 99.83868, 99.82231, 99.83868], \"yaxis\": \"y\"}, {\"marker\": {\"color\": [\"dodgerblue\", \"dodgerblue\", \"dodgerblue\", \"dodgerblue\", \"dodgerblue\", \"dodgerblue\", \"dodgerblue\", \"dodgerblue\"]}, \"mode\": \"markers\", \"text\": \"Access to electricity in urban area in 2009 \", \"type\": \"scatter\", \"x\": [\"India\", \"Philippines\", \"Malaysia\", \"SriLanka\", \"Japan\", \"Germany\", \"Australia\", \"Switzerland\"], \"xaxis\": \"x\", \"y\": [96.1, 93.36079, 99.9, 94.33311, 99.88587, 99.88495, 99.86665, 99.88495], \"yaxis\": \"y\"}, {\"marker\": {\"color\": [\"blue\", \"blue\", \"blue\", \"blue\", \"blue\", \"blue\", \"blue\", \"blue\"]}, \"mode\": \"markers\", \"text\": \"Access to electricity in urban area in 2010 \", \"type\": \"scatter\", \"x\": [\"India\", \"Philippines\", \"Malaysia\", \"SriLanka\", \"Japan\", \"Germany\", \"Australia\", \"Switzerland\"], \"xaxis\": \"x\", \"y\": [94, 93.83088, 99.70244, 95.6, 99.93398, 99.93304, 99.91431, 99.93304], \"yaxis\": \"y\"}, {\"marker\": {\"color\": [\"rgb(255, 0, 191)\", \"rgb(255, 0, 191)\", \"rgb(255, 0, 191)\", \"rgb(255, 0, 191)\", \"rgb(255, 0, 191)\", \"rgb(255, 0, 191)\", \"rgb(255, 0, 191)\", \"rgb(255, 0, 191)\"]}, \"mode\": \"markers\", \"text\": \"Access to electricity in urban area in 2011 \", \"type\": \"scatter\", \"x\": [\"India\", \"Philippines\", \"Malaysia\", \"SriLanka\", \"Japan\", \"Germany\", \"Australia\", \"Switzerland\"], \"xaxis\": \"x\", \"y\": [92.9, 94.30061, 99.87977, 99.97164, 96.83, 99.97091, 99.95639, 99.97091], \"yaxis\": \"y\"}, {\"marker\": {\"color\": [\"green\", \"green\", \"green\", \"green\", \"green\", \"green\", \"green\", \"green\"]}, \"mode\": \"markers\", \"text\": \"Access to electricity in urban area in 2012 \", \"type\": \"scatter\", \"x\": [\"India\", \"Philippines\", \"Malaysia\", \"SriLanka\", \"Japan\", \"Germany\", \"Australia\", \"Switzerland\"], \"xaxis\": \"x\", \"y\": [96.1, 94.76658, 99.9, 97.31316, 99.99251, 99.99216, 99.98535, 99.99216], \"yaxis\": \"y\"}, {\"marker\": {\"color\": [\"#665869\", \"#665869\", \"#665869\", \"#665869\", \"#665869\", \"#665869\", \"#665869\", \"#665869\"]}, \"mode\": \"markers\", \"text\": \"Access to electricity in urban area in 2013\", \"type\": \"scatter\", \"x\": [\"India\", \"Philippines\", \"Malaysia\", \"SriLanka\", \"Japan\", \"Germany\", \"Australia\", \"Switzerland\"], \"xaxis\": \"x\", \"y\": [95.93652, 94.1, 99.99828, 98, 99.99912, 99.99905, 99.99767, 99.99905], \"yaxis\": \"y\"}, {\"marker\": {\"color\": [\"violet\", \"violet\", \"violet\", \"violet\", \"violet\", \"violet\", \"violet\", \"violet\"]}, \"mode\": \"markers\", \"text\": \"Access to electricity in urban area in 2014 \", \"type\": \"scatter\", \"x\": [\"India\", \"Philippines\", \"Malaysia\", \"SriLanka\", \"Japan\", \"Germany\", \"Australia\", \"Switzerland\"], \"xaxis\": \"x\", \"y\": [96.54691, 95.68777, 100, 97.95724, 100, 100, 100, 100], \"yaxis\": \"y\"}, {\"marker\": {\"color\": [\"#9856eb\", \"#9856eb\", \"#9856eb\", \"#9856eb\", \"#9856eb\", \"#9856eb\", \"#9856eb\", \"#9856eb\"]}, \"mode\": \"markers\", \"text\": \" Access to electricity in urban area in 2015 \", \"type\": \"scatter\", \"x\": [\"India\", \"Philippines\", \"Malaysia\", \"SriLanka\", \"Japan\", \"Germany\", \"Australia\", \"Switzerland\"], \"xaxis\": \"x\", \"y\": [97.5, 95.91, 100, 98.53522, 100, 100, 100, 100], \"yaxis\": \"y\"}, {\"marker\": {\"color\": [\"#fc7f2b\", \"#fc7f2b\", \"#fc7f2b\", \"#fc7f2b\", \"#fc7f2b\", \"#fc7f2b\", \"#fc7f2b\", \"#fc7f2b\"]}, \"mode\": \"markers\", \"text\": \"Access to electricity in urban area in 2016 \", \"type\": \"scatter\", \"x\": [\"India\", \"Philippines\", \"Malaysia\", \"SriLanka\", \"Japan\", \"Germany\", \"Australia\", \"Switzerland\"], \"xaxis\": \"x\", \"y\": [98.34242, 96.59977, 100, 99, 100, 100, 100, 100], \"yaxis\": \"y\"}, {\"marker\": {\"color\": [\"violet\", \"violet\", \"violet\", \"violet\", \"violet\", \"violet\", \"violet\", \"violet\"]}, \"mode\": \"markers\", \"text\": \"Access to electricity in urban area in 2017 \", \"type\": \"scatter\", \"x\": [\"India\", \"Philippines\", \"Malaysia\", \"SriLanka\", \"Japan\", \"Germany\", \"Australia\", \"Switzerland\"], \"xaxis\": \"x\", \"y\": [99.08852, 96.4, 100, 99.76542, 100, 100, 100, 100], \"yaxis\": \"y\"}],                        {\"template\": {\"data\": {\"bar\": [{\"error_x\": {\"color\": \"#2a3f5f\"}, \"error_y\": {\"color\": \"#2a3f5f\"}, \"marker\": {\"line\": {\"color\": \"#E5ECF6\", \"width\": 0.5}}, \"type\": \"bar\"}], \"barpolar\": [{\"marker\": {\"line\": {\"color\": \"#E5ECF6\", \"width\": 0.5}}, \"type\": \"barpolar\"}], \"carpet\": [{\"aaxis\": {\"endlinecolor\": \"#2a3f5f\", \"gridcolor\": \"white\", \"linecolor\": \"white\", \"minorgridcolor\": \"white\", \"startlinecolor\": \"#2a3f5f\"}, \"baxis\": {\"endlinecolor\": \"#2a3f5f\", \"gridcolor\": \"white\", \"linecolor\": \"white\", \"minorgridcolor\": \"white\", \"startlinecolor\": \"#2a3f5f\"}, \"type\": \"carpet\"}], \"choropleth\": [{\"colorbar\": {\"outlinewidth\": 0, \"ticks\": \"\"}, \"type\": \"choropleth\"}], \"contour\": [{\"colorbar\": {\"outlinewidth\": 0, \"ticks\": \"\"}, \"colorscale\": [[0.0, \"#0d0887\"], [0.1111111111111111, \"#46039f\"], [0.2222222222222222, \"#7201a8\"], [0.3333333333333333, \"#9c179e\"], [0.4444444444444444, \"#bd3786\"], [0.5555555555555556, \"#d8576b\"], [0.6666666666666666, \"#ed7953\"], [0.7777777777777778, \"#fb9f3a\"], [0.8888888888888888, \"#fdca26\"], [1.0, \"#f0f921\"]], \"type\": \"contour\"}], \"contourcarpet\": [{\"colorbar\": {\"outlinewidth\": 0, \"ticks\": \"\"}, \"type\": \"contourcarpet\"}], \"heatmap\": [{\"colorbar\": {\"outlinewidth\": 0, \"ticks\": \"\"}, \"colorscale\": [[0.0, \"#0d0887\"], [0.1111111111111111, \"#46039f\"], [0.2222222222222222, \"#7201a8\"], [0.3333333333333333, \"#9c179e\"], [0.4444444444444444, \"#bd3786\"], [0.5555555555555556, \"#d8576b\"], [0.6666666666666666, \"#ed7953\"], [0.7777777777777778, \"#fb9f3a\"], [0.8888888888888888, \"#fdca26\"], [1.0, \"#f0f921\"]], \"type\": \"heatmap\"}], \"heatmapgl\": [{\"colorbar\": {\"outlinewidth\": 0, \"ticks\": \"\"}, \"colorscale\": [[0.0, \"#0d0887\"], [0.1111111111111111, \"#46039f\"], [0.2222222222222222, \"#7201a8\"], [0.3333333333333333, \"#9c179e\"], [0.4444444444444444, \"#bd3786\"], [0.5555555555555556, \"#d8576b\"], [0.6666666666666666, \"#ed7953\"], [0.7777777777777778, \"#fb9f3a\"], [0.8888888888888888, \"#fdca26\"], [1.0, \"#f0f921\"]], \"type\": \"heatmapgl\"}], \"histogram\": [{\"marker\": {\"colorbar\": {\"outlinewidth\": 0, \"ticks\": \"\"}}, \"type\": \"histogram\"}], \"histogram2d\": [{\"colorbar\": {\"outlinewidth\": 0, \"ticks\": \"\"}, \"colorscale\": [[0.0, \"#0d0887\"], [0.1111111111111111, \"#46039f\"], [0.2222222222222222, \"#7201a8\"], [0.3333333333333333, \"#9c179e\"], [0.4444444444444444, \"#bd3786\"], [0.5555555555555556, \"#d8576b\"], [0.6666666666666666, \"#ed7953\"], [0.7777777777777778, \"#fb9f3a\"], [0.8888888888888888, \"#fdca26\"], [1.0, \"#f0f921\"]], \"type\": \"histogram2d\"}], \"histogram2dcontour\": [{\"colorbar\": {\"outlinewidth\": 0, \"ticks\": \"\"}, \"colorscale\": [[0.0, \"#0d0887\"], [0.1111111111111111, \"#46039f\"], [0.2222222222222222, \"#7201a8\"], [0.3333333333333333, \"#9c179e\"], [0.4444444444444444, \"#bd3786\"], [0.5555555555555556, \"#d8576b\"], [0.6666666666666666, \"#ed7953\"], [0.7777777777777778, \"#fb9f3a\"], [0.8888888888888888, \"#fdca26\"], [1.0, \"#f0f921\"]], \"type\": \"histogram2dcontour\"}], \"mesh3d\": [{\"colorbar\": {\"outlinewidth\": 0, \"ticks\": \"\"}, \"type\": \"mesh3d\"}], \"parcoords\": [{\"line\": {\"colorbar\": {\"outlinewidth\": 0, \"ticks\": \"\"}}, \"type\": \"parcoords\"}], \"pie\": [{\"automargin\": true, \"type\": \"pie\"}], \"scatter\": [{\"marker\": {\"colorbar\": {\"outlinewidth\": 0, \"ticks\": \"\"}}, \"type\": \"scatter\"}], \"scatter3d\": [{\"line\": {\"colorbar\": {\"outlinewidth\": 0, \"ticks\": \"\"}}, \"marker\": {\"colorbar\": {\"outlinewidth\": 0, \"ticks\": \"\"}}, \"type\": \"scatter3d\"}], \"scattercarpet\": [{\"marker\": {\"colorbar\": {\"outlinewidth\": 0, \"ticks\": \"\"}}, \"type\": \"scattercarpet\"}], \"scattergeo\": [{\"marker\": {\"colorbar\": {\"outlinewidth\": 0, \"ticks\": \"\"}}, \"type\": \"scattergeo\"}], \"scattergl\": [{\"marker\": {\"colorbar\": {\"outlinewidth\": 0, \"ticks\": \"\"}}, \"type\": \"scattergl\"}], \"scattermapbox\": [{\"marker\": {\"colorbar\": {\"outlinewidth\": 0, \"ticks\": \"\"}}, \"type\": \"scattermapbox\"}], \"scatterpolar\": [{\"marker\": {\"colorbar\": {\"outlinewidth\": 0, \"ticks\": \"\"}}, \"type\": \"scatterpolar\"}], \"scatterpolargl\": [{\"marker\": {\"colorbar\": {\"outlinewidth\": 0, \"ticks\": \"\"}}, \"type\": \"scatterpolargl\"}], \"scatterternary\": [{\"marker\": {\"colorbar\": {\"outlinewidth\": 0, \"ticks\": \"\"}}, \"type\": \"scatterternary\"}], \"surface\": [{\"colorbar\": {\"outlinewidth\": 0, \"ticks\": \"\"}, \"colorscale\": [[0.0, \"#0d0887\"], [0.1111111111111111, \"#46039f\"], [0.2222222222222222, \"#7201a8\"], [0.3333333333333333, \"#9c179e\"], [0.4444444444444444, \"#bd3786\"], [0.5555555555555556, \"#d8576b\"], [0.6666666666666666, \"#ed7953\"], [0.7777777777777778, \"#fb9f3a\"], [0.8888888888888888, \"#fdca26\"], [1.0, \"#f0f921\"]], \"type\": \"surface\"}], \"table\": [{\"cells\": {\"fill\": {\"color\": \"#EBF0F8\"}, \"line\": {\"color\": \"white\"}}, \"header\": {\"fill\": {\"color\": \"#C8D4E3\"}, \"line\": {\"color\": \"white\"}}, \"type\": \"table\"}]}, \"layout\": {\"annotationdefaults\": {\"arrowcolor\": \"#2a3f5f\", \"arrowhead\": 0, \"arrowwidth\": 1}, \"coloraxis\": {\"colorbar\": {\"outlinewidth\": 0, \"ticks\": \"\"}}, \"colorscale\": {\"diverging\": [[0, \"#8e0152\"], [0.1, \"#c51b7d\"], [0.2, \"#de77ae\"], [0.3, \"#f1b6da\"], [0.4, \"#fde0ef\"], [0.5, \"#f7f7f7\"], [0.6, \"#e6f5d0\"], [0.7, \"#b8e186\"], [0.8, \"#7fbc41\"], [0.9, \"#4d9221\"], [1, \"#276419\"]], \"sequential\": [[0.0, \"#0d0887\"], [0.1111111111111111, \"#46039f\"], [0.2222222222222222, \"#7201a8\"], [0.3333333333333333, \"#9c179e\"], [0.4444444444444444, \"#bd3786\"], [0.5555555555555556, \"#d8576b\"], [0.6666666666666666, \"#ed7953\"], [0.7777777777777778, \"#fb9f3a\"], [0.8888888888888888, \"#fdca26\"], [1.0, \"#f0f921\"]], \"sequentialminus\": [[0.0, \"#0d0887\"], [0.1111111111111111, \"#46039f\"], [0.2222222222222222, \"#7201a8\"], [0.3333333333333333, \"#9c179e\"], [0.4444444444444444, \"#bd3786\"], [0.5555555555555556, \"#d8576b\"], [0.6666666666666666, \"#ed7953\"], [0.7777777777777778, \"#fb9f3a\"], [0.8888888888888888, \"#fdca26\"], [1.0, \"#f0f921\"]]}, \"colorway\": [\"#636efa\", \"#EF553B\", \"#00cc96\", \"#ab63fa\", \"#FFA15A\", \"#19d3f3\", \"#FF6692\", \"#B6E880\", \"#FF97FF\", \"#FECB52\"], \"font\": {\"color\": \"#2a3f5f\"}, \"geo\": {\"bgcolor\": \"white\", \"lakecolor\": \"white\", \"landcolor\": \"#E5ECF6\", \"showlakes\": true, \"showland\": true, \"subunitcolor\": \"white\"}, \"hoverlabel\": {\"align\": \"left\"}, \"hovermode\": \"closest\", \"mapbox\": {\"style\": \"light\"}, \"paper_bgcolor\": \"white\", \"plot_bgcolor\": \"#E5ECF6\", \"polar\": {\"angularaxis\": {\"gridcolor\": \"white\", \"linecolor\": \"white\", \"ticks\": \"\"}, \"bgcolor\": \"#E5ECF6\", \"radialaxis\": {\"gridcolor\": \"white\", \"linecolor\": \"white\", \"ticks\": \"\"}}, \"scene\": {\"xaxis\": {\"backgroundcolor\": \"#E5ECF6\", \"gridcolor\": \"white\", \"gridwidth\": 2, \"linecolor\": \"white\", \"showbackground\": true, \"ticks\": \"\", \"zerolinecolor\": \"white\"}, \"yaxis\": {\"backgroundcolor\": \"#E5ECF6\", \"gridcolor\": \"white\", \"gridwidth\": 2, \"linecolor\": \"white\", \"showbackground\": true, \"ticks\": \"\", \"zerolinecolor\": \"white\"}, \"zaxis\": {\"backgroundcolor\": \"#E5ECF6\", \"gridcolor\": \"white\", \"gridwidth\": 2, \"linecolor\": \"white\", \"showbackground\": true, \"ticks\": \"\", \"zerolinecolor\": \"white\"}}, \"shapedefaults\": {\"line\": {\"color\": \"#2a3f5f\"}}, \"ternary\": {\"aaxis\": {\"gridcolor\": \"white\", \"linecolor\": \"white\", \"ticks\": \"\"}, \"baxis\": {\"gridcolor\": \"white\", \"linecolor\": \"white\", \"ticks\": \"\"}, \"bgcolor\": \"#E5ECF6\", \"caxis\": {\"gridcolor\": \"white\", \"linecolor\": \"white\", \"ticks\": \"\"}}, \"title\": {\"x\": 0.05}, \"xaxis\": {\"automargin\": true, \"gridcolor\": \"white\", \"linecolor\": \"white\", \"ticks\": \"\", \"title\": {\"standoff\": 15}, \"zerolinecolor\": \"white\", \"zerolinewidth\": 2}, \"yaxis\": {\"automargin\": true, \"gridcolor\": \"white\", \"linecolor\": \"white\", \"ticks\": \"\", \"title\": {\"standoff\": 15}, \"zerolinecolor\": \"white\", \"zerolinewidth\": 2}}}, \"updatemenus\": [{\"buttons\": [{\"args\": [{\"visible\": [false, false, false, false, false, false, false, false, false, false]}], \"label\": \"Select Year\", \"method\": \"update\"}, {\"args\": [{\"visible\": [true, false, false, false, false, false, false, false, false, false]}], \"label\": \"2008\", \"method\": \"update\"}, {\"args\": [{\"visible\": [false, true, false, false, false, false, false, false, false, false]}], \"label\": \"2009\", \"method\": \"update\"}, {\"args\": [{\"visible\": [false, false, true, false, false, false, false, false, false, false]}], \"label\": \"2010\", \"method\": \"update\"}, {\"args\": [{\"visible\": [false, false, false, true, false, false, false, false, false, false]}], \"label\": \"2011\", \"method\": \"update\"}, {\"args\": [{\"visible\": [false, false, false, false, true, false, false, false, false, false]}], \"label\": \"2012\", \"method\": \"update\"}, {\"args\": [{\"visible\": [false, false, false, false, false, true, false, false, false, false]}], \"label\": \"2013\", \"method\": \"update\"}, {\"args\": [{\"visible\": [false, false, false, false, false, false, true, false, false, false]}], \"label\": \"2014\", \"method\": \"update\"}, {\"args\": [{\"visible\": [false, false, false, false, false, false, false, true, false, false]}], \"label\": \"2015\", \"method\": \"update\"}, {\"args\": [{\"visible\": [false, false, false, false, false, false, false, false, true, false]}], \"label\": \"2016\", \"method\": \"update\"}, {\"args\": [{\"visible\": [false, false, false, false, false, false, false, false, false, true]}], \"label\": \"2017\", \"method\": \"update\"}], \"x\": -0.01, \"y\": 1.1}], \"xaxis\": {\"anchor\": \"y\", \"domain\": [0.0, 1.0]}, \"yaxis\": {\"anchor\": \"x\", \"domain\": [0.0, 1.0]}},                        {\"responsive\": true}                    ).then(function(){\n",
       "                            \n",
       "var gd = document.getElementById('5e176f61-ed4c-48e3-9ff6-b3acc5b039e7');\n",
       "var x = new MutationObserver(function (mutations, observer) {{\n",
       "        var display = window.getComputedStyle(gd).display;\n",
       "        if (!display || display === 'none') {{\n",
       "            console.log([gd, 'removed!']);\n",
       "            Plotly.purge(gd);\n",
       "            observer.disconnect();\n",
       "        }}\n",
       "}});\n",
       "\n",
       "// Listen for the removal of the full notebook cells\n",
       "var notebookContainer = gd.closest('#notebook-container');\n",
       "if (notebookContainer) {{\n",
       "    x.observe(notebookContainer, {childList: true});\n",
       "}}\n",
       "\n",
       "// Listen for the clearing of the current output cell\n",
       "var outputEl = gd.closest('.output');\n",
       "if (outputEl) {{\n",
       "    x.observe(outputEl, {childList: true});\n",
       "}}\n",
       "\n",
       "                        })                };                });            </script>        </div>"
      ]
     },
     "metadata": {},
     "output_type": "display_data"
    }
   ],
   "source": [
    "import pandas as pd\n",
    "import numpy as np\n",
    "import matplotlib.pyplot as plt\n",
    "import matplotlib.gridspec as gridspec\n",
    "from plotly.subplots import make_subplots\n",
    "import plotly.graph_objects as go\n",
    "\n",
    "fig2 = make_subplots(rows=1, cols=1)\n",
    "\n",
    "countries = ['India','Philippines','Malaysia','SriLanka','Japan','Germany','Australia','Switzerland']\n",
    "\n",
    "fig2.add_trace(go.Scatter(x=countries,y=[92.58417,93.7,99,94.64954,99.8395,99.83868,99.82231,99.83868],text='Access to electricity in urban area in 2008',marker_color=['green','green','green','green','green','green','green','green'],\n",
    "                                                                              mode='markers'),row=1, col=1) \n",
    "fig2.add_trace(go.Scatter(x=countries,y=[96.1,93.36079,99.9,94.33311,99.88587,99.88495,99.86665,99.88495],text='Access to electricity in urban area in 2009 ',marker_color=['dodgerblue','dodgerblue','dodgerblue','dodgerblue','dodgerblue','dodgerblue','dodgerblue','dodgerblue'],\n",
    "                                                                              mode='markers'),row=1, col=1) \n",
    "\n",
    "\n",
    "fig2.add_trace(go.Scatter(x=countries,y=[94,93.83088,99.70244,95.6,99.93398,99.93304,99.91431,99.93304],text='Access to electricity in urban area in 2010 ',marker_color=['blue','blue','blue','blue','blue','blue','blue','blue'],\n",
    "                                                                              mode='markers'),row=1, col=1) \n",
    "fig2.add_trace(go.Scatter(x=countries,y=[92.9,94.30061,99.87977,99.97164, 96.83,99.97091,99.95639,99.97091],text='Access to electricity in urban area in 2011 ',marker_color=['rgb(255, 0, 191)','rgb(255, 0, 191)','rgb(255, 0, 191)','rgb(255, 0, 191)','rgb(255, 0, 191)','rgb(255, 0, 191)','rgb(255, 0, 191)','rgb(255, 0, 191)'],\n",
    "                                                                            mode='markers'),row=1, col=1) \n",
    "fig2.add_trace(go.Scatter(x=countries,y=[96.1,94.76658,99.9,97.31316,99.99251,99.99216,99.98535,99.99216],text='Access to electricity in urban area in 2012 ',marker_color=['green','green','green','green','green','green','green','green'],\n",
    "                                                                            mode='markers'),row=1, col=1)    \n",
    "fig2.add_trace(go.Scatter(x=countries,y=[95.93652,94.1,99.99828,98,99.99912,99.99905,99.99767,99.99905],text='Access to electricity in urban area in 2013' ,marker_color=['#665869','#665869','#665869','#665869','#665869','#665869','#665869','#665869'],\n",
    "                                                                              mode='markers'),row=1, col=1)\n",
    "fig2.add_trace(go.Scatter(x=countries,y=[96.54691,95.68777,100,97.95724,100,100,100,100],text='Access to electricity in urban area in 2014 ',marker_color=['violet','violet','violet','violet','violet','violet','violet','violet'],\n",
    "                                                                              mode='markers'),row=1, col=1)\n",
    "\n",
    "\n",
    "fig2.add_trace(go.Scatter(x=countries,y=[97.5,95.91,100,98.53522,100,100,100,100],text=' Access to electricity in urban area in 2015 ',marker_color=['#9856eb','#9856eb','#9856eb','#9856eb','#9856eb','#9856eb','#9856eb','#9856eb'],\n",
    "                                                                              mode='markers'),row=1, col=1)\n",
    "fig2.add_trace(go.Scatter(x=countries,y=[98.34242,96.59977,100,99,100,100,100,100],text='Access to electricity in urban area in 2016 ',marker_color=['#fc7f2b','#fc7f2b','#fc7f2b','#fc7f2b','#fc7f2b','#fc7f2b','#fc7f2b','#fc7f2b'],\n",
    "                                                                              mode='markers'),row=1, col=1)\n",
    "fig2.add_trace(go.Scatter(x=countries,y=[99.08852,96.4,100,99.76542,100,100,100,100],text='Access to electricity in urban area in 2017 ',marker_color=['violet','violet','violet','violet','violet','violet','violet','violet'],\n",
    "                                                                               mode='markers'),row=1, col=1)\n",
    "fig2.update_layout(\n",
    "updatemenus=[\n",
    "        dict(\n",
    "            buttons=list([\n",
    "                dict(args = [{'visible': [False, False,False, False,False, False,False, False,False,False]}],\n",
    "                    label=\"Select Year\",\n",
    "                    method=\"update\"),\n",
    "                dict(args = [{'visible': [True, False,False, False,False, False,False, False,False,False]}],\n",
    "                    label=\"2008\",\n",
    "                    method=\"update\"),\n",
    "                dict(args = [{'visible': [False, True,False, False,False, False,False, False,False,False]}],\n",
    "                    label=\"2009\",\n",
    "                    method=\"update\"),\n",
    "                dict(args = [{'visible': [False, False,True, False,False, False,False, False,False,False]}],\n",
    "                    label=\"2010\",\n",
    "                    method=\"update\"),\n",
    "                dict(args = [{'visible': [False, False,False, True,False, False,False, False,False,False]}],\n",
    "                    label=\"2011\",\n",
    "                    method=\"update\"),\n",
    "                dict(args = [{'visible': [False, False,False, False,True, False,False, False,False,False]}],\n",
    "                    label=\"2012\",\n",
    "                    method=\"update\"),\n",
    "                dict(args = [{'visible': [False, False,False, False,False, True,False, False,False,False]}],\n",
    "                    label=\"2013\",\n",
    "                    method=\"update\"),\n",
    "                dict(args = [{'visible': [False, False,False, False,False, False,True, False,False,False]}],\n",
    "                    label=\"2014\",\n",
    "                    method=\"update\"),\n",
    "                dict(args = [{'visible': [False, False,False, False,False, False,False, True,False,False]}],\n",
    "                    label=\"2015\",\n",
    "                    method=\"update\"),\n",
    "                \n",
    "                dict(args = [{'visible': [False, False,False, False,False, False,False, False,True,False]}],\n",
    "                    label=\"2016\",\n",
    "                     method=\"update\"),\n",
    "                dict(args = [{'visible': [False, False,False, False,False, False,False, False,False,True]}],\n",
    "                    label=\"2017\",\n",
    "                     method=\"update\")]), x=-0.01,y=1.1),\n",
    "      \n",
    "    ]\n",
    "    \n",
    ")\n",
    "\n",
    "fig2.show()\n",
    "                \n",
    "\n"
   ]
  },
  {
   "cell_type": "code",
   "execution_count": 5,
   "metadata": {},
   "outputs": [
    {
     "data": {
      "application/vnd.plotly.v1+json": {
       "config": {
        "plotlyServerURL": "https://plot.ly"
       },
       "data": [
        {
         "marker": {
          "color": [
           "green",
           "green",
           "green",
           "green",
           "green",
           "green",
           "green",
           "green"
          ],
          "size": [
           50,
           50,
           50,
           50,
           70,
           70,
           70,
           70
          ]
         },
         "mode": "markers",
         "text": "GDP per Captia in USD in 2008",
         "type": "scatter",
         "x": [
          "India",
          "Philippines",
          "Malaysia",
          "SriLanka",
          "Japan",
          "Germany",
          "Australia",
          "Switzerland"
         ],
         "xaxis": "x",
         "y": [
          998,
          1991,
          8474,
          2037,
          39339,
          45427,
          49601,
          72487
         ],
         "yaxis": "y"
        },
        {
         "marker": {
          "color": [
           "dodgerblue",
           "dodgerblue",
           "dodgerblue",
           "dodgerblue",
           "dodgerblue",
           "dodgerblue",
           "dodgerblue",
           "dodgerblue"
          ],
          "size": [
           50,
           50,
           50,
           50,
           70,
           70,
           70,
           70
          ]
         },
         "mode": "markers",
         "text": "GDP Per Capita in USD in 2009",
         "type": "scatter",
         "x": [
          "India",
          "Philippines",
          "Malaysia",
          "SriLanka",
          "Japan",
          "Germany",
          "Australia",
          "Switzerland"
         ],
         "xaxis": "x",
         "y": [
          1101,
          1905,
          7292,
          2090,
          40755,
          41485,
          42772,
          69927
         ],
         "yaxis": "y"
        },
        {
         "marker": {
          "color": [
           "blue",
           "blue",
           "blue",
           "blue",
           "blue",
           "blue",
           "blue",
           "blue"
          ],
          "size": [
           50,
           50,
           50,
           50,
           70,
           70,
           70,
           70
          ]
         },
         "mode": "markers",
         "text": "GDP Per capita in USD in 2010 ",
         "type": "scatter",
         "x": [
          "India",
          "Philippines",
          "Malaysia",
          "SriLanka",
          "Japan",
          "Germany",
          "Australia",
          "Switzerland"
         ],
         "xaxis": "x",
         "y": [
          1357.564,
          2217.474,
          9040.566,
          2799.649,
          44507.68,
          41531.93,
          52022.13,
          74605.72
         ],
         "yaxis": "y"
        },
        {
         "marker": {
          "color": [
           "rgb(255, 0, 191)",
           "rgb(255, 0, 191)",
           "rgb(255, 0, 191)",
           "rgb(255, 0, 191)",
           "rgb(255, 0, 191)",
           "rgb(255, 0, 191)",
           "rgb(255, 0, 191)",
           "rgb(255, 0, 191)"
          ],
          "size": [
           50,
           50,
           50,
           50,
           70,
           70,
           70,
           70
          ]
         },
         "mode": "markers",
         "text": "GDP Per Capita in USD in 2011 ",
         "type": "scatter",
         "x": [
          "India",
          "Philippines",
          "Malaysia",
          "SriLanka",
          "Japan",
          "Germany",
          "Australia",
          "Switzerland"
         ],
         "xaxis": "x",
         "y": [
          1458.104,
          2450.734,
          10399.37,
          3200.834,
          48168,
          46644.78,
          62517.83,
          88415.63
         ],
         "yaxis": "y"
        },
        {
         "marker": {
          "color": [
           "#66FFCC",
           "#66FFCC",
           "#66FFCC",
           "#66FFCC",
           "#66FFCC",
           "#66FFCC",
           "#66FFCC",
           "#66FFCC"
          ],
          "size": [
           50,
           50,
           50,
           50,
           70,
           70,
           70,
           70
          ]
         },
         "mode": "markers",
         "text": "GDP Per Capita in USD in 2012 ",
         "type": "scatter",
         "x": [
          "India",
          "Philippines",
          "Malaysia",
          "SriLanka",
          "Japan",
          "Germany",
          "Australia",
          "Switzerland"
         ],
         "xaxis": "x",
         "y": [
          1443.88,
          2450.734,
          10399.37,
          3200.834,
          48168,
          46644.78,
          62517.83,
          88415.63
         ],
         "yaxis": "y"
        },
        {
         "marker": {
          "color": [
           "#665869",
           "#665869",
           "#665869",
           "#665869",
           "#665869",
           "#665869",
           "#665869",
           "#665869"
          ],
          "size": [
           50,
           50,
           50,
           50,
           70,
           70,
           70,
           70
          ]
         },
         "mode": "markers",
         "text": "GDP Per Capita in USD in 2013",
         "type": "scatter",
         "x": [
          "India",
          "Philippines",
          "Malaysia",
          "SriLanka",
          "Japan",
          "Germany",
          "Australia",
          "Switzerland"
         ],
         "xaxis": "x",
         "y": [
          1449.606,
          2871.431,
          10970.12,
          3610.289,
          40454.45,
          46285.76,
          68150.11,
          85112.46
         ],
         "yaxis": "y"
        },
        {
         "marker": {
          "color": [
           "#a7b9ff",
           "#a7b9ff",
           "#a7b9ff",
           "#a7b9ff",
           "#a7b9ff",
           "#a7b9ff",
           "#a7b9ff",
           "#a7b9ff"
          ],
          "size": [
           50,
           50,
           50,
           50,
           70,
           70,
           70,
           70
          ]
         },
         "mode": "markers",
         "text": "GDP Per Capita in USD in 2014 ",
         "type": "scatter",
         "x": [
          "India",
          "Philippines",
          "Malaysia",
          "SriLanka",
          "Japan",
          "Germany",
          "Australia",
          "Switzerland"
         ],
         "xaxis": "x",
         "y": [
          1573.881,
          2959.648,
          11319.08,
          3819.254,
          38109.41,
          47959.99,
          62510.79,
          86605.56
         ],
         "yaxis": "y"
        },
        {
         "marker": {
          "color": [
           "#9856eb",
           "#9856eb",
           "#9856eb",
           "#9856eb",
           "#9856eb",
           "#9856eb",
           "#9856eb",
           "#9856eb"
          ],
          "size": [
           50,
           50,
           50,
           50,
           70,
           70,
           70,
           70
          ]
         },
         "mode": "markers",
         "text": " GDP Per Capita in USD in 2015 ",
         "type": "scatter",
         "x": [
          "India",
          "Philippines",
          "Malaysia",
          "SriLanka",
          "Japan",
          "Germany",
          "Australia",
          "Switzerland"
         ],
         "xaxis": "x",
         "y": [
          1605.605,
          3001.04,
          9955.242,
          3843.781,
          34524.47,
          41139.54,
          65755.72,
          82081.6
         ],
         "yaxis": "y"
        },
        {
         "marker": {
          "color": [
           "#fc7f2b",
           "#fc7f2b",
           "#fc7f2b",
           "#fc7f2b",
           "#fc7f2b",
           "#fc7f2b",
           "#fc7f2b",
           "#fc7f2b"
          ],
          "size": [
           50,
           50,
           50,
           50,
           70,
           70,
           70,
           70
          ]
         },
         "mode": "markers",
         "text": "GDP Per Capita in USD in 2016 ",
         "type": "scatter",
         "x": [
          "India",
          "Philippines",
          "Malaysia",
          "SriLanka",
          "Japan",
          "Germany",
          "Australia",
          "Switzerland"
         ],
         "xaxis": "x",
         "y": [
          1732.64,
          3073.654,
          9817.741,
          3886.292,
          38761.82,
          42098.92,
          49971.13,
          80172.23
         ],
         "yaxis": "y"
        },
        {
         "marker": {
          "color": [
           "violet",
           "violet",
           "violet",
           "violet",
           "violet",
           "violet",
           "violet",
           "violet"
          ],
          "size": [
           50,
           50,
           50,
           50,
           70,
           70,
           70,
           70
          ]
         },
         "mode": "markers",
         "text": "GDP Per Capita USD in 2017 ",
         "type": "scatter",
         "x": [
          "India",
          "Philippines",
          "Malaysia",
          "SriLanka",
          "Japan",
          "Germany",
          "Australia",
          "Switzerland"
         ],
         "xaxis": "x",
         "y": [
          1981.651,
          3123.234,
          10254.23,
          4077.044,
          38386.51,
          44349.59,
          53331.818,
          80449.99
         ],
         "yaxis": "y"
        }
       ],
       "layout": {
        "template": {
         "data": {
          "bar": [
           {
            "error_x": {
             "color": "#2a3f5f"
            },
            "error_y": {
             "color": "#2a3f5f"
            },
            "marker": {
             "line": {
              "color": "#E5ECF6",
              "width": 0.5
             }
            },
            "type": "bar"
           }
          ],
          "barpolar": [
           {
            "marker": {
             "line": {
              "color": "#E5ECF6",
              "width": 0.5
             }
            },
            "type": "barpolar"
           }
          ],
          "carpet": [
           {
            "aaxis": {
             "endlinecolor": "#2a3f5f",
             "gridcolor": "white",
             "linecolor": "white",
             "minorgridcolor": "white",
             "startlinecolor": "#2a3f5f"
            },
            "baxis": {
             "endlinecolor": "#2a3f5f",
             "gridcolor": "white",
             "linecolor": "white",
             "minorgridcolor": "white",
             "startlinecolor": "#2a3f5f"
            },
            "type": "carpet"
           }
          ],
          "choropleth": [
           {
            "colorbar": {
             "outlinewidth": 0,
             "ticks": ""
            },
            "type": "choropleth"
           }
          ],
          "contour": [
           {
            "colorbar": {
             "outlinewidth": 0,
             "ticks": ""
            },
            "colorscale": [
             [
              0,
              "#0d0887"
             ],
             [
              0.1111111111111111,
              "#46039f"
             ],
             [
              0.2222222222222222,
              "#7201a8"
             ],
             [
              0.3333333333333333,
              "#9c179e"
             ],
             [
              0.4444444444444444,
              "#bd3786"
             ],
             [
              0.5555555555555556,
              "#d8576b"
             ],
             [
              0.6666666666666666,
              "#ed7953"
             ],
             [
              0.7777777777777778,
              "#fb9f3a"
             ],
             [
              0.8888888888888888,
              "#fdca26"
             ],
             [
              1,
              "#f0f921"
             ]
            ],
            "type": "contour"
           }
          ],
          "contourcarpet": [
           {
            "colorbar": {
             "outlinewidth": 0,
             "ticks": ""
            },
            "type": "contourcarpet"
           }
          ],
          "heatmap": [
           {
            "colorbar": {
             "outlinewidth": 0,
             "ticks": ""
            },
            "colorscale": [
             [
              0,
              "#0d0887"
             ],
             [
              0.1111111111111111,
              "#46039f"
             ],
             [
              0.2222222222222222,
              "#7201a8"
             ],
             [
              0.3333333333333333,
              "#9c179e"
             ],
             [
              0.4444444444444444,
              "#bd3786"
             ],
             [
              0.5555555555555556,
              "#d8576b"
             ],
             [
              0.6666666666666666,
              "#ed7953"
             ],
             [
              0.7777777777777778,
              "#fb9f3a"
             ],
             [
              0.8888888888888888,
              "#fdca26"
             ],
             [
              1,
              "#f0f921"
             ]
            ],
            "type": "heatmap"
           }
          ],
          "heatmapgl": [
           {
            "colorbar": {
             "outlinewidth": 0,
             "ticks": ""
            },
            "colorscale": [
             [
              0,
              "#0d0887"
             ],
             [
              0.1111111111111111,
              "#46039f"
             ],
             [
              0.2222222222222222,
              "#7201a8"
             ],
             [
              0.3333333333333333,
              "#9c179e"
             ],
             [
              0.4444444444444444,
              "#bd3786"
             ],
             [
              0.5555555555555556,
              "#d8576b"
             ],
             [
              0.6666666666666666,
              "#ed7953"
             ],
             [
              0.7777777777777778,
              "#fb9f3a"
             ],
             [
              0.8888888888888888,
              "#fdca26"
             ],
             [
              1,
              "#f0f921"
             ]
            ],
            "type": "heatmapgl"
           }
          ],
          "histogram": [
           {
            "marker": {
             "colorbar": {
              "outlinewidth": 0,
              "ticks": ""
             }
            },
            "type": "histogram"
           }
          ],
          "histogram2d": [
           {
            "colorbar": {
             "outlinewidth": 0,
             "ticks": ""
            },
            "colorscale": [
             [
              0,
              "#0d0887"
             ],
             [
              0.1111111111111111,
              "#46039f"
             ],
             [
              0.2222222222222222,
              "#7201a8"
             ],
             [
              0.3333333333333333,
              "#9c179e"
             ],
             [
              0.4444444444444444,
              "#bd3786"
             ],
             [
              0.5555555555555556,
              "#d8576b"
             ],
             [
              0.6666666666666666,
              "#ed7953"
             ],
             [
              0.7777777777777778,
              "#fb9f3a"
             ],
             [
              0.8888888888888888,
              "#fdca26"
             ],
             [
              1,
              "#f0f921"
             ]
            ],
            "type": "histogram2d"
           }
          ],
          "histogram2dcontour": [
           {
            "colorbar": {
             "outlinewidth": 0,
             "ticks": ""
            },
            "colorscale": [
             [
              0,
              "#0d0887"
             ],
             [
              0.1111111111111111,
              "#46039f"
             ],
             [
              0.2222222222222222,
              "#7201a8"
             ],
             [
              0.3333333333333333,
              "#9c179e"
             ],
             [
              0.4444444444444444,
              "#bd3786"
             ],
             [
              0.5555555555555556,
              "#d8576b"
             ],
             [
              0.6666666666666666,
              "#ed7953"
             ],
             [
              0.7777777777777778,
              "#fb9f3a"
             ],
             [
              0.8888888888888888,
              "#fdca26"
             ],
             [
              1,
              "#f0f921"
             ]
            ],
            "type": "histogram2dcontour"
           }
          ],
          "mesh3d": [
           {
            "colorbar": {
             "outlinewidth": 0,
             "ticks": ""
            },
            "type": "mesh3d"
           }
          ],
          "parcoords": [
           {
            "line": {
             "colorbar": {
              "outlinewidth": 0,
              "ticks": ""
             }
            },
            "type": "parcoords"
           }
          ],
          "pie": [
           {
            "automargin": true,
            "type": "pie"
           }
          ],
          "scatter": [
           {
            "marker": {
             "colorbar": {
              "outlinewidth": 0,
              "ticks": ""
             }
            },
            "type": "scatter"
           }
          ],
          "scatter3d": [
           {
            "line": {
             "colorbar": {
              "outlinewidth": 0,
              "ticks": ""
             }
            },
            "marker": {
             "colorbar": {
              "outlinewidth": 0,
              "ticks": ""
             }
            },
            "type": "scatter3d"
           }
          ],
          "scattercarpet": [
           {
            "marker": {
             "colorbar": {
              "outlinewidth": 0,
              "ticks": ""
             }
            },
            "type": "scattercarpet"
           }
          ],
          "scattergeo": [
           {
            "marker": {
             "colorbar": {
              "outlinewidth": 0,
              "ticks": ""
             }
            },
            "type": "scattergeo"
           }
          ],
          "scattergl": [
           {
            "marker": {
             "colorbar": {
              "outlinewidth": 0,
              "ticks": ""
             }
            },
            "type": "scattergl"
           }
          ],
          "scattermapbox": [
           {
            "marker": {
             "colorbar": {
              "outlinewidth": 0,
              "ticks": ""
             }
            },
            "type": "scattermapbox"
           }
          ],
          "scatterpolar": [
           {
            "marker": {
             "colorbar": {
              "outlinewidth": 0,
              "ticks": ""
             }
            },
            "type": "scatterpolar"
           }
          ],
          "scatterpolargl": [
           {
            "marker": {
             "colorbar": {
              "outlinewidth": 0,
              "ticks": ""
             }
            },
            "type": "scatterpolargl"
           }
          ],
          "scatterternary": [
           {
            "marker": {
             "colorbar": {
              "outlinewidth": 0,
              "ticks": ""
             }
            },
            "type": "scatterternary"
           }
          ],
          "surface": [
           {
            "colorbar": {
             "outlinewidth": 0,
             "ticks": ""
            },
            "colorscale": [
             [
              0,
              "#0d0887"
             ],
             [
              0.1111111111111111,
              "#46039f"
             ],
             [
              0.2222222222222222,
              "#7201a8"
             ],
             [
              0.3333333333333333,
              "#9c179e"
             ],
             [
              0.4444444444444444,
              "#bd3786"
             ],
             [
              0.5555555555555556,
              "#d8576b"
             ],
             [
              0.6666666666666666,
              "#ed7953"
             ],
             [
              0.7777777777777778,
              "#fb9f3a"
             ],
             [
              0.8888888888888888,
              "#fdca26"
             ],
             [
              1,
              "#f0f921"
             ]
            ],
            "type": "surface"
           }
          ],
          "table": [
           {
            "cells": {
             "fill": {
              "color": "#EBF0F8"
             },
             "line": {
              "color": "white"
             }
            },
            "header": {
             "fill": {
              "color": "#C8D4E3"
             },
             "line": {
              "color": "white"
             }
            },
            "type": "table"
           }
          ]
         },
         "layout": {
          "annotationdefaults": {
           "arrowcolor": "#2a3f5f",
           "arrowhead": 0,
           "arrowwidth": 1
          },
          "coloraxis": {
           "colorbar": {
            "outlinewidth": 0,
            "ticks": ""
           }
          },
          "colorscale": {
           "diverging": [
            [
             0,
             "#8e0152"
            ],
            [
             0.1,
             "#c51b7d"
            ],
            [
             0.2,
             "#de77ae"
            ],
            [
             0.3,
             "#f1b6da"
            ],
            [
             0.4,
             "#fde0ef"
            ],
            [
             0.5,
             "#f7f7f7"
            ],
            [
             0.6,
             "#e6f5d0"
            ],
            [
             0.7,
             "#b8e186"
            ],
            [
             0.8,
             "#7fbc41"
            ],
            [
             0.9,
             "#4d9221"
            ],
            [
             1,
             "#276419"
            ]
           ],
           "sequential": [
            [
             0,
             "#0d0887"
            ],
            [
             0.1111111111111111,
             "#46039f"
            ],
            [
             0.2222222222222222,
             "#7201a8"
            ],
            [
             0.3333333333333333,
             "#9c179e"
            ],
            [
             0.4444444444444444,
             "#bd3786"
            ],
            [
             0.5555555555555556,
             "#d8576b"
            ],
            [
             0.6666666666666666,
             "#ed7953"
            ],
            [
             0.7777777777777778,
             "#fb9f3a"
            ],
            [
             0.8888888888888888,
             "#fdca26"
            ],
            [
             1,
             "#f0f921"
            ]
           ],
           "sequentialminus": [
            [
             0,
             "#0d0887"
            ],
            [
             0.1111111111111111,
             "#46039f"
            ],
            [
             0.2222222222222222,
             "#7201a8"
            ],
            [
             0.3333333333333333,
             "#9c179e"
            ],
            [
             0.4444444444444444,
             "#bd3786"
            ],
            [
             0.5555555555555556,
             "#d8576b"
            ],
            [
             0.6666666666666666,
             "#ed7953"
            ],
            [
             0.7777777777777778,
             "#fb9f3a"
            ],
            [
             0.8888888888888888,
             "#fdca26"
            ],
            [
             1,
             "#f0f921"
            ]
           ]
          },
          "colorway": [
           "#636efa",
           "#EF553B",
           "#00cc96",
           "#ab63fa",
           "#FFA15A",
           "#19d3f3",
           "#FF6692",
           "#B6E880",
           "#FF97FF",
           "#FECB52"
          ],
          "font": {
           "color": "#2a3f5f"
          },
          "geo": {
           "bgcolor": "white",
           "lakecolor": "white",
           "landcolor": "#E5ECF6",
           "showlakes": true,
           "showland": true,
           "subunitcolor": "white"
          },
          "hoverlabel": {
           "align": "left"
          },
          "hovermode": "closest",
          "mapbox": {
           "style": "light"
          },
          "paper_bgcolor": "white",
          "plot_bgcolor": "#E5ECF6",
          "polar": {
           "angularaxis": {
            "gridcolor": "white",
            "linecolor": "white",
            "ticks": ""
           },
           "bgcolor": "#E5ECF6",
           "radialaxis": {
            "gridcolor": "white",
            "linecolor": "white",
            "ticks": ""
           }
          },
          "scene": {
           "xaxis": {
            "backgroundcolor": "#E5ECF6",
            "gridcolor": "white",
            "gridwidth": 2,
            "linecolor": "white",
            "showbackground": true,
            "ticks": "",
            "zerolinecolor": "white"
           },
           "yaxis": {
            "backgroundcolor": "#E5ECF6",
            "gridcolor": "white",
            "gridwidth": 2,
            "linecolor": "white",
            "showbackground": true,
            "ticks": "",
            "zerolinecolor": "white"
           },
           "zaxis": {
            "backgroundcolor": "#E5ECF6",
            "gridcolor": "white",
            "gridwidth": 2,
            "linecolor": "white",
            "showbackground": true,
            "ticks": "",
            "zerolinecolor": "white"
           }
          },
          "shapedefaults": {
           "line": {
            "color": "#2a3f5f"
           }
          },
          "ternary": {
           "aaxis": {
            "gridcolor": "white",
            "linecolor": "white",
            "ticks": ""
           },
           "baxis": {
            "gridcolor": "white",
            "linecolor": "white",
            "ticks": ""
           },
           "bgcolor": "#E5ECF6",
           "caxis": {
            "gridcolor": "white",
            "linecolor": "white",
            "ticks": ""
           }
          },
          "title": {
           "x": 0.05
          },
          "xaxis": {
           "automargin": true,
           "gridcolor": "white",
           "linecolor": "white",
           "ticks": "",
           "title": {
            "standoff": 15
           },
           "zerolinecolor": "white",
           "zerolinewidth": 2
          },
          "yaxis": {
           "automargin": true,
           "gridcolor": "white",
           "linecolor": "white",
           "ticks": "",
           "title": {
            "standoff": 15
           },
           "zerolinecolor": "white",
           "zerolinewidth": 2
          }
         }
        },
        "updatemenus": [
         {
          "buttons": [
           {
            "args": [
             {
              "visible": [
               false,
               false,
               false,
               false,
               false,
               false,
               false,
               false,
               false,
               false
              ]
             }
            ],
            "label": "Select Year",
            "method": "update"
           },
           {
            "args": [
             {
              "visible": [
               true,
               false,
               false,
               false,
               false,
               false,
               false,
               false,
               false,
               false
              ]
             }
            ],
            "label": "2008",
            "method": "update"
           },
           {
            "args": [
             {
              "visible": [
               false,
               true,
               false,
               false,
               false,
               false,
               false,
               false,
               false,
               false
              ]
             }
            ],
            "label": "2009",
            "method": "update"
           },
           {
            "args": [
             {
              "visible": [
               false,
               false,
               true,
               false,
               false,
               false,
               false,
               false,
               false,
               false
              ]
             }
            ],
            "label": "2010",
            "method": "update"
           },
           {
            "args": [
             {
              "visible": [
               false,
               false,
               false,
               true,
               false,
               false,
               false,
               false,
               false,
               false
              ]
             }
            ],
            "label": "2011",
            "method": "update"
           },
           {
            "args": [
             {
              "visible": [
               false,
               false,
               false,
               false,
               true,
               false,
               false,
               false,
               false,
               false
              ]
             }
            ],
            "label": "2012",
            "method": "update"
           },
           {
            "args": [
             {
              "visible": [
               false,
               false,
               false,
               false,
               false,
               true,
               false,
               false,
               false,
               false
              ]
             }
            ],
            "label": "2013",
            "method": "update"
           },
           {
            "args": [
             {
              "visible": [
               false,
               false,
               false,
               false,
               false,
               false,
               true,
               false,
               false,
               false
              ]
             }
            ],
            "label": "2014",
            "method": "update"
           },
           {
            "args": [
             {
              "visible": [
               false,
               false,
               false,
               false,
               false,
               false,
               false,
               true,
               false,
               false
              ]
             }
            ],
            "label": "2015",
            "method": "update"
           },
           {
            "args": [
             {
              "visible": [
               false,
               false,
               false,
               false,
               false,
               false,
               false,
               false,
               true,
               false
              ]
             }
            ],
            "label": "2016",
            "method": "update"
           },
           {
            "args": [
             {
              "visible": [
               false,
               false,
               false,
               false,
               false,
               false,
               false,
               false,
               false,
               true
              ]
             }
            ],
            "label": "2017",
            "method": "update"
           }
          ],
          "x": -0.01,
          "y": 1.1
         }
        ],
        "xaxis": {
         "anchor": "y",
         "domain": [
          0,
          1
         ]
        },
        "yaxis": {
         "anchor": "x",
         "domain": [
          0,
          1
         ]
        }
       }
      },
      "text/html": [
       "<div>                            <div id=\"35e3cca5-ec0d-4d15-851d-f8e64e4cbea7\" class=\"plotly-graph-div\" style=\"height:525px; width:100%;\"></div>            <script type=\"text/javascript\">                require([\"plotly\"], function(Plotly) {                    window.PLOTLYENV=window.PLOTLYENV || {};                                    if (document.getElementById(\"35e3cca5-ec0d-4d15-851d-f8e64e4cbea7\")) {                    Plotly.newPlot(                        \"35e3cca5-ec0d-4d15-851d-f8e64e4cbea7\",                        [{\"marker\": {\"color\": [\"green\", \"green\", \"green\", \"green\", \"green\", \"green\", \"green\", \"green\"], \"size\": [50, 50, 50, 50, 70, 70, 70, 70]}, \"mode\": \"markers\", \"text\": \"GDP per Captia in USD in 2008\", \"type\": \"scatter\", \"x\": [\"India\", \"Philippines\", \"Malaysia\", \"SriLanka\", \"Japan\", \"Germany\", \"Australia\", \"Switzerland\"], \"xaxis\": \"x\", \"y\": [998, 1991, 8474, 2037, 39339, 45427, 49601, 72487], \"yaxis\": \"y\"}, {\"marker\": {\"color\": [\"dodgerblue\", \"dodgerblue\", \"dodgerblue\", \"dodgerblue\", \"dodgerblue\", \"dodgerblue\", \"dodgerblue\", \"dodgerblue\"], \"size\": [50, 50, 50, 50, 70, 70, 70, 70]}, \"mode\": \"markers\", \"text\": \"GDP Per Capita in USD in 2009\", \"type\": \"scatter\", \"x\": [\"India\", \"Philippines\", \"Malaysia\", \"SriLanka\", \"Japan\", \"Germany\", \"Australia\", \"Switzerland\"], \"xaxis\": \"x\", \"y\": [1101, 1905, 7292, 2090, 40755, 41485, 42772, 69927], \"yaxis\": \"y\"}, {\"marker\": {\"color\": [\"blue\", \"blue\", \"blue\", \"blue\", \"blue\", \"blue\", \"blue\", \"blue\"], \"size\": [50, 50, 50, 50, 70, 70, 70, 70]}, \"mode\": \"markers\", \"text\": \"GDP Per capita in USD in 2010 \", \"type\": \"scatter\", \"x\": [\"India\", \"Philippines\", \"Malaysia\", \"SriLanka\", \"Japan\", \"Germany\", \"Australia\", \"Switzerland\"], \"xaxis\": \"x\", \"y\": [1357.564, 2217.474, 9040.566, 2799.649, 44507.68, 41531.93, 52022.13, 74605.72], \"yaxis\": \"y\"}, {\"marker\": {\"color\": [\"rgb(255, 0, 191)\", \"rgb(255, 0, 191)\", \"rgb(255, 0, 191)\", \"rgb(255, 0, 191)\", \"rgb(255, 0, 191)\", \"rgb(255, 0, 191)\", \"rgb(255, 0, 191)\", \"rgb(255, 0, 191)\"], \"size\": [50, 50, 50, 50, 70, 70, 70, 70]}, \"mode\": \"markers\", \"text\": \"GDP Per Capita in USD in 2011 \", \"type\": \"scatter\", \"x\": [\"India\", \"Philippines\", \"Malaysia\", \"SriLanka\", \"Japan\", \"Germany\", \"Australia\", \"Switzerland\"], \"xaxis\": \"x\", \"y\": [1458.104, 2450.734, 10399.37, 3200.834, 48168, 46644.78, 62517.83, 88415.63], \"yaxis\": \"y\"}, {\"marker\": {\"color\": [\"#66FFCC\", \"#66FFCC\", \"#66FFCC\", \"#66FFCC\", \"#66FFCC\", \"#66FFCC\", \"#66FFCC\", \"#66FFCC\"], \"size\": [50, 50, 50, 50, 70, 70, 70, 70]}, \"mode\": \"markers\", \"text\": \"GDP Per Capita in USD in 2012 \", \"type\": \"scatter\", \"x\": [\"India\", \"Philippines\", \"Malaysia\", \"SriLanka\", \"Japan\", \"Germany\", \"Australia\", \"Switzerland\"], \"xaxis\": \"x\", \"y\": [1443.88, 2450.734, 10399.37, 3200.834, 48168, 46644.78, 62517.83, 88415.63], \"yaxis\": \"y\"}, {\"marker\": {\"color\": [\"#665869\", \"#665869\", \"#665869\", \"#665869\", \"#665869\", \"#665869\", \"#665869\", \"#665869\"], \"size\": [50, 50, 50, 50, 70, 70, 70, 70]}, \"mode\": \"markers\", \"text\": \"GDP Per Capita in USD in 2013\", \"type\": \"scatter\", \"x\": [\"India\", \"Philippines\", \"Malaysia\", \"SriLanka\", \"Japan\", \"Germany\", \"Australia\", \"Switzerland\"], \"xaxis\": \"x\", \"y\": [1449.606, 2871.431, 10970.12, 3610.289, 40454.45, 46285.76, 68150.11, 85112.46], \"yaxis\": \"y\"}, {\"marker\": {\"color\": [\"#a7b9ff\", \"#a7b9ff\", \"#a7b9ff\", \"#a7b9ff\", \"#a7b9ff\", \"#a7b9ff\", \"#a7b9ff\", \"#a7b9ff\"], \"size\": [50, 50, 50, 50, 70, 70, 70, 70]}, \"mode\": \"markers\", \"text\": \"GDP Per Capita in USD in 2014 \", \"type\": \"scatter\", \"x\": [\"India\", \"Philippines\", \"Malaysia\", \"SriLanka\", \"Japan\", \"Germany\", \"Australia\", \"Switzerland\"], \"xaxis\": \"x\", \"y\": [1573.881, 2959.648, 11319.08, 3819.254, 38109.41, 47959.99, 62510.79, 86605.56], \"yaxis\": \"y\"}, {\"marker\": {\"color\": [\"#9856eb\", \"#9856eb\", \"#9856eb\", \"#9856eb\", \"#9856eb\", \"#9856eb\", \"#9856eb\", \"#9856eb\"], \"size\": [50, 50, 50, 50, 70, 70, 70, 70]}, \"mode\": \"markers\", \"text\": \" GDP Per Capita in USD in 2015 \", \"type\": \"scatter\", \"x\": [\"India\", \"Philippines\", \"Malaysia\", \"SriLanka\", \"Japan\", \"Germany\", \"Australia\", \"Switzerland\"], \"xaxis\": \"x\", \"y\": [1605.605, 3001.04, 9955.242, 3843.781, 34524.47, 41139.54, 65755.72, 82081.6], \"yaxis\": \"y\"}, {\"marker\": {\"color\": [\"#fc7f2b\", \"#fc7f2b\", \"#fc7f2b\", \"#fc7f2b\", \"#fc7f2b\", \"#fc7f2b\", \"#fc7f2b\", \"#fc7f2b\"], \"size\": [50, 50, 50, 50, 70, 70, 70, 70]}, \"mode\": \"markers\", \"text\": \"GDP Per Capita in USD in 2016 \", \"type\": \"scatter\", \"x\": [\"India\", \"Philippines\", \"Malaysia\", \"SriLanka\", \"Japan\", \"Germany\", \"Australia\", \"Switzerland\"], \"xaxis\": \"x\", \"y\": [1732.64, 3073.654, 9817.741, 3886.292, 38761.82, 42098.92, 49971.13, 80172.23], \"yaxis\": \"y\"}, {\"marker\": {\"color\": [\"violet\", \"violet\", \"violet\", \"violet\", \"violet\", \"violet\", \"violet\", \"violet\"], \"size\": [50, 50, 50, 50, 70, 70, 70, 70]}, \"mode\": \"markers\", \"text\": \"GDP Per Capita USD in 2017 \", \"type\": \"scatter\", \"x\": [\"India\", \"Philippines\", \"Malaysia\", \"SriLanka\", \"Japan\", \"Germany\", \"Australia\", \"Switzerland\"], \"xaxis\": \"x\", \"y\": [1981.651, 3123.234, 10254.23, 4077.044, 38386.51, 44349.59, 53331.818, 80449.99], \"yaxis\": \"y\"}],                        {\"template\": {\"data\": {\"bar\": [{\"error_x\": {\"color\": \"#2a3f5f\"}, \"error_y\": {\"color\": \"#2a3f5f\"}, \"marker\": {\"line\": {\"color\": \"#E5ECF6\", \"width\": 0.5}}, \"type\": \"bar\"}], \"barpolar\": [{\"marker\": {\"line\": {\"color\": \"#E5ECF6\", \"width\": 0.5}}, \"type\": \"barpolar\"}], \"carpet\": [{\"aaxis\": {\"endlinecolor\": \"#2a3f5f\", \"gridcolor\": \"white\", \"linecolor\": \"white\", \"minorgridcolor\": \"white\", \"startlinecolor\": \"#2a3f5f\"}, \"baxis\": {\"endlinecolor\": \"#2a3f5f\", \"gridcolor\": \"white\", \"linecolor\": \"white\", \"minorgridcolor\": \"white\", \"startlinecolor\": \"#2a3f5f\"}, \"type\": \"carpet\"}], \"choropleth\": [{\"colorbar\": {\"outlinewidth\": 0, \"ticks\": \"\"}, \"type\": \"choropleth\"}], \"contour\": [{\"colorbar\": {\"outlinewidth\": 0, \"ticks\": \"\"}, \"colorscale\": [[0.0, \"#0d0887\"], [0.1111111111111111, \"#46039f\"], [0.2222222222222222, \"#7201a8\"], [0.3333333333333333, \"#9c179e\"], [0.4444444444444444, \"#bd3786\"], [0.5555555555555556, \"#d8576b\"], [0.6666666666666666, \"#ed7953\"], [0.7777777777777778, \"#fb9f3a\"], [0.8888888888888888, \"#fdca26\"], [1.0, \"#f0f921\"]], \"type\": \"contour\"}], \"contourcarpet\": [{\"colorbar\": {\"outlinewidth\": 0, \"ticks\": \"\"}, \"type\": \"contourcarpet\"}], \"heatmap\": [{\"colorbar\": {\"outlinewidth\": 0, \"ticks\": \"\"}, \"colorscale\": [[0.0, \"#0d0887\"], [0.1111111111111111, \"#46039f\"], [0.2222222222222222, \"#7201a8\"], [0.3333333333333333, \"#9c179e\"], [0.4444444444444444, \"#bd3786\"], [0.5555555555555556, \"#d8576b\"], [0.6666666666666666, \"#ed7953\"], [0.7777777777777778, \"#fb9f3a\"], [0.8888888888888888, \"#fdca26\"], [1.0, \"#f0f921\"]], \"type\": \"heatmap\"}], \"heatmapgl\": [{\"colorbar\": {\"outlinewidth\": 0, \"ticks\": \"\"}, \"colorscale\": [[0.0, \"#0d0887\"], [0.1111111111111111, \"#46039f\"], [0.2222222222222222, \"#7201a8\"], [0.3333333333333333, \"#9c179e\"], [0.4444444444444444, \"#bd3786\"], [0.5555555555555556, \"#d8576b\"], [0.6666666666666666, \"#ed7953\"], [0.7777777777777778, \"#fb9f3a\"], [0.8888888888888888, \"#fdca26\"], [1.0, \"#f0f921\"]], \"type\": \"heatmapgl\"}], \"histogram\": [{\"marker\": {\"colorbar\": {\"outlinewidth\": 0, \"ticks\": \"\"}}, \"type\": \"histogram\"}], \"histogram2d\": [{\"colorbar\": {\"outlinewidth\": 0, \"ticks\": \"\"}, \"colorscale\": [[0.0, \"#0d0887\"], [0.1111111111111111, \"#46039f\"], [0.2222222222222222, \"#7201a8\"], [0.3333333333333333, \"#9c179e\"], [0.4444444444444444, \"#bd3786\"], [0.5555555555555556, \"#d8576b\"], [0.6666666666666666, \"#ed7953\"], [0.7777777777777778, \"#fb9f3a\"], [0.8888888888888888, \"#fdca26\"], [1.0, \"#f0f921\"]], \"type\": \"histogram2d\"}], \"histogram2dcontour\": [{\"colorbar\": {\"outlinewidth\": 0, \"ticks\": \"\"}, \"colorscale\": [[0.0, \"#0d0887\"], [0.1111111111111111, \"#46039f\"], [0.2222222222222222, \"#7201a8\"], [0.3333333333333333, \"#9c179e\"], [0.4444444444444444, \"#bd3786\"], [0.5555555555555556, \"#d8576b\"], [0.6666666666666666, \"#ed7953\"], [0.7777777777777778, \"#fb9f3a\"], [0.8888888888888888, \"#fdca26\"], [1.0, \"#f0f921\"]], \"type\": \"histogram2dcontour\"}], \"mesh3d\": [{\"colorbar\": {\"outlinewidth\": 0, \"ticks\": \"\"}, \"type\": \"mesh3d\"}], \"parcoords\": [{\"line\": {\"colorbar\": {\"outlinewidth\": 0, \"ticks\": \"\"}}, \"type\": \"parcoords\"}], \"pie\": [{\"automargin\": true, \"type\": \"pie\"}], \"scatter\": [{\"marker\": {\"colorbar\": {\"outlinewidth\": 0, \"ticks\": \"\"}}, \"type\": \"scatter\"}], \"scatter3d\": [{\"line\": {\"colorbar\": {\"outlinewidth\": 0, \"ticks\": \"\"}}, \"marker\": {\"colorbar\": {\"outlinewidth\": 0, \"ticks\": \"\"}}, \"type\": \"scatter3d\"}], \"scattercarpet\": [{\"marker\": {\"colorbar\": {\"outlinewidth\": 0, \"ticks\": \"\"}}, \"type\": \"scattercarpet\"}], \"scattergeo\": [{\"marker\": {\"colorbar\": {\"outlinewidth\": 0, \"ticks\": \"\"}}, \"type\": \"scattergeo\"}], \"scattergl\": [{\"marker\": {\"colorbar\": {\"outlinewidth\": 0, \"ticks\": \"\"}}, \"type\": \"scattergl\"}], \"scattermapbox\": [{\"marker\": {\"colorbar\": {\"outlinewidth\": 0, \"ticks\": \"\"}}, \"type\": \"scattermapbox\"}], \"scatterpolar\": [{\"marker\": {\"colorbar\": {\"outlinewidth\": 0, \"ticks\": \"\"}}, \"type\": \"scatterpolar\"}], \"scatterpolargl\": [{\"marker\": {\"colorbar\": {\"outlinewidth\": 0, \"ticks\": \"\"}}, \"type\": \"scatterpolargl\"}], \"scatterternary\": [{\"marker\": {\"colorbar\": {\"outlinewidth\": 0, \"ticks\": \"\"}}, \"type\": \"scatterternary\"}], \"surface\": [{\"colorbar\": {\"outlinewidth\": 0, \"ticks\": \"\"}, \"colorscale\": [[0.0, \"#0d0887\"], [0.1111111111111111, \"#46039f\"], [0.2222222222222222, \"#7201a8\"], [0.3333333333333333, \"#9c179e\"], [0.4444444444444444, \"#bd3786\"], [0.5555555555555556, \"#d8576b\"], [0.6666666666666666, \"#ed7953\"], [0.7777777777777778, \"#fb9f3a\"], [0.8888888888888888, \"#fdca26\"], [1.0, \"#f0f921\"]], \"type\": \"surface\"}], \"table\": [{\"cells\": {\"fill\": {\"color\": \"#EBF0F8\"}, \"line\": {\"color\": \"white\"}}, \"header\": {\"fill\": {\"color\": \"#C8D4E3\"}, \"line\": {\"color\": \"white\"}}, \"type\": \"table\"}]}, \"layout\": {\"annotationdefaults\": {\"arrowcolor\": \"#2a3f5f\", \"arrowhead\": 0, \"arrowwidth\": 1}, \"coloraxis\": {\"colorbar\": {\"outlinewidth\": 0, \"ticks\": \"\"}}, \"colorscale\": {\"diverging\": [[0, \"#8e0152\"], [0.1, \"#c51b7d\"], [0.2, \"#de77ae\"], [0.3, \"#f1b6da\"], [0.4, \"#fde0ef\"], [0.5, \"#f7f7f7\"], [0.6, \"#e6f5d0\"], [0.7, \"#b8e186\"], [0.8, \"#7fbc41\"], [0.9, \"#4d9221\"], [1, \"#276419\"]], \"sequential\": [[0.0, \"#0d0887\"], [0.1111111111111111, \"#46039f\"], [0.2222222222222222, \"#7201a8\"], [0.3333333333333333, \"#9c179e\"], [0.4444444444444444, \"#bd3786\"], [0.5555555555555556, \"#d8576b\"], [0.6666666666666666, \"#ed7953\"], [0.7777777777777778, \"#fb9f3a\"], [0.8888888888888888, \"#fdca26\"], [1.0, \"#f0f921\"]], \"sequentialminus\": [[0.0, \"#0d0887\"], [0.1111111111111111, \"#46039f\"], [0.2222222222222222, \"#7201a8\"], [0.3333333333333333, \"#9c179e\"], [0.4444444444444444, \"#bd3786\"], [0.5555555555555556, \"#d8576b\"], [0.6666666666666666, \"#ed7953\"], [0.7777777777777778, \"#fb9f3a\"], [0.8888888888888888, \"#fdca26\"], [1.0, \"#f0f921\"]]}, \"colorway\": [\"#636efa\", \"#EF553B\", \"#00cc96\", \"#ab63fa\", \"#FFA15A\", \"#19d3f3\", \"#FF6692\", \"#B6E880\", \"#FF97FF\", \"#FECB52\"], \"font\": {\"color\": \"#2a3f5f\"}, \"geo\": {\"bgcolor\": \"white\", \"lakecolor\": \"white\", \"landcolor\": \"#E5ECF6\", \"showlakes\": true, \"showland\": true, \"subunitcolor\": \"white\"}, \"hoverlabel\": {\"align\": \"left\"}, \"hovermode\": \"closest\", \"mapbox\": {\"style\": \"light\"}, \"paper_bgcolor\": \"white\", \"plot_bgcolor\": \"#E5ECF6\", \"polar\": {\"angularaxis\": {\"gridcolor\": \"white\", \"linecolor\": \"white\", \"ticks\": \"\"}, \"bgcolor\": \"#E5ECF6\", \"radialaxis\": {\"gridcolor\": \"white\", \"linecolor\": \"white\", \"ticks\": \"\"}}, \"scene\": {\"xaxis\": {\"backgroundcolor\": \"#E5ECF6\", \"gridcolor\": \"white\", \"gridwidth\": 2, \"linecolor\": \"white\", \"showbackground\": true, \"ticks\": \"\", \"zerolinecolor\": \"white\"}, \"yaxis\": {\"backgroundcolor\": \"#E5ECF6\", \"gridcolor\": \"white\", \"gridwidth\": 2, \"linecolor\": \"white\", \"showbackground\": true, \"ticks\": \"\", \"zerolinecolor\": \"white\"}, \"zaxis\": {\"backgroundcolor\": \"#E5ECF6\", \"gridcolor\": \"white\", \"gridwidth\": 2, \"linecolor\": \"white\", \"showbackground\": true, \"ticks\": \"\", \"zerolinecolor\": \"white\"}}, \"shapedefaults\": {\"line\": {\"color\": \"#2a3f5f\"}}, \"ternary\": {\"aaxis\": {\"gridcolor\": \"white\", \"linecolor\": \"white\", \"ticks\": \"\"}, \"baxis\": {\"gridcolor\": \"white\", \"linecolor\": \"white\", \"ticks\": \"\"}, \"bgcolor\": \"#E5ECF6\", \"caxis\": {\"gridcolor\": \"white\", \"linecolor\": \"white\", \"ticks\": \"\"}}, \"title\": {\"x\": 0.05}, \"xaxis\": {\"automargin\": true, \"gridcolor\": \"white\", \"linecolor\": \"white\", \"ticks\": \"\", \"title\": {\"standoff\": 15}, \"zerolinecolor\": \"white\", \"zerolinewidth\": 2}, \"yaxis\": {\"automargin\": true, \"gridcolor\": \"white\", \"linecolor\": \"white\", \"ticks\": \"\", \"title\": {\"standoff\": 15}, \"zerolinecolor\": \"white\", \"zerolinewidth\": 2}}}, \"updatemenus\": [{\"buttons\": [{\"args\": [{\"visible\": [false, false, false, false, false, false, false, false, false, false]}], \"label\": \"Select Year\", \"method\": \"update\"}, {\"args\": [{\"visible\": [true, false, false, false, false, false, false, false, false, false]}], \"label\": \"2008\", \"method\": \"update\"}, {\"args\": [{\"visible\": [false, true, false, false, false, false, false, false, false, false]}], \"label\": \"2009\", \"method\": \"update\"}, {\"args\": [{\"visible\": [false, false, true, false, false, false, false, false, false, false]}], \"label\": \"2010\", \"method\": \"update\"}, {\"args\": [{\"visible\": [false, false, false, true, false, false, false, false, false, false]}], \"label\": \"2011\", \"method\": \"update\"}, {\"args\": [{\"visible\": [false, false, false, false, true, false, false, false, false, false]}], \"label\": \"2012\", \"method\": \"update\"}, {\"args\": [{\"visible\": [false, false, false, false, false, true, false, false, false, false]}], \"label\": \"2013\", \"method\": \"update\"}, {\"args\": [{\"visible\": [false, false, false, false, false, false, true, false, false, false]}], \"label\": \"2014\", \"method\": \"update\"}, {\"args\": [{\"visible\": [false, false, false, false, false, false, false, true, false, false]}], \"label\": \"2015\", \"method\": \"update\"}, {\"args\": [{\"visible\": [false, false, false, false, false, false, false, false, true, false]}], \"label\": \"2016\", \"method\": \"update\"}, {\"args\": [{\"visible\": [false, false, false, false, false, false, false, false, false, true]}], \"label\": \"2017\", \"method\": \"update\"}], \"x\": -0.01, \"y\": 1.1}], \"xaxis\": {\"anchor\": \"y\", \"domain\": [0.0, 1.0]}, \"yaxis\": {\"anchor\": \"x\", \"domain\": [0.0, 1.0]}},                        {\"responsive\": true}                    ).then(function(){\n",
       "                            \n",
       "var gd = document.getElementById('35e3cca5-ec0d-4d15-851d-f8e64e4cbea7');\n",
       "var x = new MutationObserver(function (mutations, observer) {{\n",
       "        var display = window.getComputedStyle(gd).display;\n",
       "        if (!display || display === 'none') {{\n",
       "            console.log([gd, 'removed!']);\n",
       "            Plotly.purge(gd);\n",
       "            observer.disconnect();\n",
       "        }}\n",
       "}});\n",
       "\n",
       "// Listen for the removal of the full notebook cells\n",
       "var notebookContainer = gd.closest('#notebook-container');\n",
       "if (notebookContainer) {{\n",
       "    x.observe(notebookContainer, {childList: true});\n",
       "}}\n",
       "\n",
       "// Listen for the clearing of the current output cell\n",
       "var outputEl = gd.closest('.output');\n",
       "if (outputEl) {{\n",
       "    x.observe(outputEl, {childList: true});\n",
       "}}\n",
       "\n",
       "                        })                };                });            </script>        </div>"
      ]
     },
     "metadata": {},
     "output_type": "display_data"
    }
   ],
   "source": [
    "import pandas as pd\n",
    "import numpy as np\n",
    "import matplotlib.pyplot as plt\n",
    "import matplotlib.gridspec as gridspec\n",
    "from plotly.subplots import make_subplots\n",
    "import plotly.graph_objects as go\n",
    "\n",
    "fig3 = make_subplots(rows=1, cols=1)\n",
    "\n",
    "countries = ['India','Philippines','Malaysia','SriLanka','Japan','Germany','Australia','Switzerland']\n",
    "fig3.add_trace(go.Scatter(x=countries,y=[998,1991,8474,2037,39339,45427,49601,72487],text='GDP per Captia in USD in 2008',marker_color=['green','green','green','green','green','green','green','green'],\n",
    "                                                                              mode='markers',marker_size=[50,50,50,50,70,70,70,70]),row=1, col=1) \n",
    "\n",
    "fig3.add_trace(go.Scatter(x=countries,y=[1101,1905,7292,2090,40755,41485,42772,69927],text='GDP Per Capita in USD in 2009' ,marker_color=['dodgerblue','dodgerblue','dodgerblue','dodgerblue','dodgerblue','dodgerblue','dodgerblue','dodgerblue'],\n",
    "                                                                              mode='markers',marker_size=[50,50,50,50,70,70,70,70]),row=1, col=1) \n",
    "\n",
    "fig3.add_trace(go.Scatter(x=countries,y=[1357.564,2217.474,9040.566,2799.649,44507.68,41531.93,52022.13,74605.72],text='GDP Per capita in USD in 2010 ',marker_color=['blue','blue','blue','blue','blue','blue','blue','blue'],\n",
    "                                                                              mode='markers',marker_size=[50,50,50,50,70,70,70,70]),row=1, col=1) \n",
    "fig3.add_trace(go.Scatter(x=countries,y=[1458.104,2450.734,10399.37,3200.834,48168,46644.78,62517.83,88415.63],text='GDP Per Capita in USD in 2011 ',marker_color=['rgb(255, 0, 191)','rgb(255, 0, 191)','rgb(255, 0, 191)','rgb(255, 0, 191)','rgb(255, 0, 191)','rgb(255, 0, 191)','rgb(255, 0, 191)','rgb(255, 0, 191)'],\n",
    "                                                                              mode='markers',marker_size=[50,50,50,50,70,70,70,70]),row=1, col=1) \n",
    "fig3.add_trace(go.Scatter(x=countries,y=[1443.88,2450.734,10399.37,3200.834,48168,46644.78,62517.83,88415.63],text='GDP Per Capita in USD in 2012 ',marker_color=['#66FFCC','#66FFCC','#66FFCC','#66FFCC','#66FFCC','#66FFCC','#66FFCC','#66FFCC'],\n",
    "                                                                                mode='markers',marker_size=[50,50,50,50,70,70,70,70]),row=1, col=1)\n",
    "fig3.add_trace(go.Scatter(x=countries,y=[1449.606,2871.431,10970.12,3610.289,40454.45,46285.76,68150.11,85112.46],text='GDP Per Capita in USD in 2013' ,marker_color=['#665869','#665869','#665869','#665869','#665869','#665869','#665869','#665869'],\n",
    "                                                                              mode='markers',marker_size=[50,50,50,50,70,70,70,70]),row=1, col=1)\n",
    "fig3.add_trace(go.Scatter(x=countries,y=[1573.881,2959.648,11319.08,3819.254,38109.41,47959.99,62510.79,86605.56],text='GDP Per Capita in USD in 2014 ',marker_color=['#a7b9ff','#a7b9ff','#a7b9ff','#a7b9ff','#a7b9ff','#a7b9ff','#a7b9ff','#a7b9ff'],\n",
    "                                                                              mode='markers',marker_size=[50,50,50,50,70,70,70,70]),row=1,col=1)\n",
    "\n",
    "fig3.add_trace(go.Scatter(x=countries,y=[1605.605,3001.04,9955.242,3843.781,34524.47,41139.54,65755.72,82081.6],text=' GDP Per Capita in USD in 2015 ',marker_color=['#9856eb','#9856eb','#9856eb','#9856eb','#9856eb','#9856eb','#9856eb','#9856eb'],\n",
    "                                                                              mode='markers',marker_size=[50,50,50,50,70,70,70,70]),row=1, col=1)\n",
    "fig3.add_trace(go.Scatter(x=countries,y=[1732.64,3073.654,9817.741,3886.292,38761.82,42098.92,49971.13,80172.23],text='GDP Per Capita in USD in 2016 ',marker_color=['#fc7f2b','#fc7f2b','#fc7f2b','#fc7f2b','#fc7f2b','#fc7f2b','#fc7f2b','#fc7f2b'],\n",
    "                                                                  mode='markers',marker_size=[50,50,50,50,70,70,70,70]),row=1, col=1)\n",
    "fig3.add_trace(go.Scatter(x=countries,y=[1981.651,3123.234,10254.23,4077.044,38386.51,44349.59,53331.818,80449.99],text='GDP Per Capita USD in 2017 ',marker_color=['violet','violet','violet','violet','violet','violet','violet','violet'],\n",
    "                                                                               mode='markers',marker_size=[50,50,50,50,70,70,70,70]),row=1, col=1)\n",
    "\n",
    "fig3.update_layout(\n",
    "updatemenus=[\n",
    "        dict(\n",
    "            buttons=list([\n",
    "                dict(args = [{'visible': [False, False,False, False,False, False,False ,False,False,False]}],\n",
    "                    label=\"Select Year\",\n",
    "                    method=\"update\"),\n",
    "                dict(args = [{'visible': [True, False,False, False,False, False,False, False,False,False]}],\n",
    "                    label=\"2008\",\n",
    "                    method=\"update\"),\n",
    "                dict(args = [{'visible': [False, True,False, False,False, False,False, False,False,False]}],\n",
    "                    label=\"2009\",\n",
    "                    method=\"update\"),\n",
    "                dict(args = [{'visible': [False, False,True, False,False, False,False, False,False,False]}],\n",
    "                    label=\"2010\",\n",
    "                    method=\"update\"),\n",
    "                dict(args = [{'visible': [False, False,False, True,False, False,False, False,False,False]}],\n",
    "                    label=\"2011\",\n",
    "                    method=\"update\"),\n",
    "                dict(args = [{'visible': [False, False,False, False,True, False,False, False,False,False]}],\n",
    "                    label=\"2012\",\n",
    "                    method=\"update\"),\n",
    "                dict(args = [{'visible': [False, False,False, False,False, True,False, False,False,False]}],\n",
    "                    label=\"2013\",\n",
    "                    method=\"update\"),\n",
    "                dict(args = [{'visible': [False, False,False, False,False, False,True, False,False,False]}],\n",
    "                    label=\"2014\",\n",
    "                    method=\"update\"),\n",
    "                dict(args = [{'visible': [False, False,False, False,False, False,False, True,False,False]}],\n",
    "                    label=\"2015\",\n",
    "                    method=\"update\"),\n",
    "                \n",
    "                dict(args = [{'visible': [False, False,False, False,False, False,False, False,True,False]}],\n",
    "                    label=\"2016\",\n",
    "                     method=\"update\"),\n",
    "                dict(args = [{'visible': [False, False,False, False,False, False,False, False,False,True]}],\n",
    "                    label=\"2017\",\n",
    "                     method=\"update\")]), x=-0.01,y=1.1),\n",
    "      \n",
    "    ]\n",
    "    \n",
    ")\n",
    "\n",
    "fig3.show()"
   ]
  },
  {
   "cell_type": "code",
   "execution_count": 3,
   "metadata": {
    "scrolled": true
   },
   "outputs": [
    {
     "data": {
      "application/vnd.plotly.v1+json": {
       "config": {
        "plotlyServerURL": "https://plot.ly"
       },
       "data": [
        {
         "marker": {
          "color": [
           "green",
           "green",
           "green",
           "green",
           "green",
           "green",
           "green",
           "green"
          ]
         },
         "mode": "markers+lines",
         "text": "Health expenditure per captia in USD dollars",
         "type": "scatter",
         "x": [
          "2008",
          "2009",
          "2010",
          "2011",
          "2012",
          "2013",
          "2014",
          "2015",
          "2016",
          "2017"
         ],
         "xaxis": "x",
         "y": [
          "37.9936",
          "38.41241",
          "45.25077",
          "48.72284",
          "49.0514",
          "56.21846",
          "57.15114",
          "58.96634",
          "60.61838",
          "69.2931"
         ],
         "yaxis": "y"
        },
        {
         "marker": {
          "color": [
           "dodgerblue",
           "dodgerblue",
           "dodgerblue",
           "dodgerblue",
           "dodgerblue",
           "dodgerblue",
           "dodgerblue",
           "dodgerblue"
          ]
         },
         "mode": "markers+lines",
         "text": "Health expenditure per captia in USD dollars",
         "type": "scatter",
         "x": [
          "2008",
          "2009",
          "2010",
          "2011",
          "2012",
          "2013",
          "2014",
          "2015",
          "2016",
          "2017"
         ],
         "xaxis": "x",
         "y": [
          "77.31463",
          "79.46684",
          "91.84032",
          "98.94901",
          "112.9456",
          "123.2141",
          "117.3399",
          "124.3835",
          "130.046",
          "132.901"
         ],
         "yaxis": "y"
        },
        {
         "marker": {
          "color": [
           "blue",
           "blue",
           "blue",
           "blue",
           "blue",
           "blue",
           "blue",
           "blue"
          ]
         },
         "mode": "markers+lines",
         "text": "Health expenditure per captia in USD dollars ",
         "type": "scatter",
         "x": [
          "2008",
          "2009",
          "2010",
          "2011",
          "2012",
          "2013",
          "2014",
          "2015",
          "2016",
          "2017"
         ],
         "xaxis": "x",
         "y": [
          "270.9453",
          "251.4062",
          "292.8907",
          "352.5934",
          "382.2892",
          "388.6968",
          "421.9694",
          "376.0574",
          "361.522",
          "384.0061"
         ],
         "yaxis": "y"
        },
        {
         "marker": {
          "color": [
           "rgb(255, 0, 191)",
           "rgb(255, 0, 191)",
           "rgb(255, 0, 191)",
           "rgb(255, 0, 191)",
           "rgb(255, 0, 191)",
           "rgb(255, 0, 191)",
           "rgb(255, 0, 191)",
           "rgb(255, 0, 191)"
          ]
         },
         "mode": "markers+lines",
         "text": "Health expenditure per captia in USD dollars ",
         "type": "scatter",
         "x": [
          "2008",
          "2009",
          "2010",
          "2011",
          "2012",
          "2013",
          "2014",
          "2015",
          "2016",
          "2017"
         ],
         "xaxis": "x",
         "y": [
          "93.08516",
          "100.5639",
          "108.615",
          "119.4629",
          "114.0491",
          "138.5542",
          "138.7721",
          "151.3676",
          "153.0968",
          "159.4847"
         ],
         "yaxis": "y"
        },
        {
         "marker": {
          "color": [
           "#66FFCC",
           "#66FFCC",
           "#66FFCC",
           "#66FFCC",
           "#66FFCC",
           "#66FFCC",
           "#66FFCC",
           "#66FFCC"
          ]
         },
         "mode": "markers+lines",
         "text": "Health expenditure per captia in USD ",
         "type": "scatter",
         "x": [
          "2008",
          "2009",
          "2010",
          "2011",
          "2012",
          "2013",
          "2014",
          "2015",
          "2016",
          "2017"
         ],
         "xaxis": "x",
         "y": [
          "3213.399",
          "3685.825",
          "4060.19",
          "5087.102",
          "5212.07",
          "4336.15",
          "4099.465",
          "3733.673",
          "4174.904",
          "4168.986"
         ],
         "yaxis": "y"
        },
        {
         "marker": {
          "color": [
           "#665869",
           "#665869",
           "#665869",
           "#665869",
           "#665869",
           "#665869",
           "#665869",
           "#665869"
          ]
         },
         "mode": "markers+lines",
         "text": "Health expenditure per captia in USD dollars ",
         "type": "scatter",
         "x": [
          "2008",
          "2009",
          "2010",
          "2011",
          "2012",
          "2013",
          "2014",
          "2015",
          "2016",
          "2017"
         ],
         "xaxis": "x",
         "y": [
          "4635.934",
          "4643.003",
          "4597.245",
          "5021.631",
          "4754.656",
          "5094.416",
          "5290.722",
          "4617.491",
          "4734.183",
          "5033.452"
         ],
         "yaxis": "y"
        },
        {
         "marker": {
          "color": [
           "#a7b9ff",
           "#a7b9ff",
           "#a7b9ff",
           "#a7b9ff",
           "#a7b9ff",
           "#a7b9ff",
           "#a7b9ff",
           "#a7b9ff"
          ]
         },
         "mode": "markers+lines",
         "text": "Health expenditure per captia in USD dollars  ",
         "type": "scatter",
         "x": [
          "2008",
          "2009",
          "2010",
          "2011",
          "2012",
          "2013",
          "2014",
          "2015",
          "2016",
          "2017"
         ],
         "xaxis": "x",
         "y": [
          "4088.778",
          "3997.577",
          "4952.777",
          "5876.866",
          "6047.058",
          "5838.414",
          "5637.567",
          "4887.801",
          "4999.811",
          "5331.818"
         ],
         "yaxis": "y"
        },
        {
         "marker": {
          "color": [
           "#9856eb",
           "#9856eb",
           "#9856eb",
           "#9856eb",
           "#9856eb",
           "#9856eb",
           "#9856eb",
           "#9856eb"
          ]
         },
         "mode": "markers+lines",
         "text": "Health expenditure per captia in USD dollars ",
         "type": "scatter",
         "x": [
          "2008",
          "2009",
          "2010",
          "2011",
          "2012",
          "2013",
          "2014",
          "2015",
          "2016",
          "2017"
         ],
         "xaxis": "x",
         "y": [
          "7411.206",
          "7599.473",
          "8021.81",
          "9572.172",
          "9286.85",
          "9689.675",
          "10014.71",
          "9807.799",
          "9835.964",
          "9956.26"
         ],
         "yaxis": "y"
        }
       ],
       "layout": {
        "template": {
         "data": {
          "bar": [
           {
            "error_x": {
             "color": "#2a3f5f"
            },
            "error_y": {
             "color": "#2a3f5f"
            },
            "marker": {
             "line": {
              "color": "#E5ECF6",
              "width": 0.5
             }
            },
            "type": "bar"
           }
          ],
          "barpolar": [
           {
            "marker": {
             "line": {
              "color": "#E5ECF6",
              "width": 0.5
             }
            },
            "type": "barpolar"
           }
          ],
          "carpet": [
           {
            "aaxis": {
             "endlinecolor": "#2a3f5f",
             "gridcolor": "white",
             "linecolor": "white",
             "minorgridcolor": "white",
             "startlinecolor": "#2a3f5f"
            },
            "baxis": {
             "endlinecolor": "#2a3f5f",
             "gridcolor": "white",
             "linecolor": "white",
             "minorgridcolor": "white",
             "startlinecolor": "#2a3f5f"
            },
            "type": "carpet"
           }
          ],
          "choropleth": [
           {
            "colorbar": {
             "outlinewidth": 0,
             "ticks": ""
            },
            "type": "choropleth"
           }
          ],
          "contour": [
           {
            "colorbar": {
             "outlinewidth": 0,
             "ticks": ""
            },
            "colorscale": [
             [
              0,
              "#0d0887"
             ],
             [
              0.1111111111111111,
              "#46039f"
             ],
             [
              0.2222222222222222,
              "#7201a8"
             ],
             [
              0.3333333333333333,
              "#9c179e"
             ],
             [
              0.4444444444444444,
              "#bd3786"
             ],
             [
              0.5555555555555556,
              "#d8576b"
             ],
             [
              0.6666666666666666,
              "#ed7953"
             ],
             [
              0.7777777777777778,
              "#fb9f3a"
             ],
             [
              0.8888888888888888,
              "#fdca26"
             ],
             [
              1,
              "#f0f921"
             ]
            ],
            "type": "contour"
           }
          ],
          "contourcarpet": [
           {
            "colorbar": {
             "outlinewidth": 0,
             "ticks": ""
            },
            "type": "contourcarpet"
           }
          ],
          "heatmap": [
           {
            "colorbar": {
             "outlinewidth": 0,
             "ticks": ""
            },
            "colorscale": [
             [
              0,
              "#0d0887"
             ],
             [
              0.1111111111111111,
              "#46039f"
             ],
             [
              0.2222222222222222,
              "#7201a8"
             ],
             [
              0.3333333333333333,
              "#9c179e"
             ],
             [
              0.4444444444444444,
              "#bd3786"
             ],
             [
              0.5555555555555556,
              "#d8576b"
             ],
             [
              0.6666666666666666,
              "#ed7953"
             ],
             [
              0.7777777777777778,
              "#fb9f3a"
             ],
             [
              0.8888888888888888,
              "#fdca26"
             ],
             [
              1,
              "#f0f921"
             ]
            ],
            "type": "heatmap"
           }
          ],
          "heatmapgl": [
           {
            "colorbar": {
             "outlinewidth": 0,
             "ticks": ""
            },
            "colorscale": [
             [
              0,
              "#0d0887"
             ],
             [
              0.1111111111111111,
              "#46039f"
             ],
             [
              0.2222222222222222,
              "#7201a8"
             ],
             [
              0.3333333333333333,
              "#9c179e"
             ],
             [
              0.4444444444444444,
              "#bd3786"
             ],
             [
              0.5555555555555556,
              "#d8576b"
             ],
             [
              0.6666666666666666,
              "#ed7953"
             ],
             [
              0.7777777777777778,
              "#fb9f3a"
             ],
             [
              0.8888888888888888,
              "#fdca26"
             ],
             [
              1,
              "#f0f921"
             ]
            ],
            "type": "heatmapgl"
           }
          ],
          "histogram": [
           {
            "marker": {
             "colorbar": {
              "outlinewidth": 0,
              "ticks": ""
             }
            },
            "type": "histogram"
           }
          ],
          "histogram2d": [
           {
            "colorbar": {
             "outlinewidth": 0,
             "ticks": ""
            },
            "colorscale": [
             [
              0,
              "#0d0887"
             ],
             [
              0.1111111111111111,
              "#46039f"
             ],
             [
              0.2222222222222222,
              "#7201a8"
             ],
             [
              0.3333333333333333,
              "#9c179e"
             ],
             [
              0.4444444444444444,
              "#bd3786"
             ],
             [
              0.5555555555555556,
              "#d8576b"
             ],
             [
              0.6666666666666666,
              "#ed7953"
             ],
             [
              0.7777777777777778,
              "#fb9f3a"
             ],
             [
              0.8888888888888888,
              "#fdca26"
             ],
             [
              1,
              "#f0f921"
             ]
            ],
            "type": "histogram2d"
           }
          ],
          "histogram2dcontour": [
           {
            "colorbar": {
             "outlinewidth": 0,
             "ticks": ""
            },
            "colorscale": [
             [
              0,
              "#0d0887"
             ],
             [
              0.1111111111111111,
              "#46039f"
             ],
             [
              0.2222222222222222,
              "#7201a8"
             ],
             [
              0.3333333333333333,
              "#9c179e"
             ],
             [
              0.4444444444444444,
              "#bd3786"
             ],
             [
              0.5555555555555556,
              "#d8576b"
             ],
             [
              0.6666666666666666,
              "#ed7953"
             ],
             [
              0.7777777777777778,
              "#fb9f3a"
             ],
             [
              0.8888888888888888,
              "#fdca26"
             ],
             [
              1,
              "#f0f921"
             ]
            ],
            "type": "histogram2dcontour"
           }
          ],
          "mesh3d": [
           {
            "colorbar": {
             "outlinewidth": 0,
             "ticks": ""
            },
            "type": "mesh3d"
           }
          ],
          "parcoords": [
           {
            "line": {
             "colorbar": {
              "outlinewidth": 0,
              "ticks": ""
             }
            },
            "type": "parcoords"
           }
          ],
          "pie": [
           {
            "automargin": true,
            "type": "pie"
           }
          ],
          "scatter": [
           {
            "marker": {
             "colorbar": {
              "outlinewidth": 0,
              "ticks": ""
             }
            },
            "type": "scatter"
           }
          ],
          "scatter3d": [
           {
            "line": {
             "colorbar": {
              "outlinewidth": 0,
              "ticks": ""
             }
            },
            "marker": {
             "colorbar": {
              "outlinewidth": 0,
              "ticks": ""
             }
            },
            "type": "scatter3d"
           }
          ],
          "scattercarpet": [
           {
            "marker": {
             "colorbar": {
              "outlinewidth": 0,
              "ticks": ""
             }
            },
            "type": "scattercarpet"
           }
          ],
          "scattergeo": [
           {
            "marker": {
             "colorbar": {
              "outlinewidth": 0,
              "ticks": ""
             }
            },
            "type": "scattergeo"
           }
          ],
          "scattergl": [
           {
            "marker": {
             "colorbar": {
              "outlinewidth": 0,
              "ticks": ""
             }
            },
            "type": "scattergl"
           }
          ],
          "scattermapbox": [
           {
            "marker": {
             "colorbar": {
              "outlinewidth": 0,
              "ticks": ""
             }
            },
            "type": "scattermapbox"
           }
          ],
          "scatterpolar": [
           {
            "marker": {
             "colorbar": {
              "outlinewidth": 0,
              "ticks": ""
             }
            },
            "type": "scatterpolar"
           }
          ],
          "scatterpolargl": [
           {
            "marker": {
             "colorbar": {
              "outlinewidth": 0,
              "ticks": ""
             }
            },
            "type": "scatterpolargl"
           }
          ],
          "scatterternary": [
           {
            "marker": {
             "colorbar": {
              "outlinewidth": 0,
              "ticks": ""
             }
            },
            "type": "scatterternary"
           }
          ],
          "surface": [
           {
            "colorbar": {
             "outlinewidth": 0,
             "ticks": ""
            },
            "colorscale": [
             [
              0,
              "#0d0887"
             ],
             [
              0.1111111111111111,
              "#46039f"
             ],
             [
              0.2222222222222222,
              "#7201a8"
             ],
             [
              0.3333333333333333,
              "#9c179e"
             ],
             [
              0.4444444444444444,
              "#bd3786"
             ],
             [
              0.5555555555555556,
              "#d8576b"
             ],
             [
              0.6666666666666666,
              "#ed7953"
             ],
             [
              0.7777777777777778,
              "#fb9f3a"
             ],
             [
              0.8888888888888888,
              "#fdca26"
             ],
             [
              1,
              "#f0f921"
             ]
            ],
            "type": "surface"
           }
          ],
          "table": [
           {
            "cells": {
             "fill": {
              "color": "#EBF0F8"
             },
             "line": {
              "color": "white"
             }
            },
            "header": {
             "fill": {
              "color": "#C8D4E3"
             },
             "line": {
              "color": "white"
             }
            },
            "type": "table"
           }
          ]
         },
         "layout": {
          "annotationdefaults": {
           "arrowcolor": "#2a3f5f",
           "arrowhead": 0,
           "arrowwidth": 1
          },
          "coloraxis": {
           "colorbar": {
            "outlinewidth": 0,
            "ticks": ""
           }
          },
          "colorscale": {
           "diverging": [
            [
             0,
             "#8e0152"
            ],
            [
             0.1,
             "#c51b7d"
            ],
            [
             0.2,
             "#de77ae"
            ],
            [
             0.3,
             "#f1b6da"
            ],
            [
             0.4,
             "#fde0ef"
            ],
            [
             0.5,
             "#f7f7f7"
            ],
            [
             0.6,
             "#e6f5d0"
            ],
            [
             0.7,
             "#b8e186"
            ],
            [
             0.8,
             "#7fbc41"
            ],
            [
             0.9,
             "#4d9221"
            ],
            [
             1,
             "#276419"
            ]
           ],
           "sequential": [
            [
             0,
             "#0d0887"
            ],
            [
             0.1111111111111111,
             "#46039f"
            ],
            [
             0.2222222222222222,
             "#7201a8"
            ],
            [
             0.3333333333333333,
             "#9c179e"
            ],
            [
             0.4444444444444444,
             "#bd3786"
            ],
            [
             0.5555555555555556,
             "#d8576b"
            ],
            [
             0.6666666666666666,
             "#ed7953"
            ],
            [
             0.7777777777777778,
             "#fb9f3a"
            ],
            [
             0.8888888888888888,
             "#fdca26"
            ],
            [
             1,
             "#f0f921"
            ]
           ],
           "sequentialminus": [
            [
             0,
             "#0d0887"
            ],
            [
             0.1111111111111111,
             "#46039f"
            ],
            [
             0.2222222222222222,
             "#7201a8"
            ],
            [
             0.3333333333333333,
             "#9c179e"
            ],
            [
             0.4444444444444444,
             "#bd3786"
            ],
            [
             0.5555555555555556,
             "#d8576b"
            ],
            [
             0.6666666666666666,
             "#ed7953"
            ],
            [
             0.7777777777777778,
             "#fb9f3a"
            ],
            [
             0.8888888888888888,
             "#fdca26"
            ],
            [
             1,
             "#f0f921"
            ]
           ]
          },
          "colorway": [
           "#636efa",
           "#EF553B",
           "#00cc96",
           "#ab63fa",
           "#FFA15A",
           "#19d3f3",
           "#FF6692",
           "#B6E880",
           "#FF97FF",
           "#FECB52"
          ],
          "font": {
           "color": "#2a3f5f"
          },
          "geo": {
           "bgcolor": "white",
           "lakecolor": "white",
           "landcolor": "#E5ECF6",
           "showlakes": true,
           "showland": true,
           "subunitcolor": "white"
          },
          "hoverlabel": {
           "align": "left"
          },
          "hovermode": "closest",
          "mapbox": {
           "style": "light"
          },
          "paper_bgcolor": "white",
          "plot_bgcolor": "#E5ECF6",
          "polar": {
           "angularaxis": {
            "gridcolor": "white",
            "linecolor": "white",
            "ticks": ""
           },
           "bgcolor": "#E5ECF6",
           "radialaxis": {
            "gridcolor": "white",
            "linecolor": "white",
            "ticks": ""
           }
          },
          "scene": {
           "xaxis": {
            "backgroundcolor": "#E5ECF6",
            "gridcolor": "white",
            "gridwidth": 2,
            "linecolor": "white",
            "showbackground": true,
            "ticks": "",
            "zerolinecolor": "white"
           },
           "yaxis": {
            "backgroundcolor": "#E5ECF6",
            "gridcolor": "white",
            "gridwidth": 2,
            "linecolor": "white",
            "showbackground": true,
            "ticks": "",
            "zerolinecolor": "white"
           },
           "zaxis": {
            "backgroundcolor": "#E5ECF6",
            "gridcolor": "white",
            "gridwidth": 2,
            "linecolor": "white",
            "showbackground": true,
            "ticks": "",
            "zerolinecolor": "white"
           }
          },
          "shapedefaults": {
           "line": {
            "color": "#2a3f5f"
           }
          },
          "ternary": {
           "aaxis": {
            "gridcolor": "white",
            "linecolor": "white",
            "ticks": ""
           },
           "baxis": {
            "gridcolor": "white",
            "linecolor": "white",
            "ticks": ""
           },
           "bgcolor": "#E5ECF6",
           "caxis": {
            "gridcolor": "white",
            "linecolor": "white",
            "ticks": ""
           }
          },
          "title": {
           "x": 0.05
          },
          "xaxis": {
           "automargin": true,
           "gridcolor": "white",
           "linecolor": "white",
           "ticks": "",
           "title": {
            "standoff": 15
           },
           "zerolinecolor": "white",
           "zerolinewidth": 2
          },
          "yaxis": {
           "automargin": true,
           "gridcolor": "white",
           "linecolor": "white",
           "ticks": "",
           "title": {
            "standoff": 15
           },
           "zerolinecolor": "white",
           "zerolinewidth": 2
          }
         }
        },
        "updatemenus": [
         {
          "buttons": [
           {
            "args": [
             {
              "visible": [
               false,
               false,
               false,
               false,
               false,
               false,
               false,
               false
              ]
             }
            ],
            "label": "Select country",
            "method": "update"
           },
           {
            "args": [
             {
              "visible": [
               true,
               false,
               false,
               false,
               false,
               false,
               false,
               false
              ]
             }
            ],
            "label": "India",
            "method": "update"
           },
           {
            "args": [
             {
              "visible": [
               false,
               true,
               false,
               false,
               false,
               false,
               false,
               false
              ]
             }
            ],
            "label": "Philippines",
            "method": "update"
           },
           {
            "args": [
             {
              "visible": [
               false,
               false,
               true,
               false,
               false,
               false,
               false,
               false
              ]
             }
            ],
            "label": "Malayasia",
            "method": "update"
           },
           {
            "args": [
             {
              "visible": [
               false,
               false,
               false,
               true,
               false,
               false,
               false,
               false
              ]
             }
            ],
            "label": "Srilanka",
            "method": "update"
           },
           {
            "args": [
             {
              "visible": [
               false,
               false,
               false,
               false,
               true,
               false,
               false,
               false
              ]
             }
            ],
            "label": "Japan",
            "method": "update"
           },
           {
            "args": [
             {
              "visible": [
               false,
               false,
               false,
               false,
               false,
               true,
               false,
               false
              ]
             }
            ],
            "label": "Germany",
            "method": "update"
           },
           {
            "args": [
             {
              "visible": [
               false,
               false,
               false,
               false,
               false,
               false,
               true,
               false
              ]
             }
            ],
            "label": "Australia",
            "method": "update"
           },
           {
            "args": [
             {
              "visible": [
               false,
               false,
               false,
               false,
               false,
               false,
               false,
               true
              ]
             }
            ],
            "label": "Switzerland",
            "method": "update"
           }
          ],
          "x": -0.01,
          "y": 1.1
         }
        ],
        "xaxis": {
         "anchor": "y",
         "domain": [
          0,
          1
         ]
        },
        "yaxis": {
         "anchor": "x",
         "domain": [
          0,
          1
         ]
        }
       }
      },
      "text/html": [
       "<div>                            <div id=\"8020680a-f744-4592-960b-a1ef23e4fa5e\" class=\"plotly-graph-div\" style=\"height:525px; width:100%;\"></div>            <script type=\"text/javascript\">                require([\"plotly\"], function(Plotly) {                    window.PLOTLYENV=window.PLOTLYENV || {};                                    if (document.getElementById(\"8020680a-f744-4592-960b-a1ef23e4fa5e\")) {                    Plotly.newPlot(                        \"8020680a-f744-4592-960b-a1ef23e4fa5e\",                        [{\"marker\": {\"color\": [\"green\", \"green\", \"green\", \"green\", \"green\", \"green\", \"green\", \"green\"]}, \"mode\": \"markers+lines\", \"text\": \"Health expenditure per captia in USD dollars\", \"type\": \"scatter\", \"x\": [\"2008\", \"2009\", \"2010\", \"2011\", \"2012\", \"2013\", \"2014\", \"2015\", \"2016\", \"2017\"], \"xaxis\": \"x\", \"y\": [\"37.9936\", \"38.41241\", \"45.25077\", \"48.72284\", \"49.0514\", \"56.21846\", \"57.15114\", \"58.96634\", \"60.61838\", \"69.2931\"], \"yaxis\": \"y\"}, {\"marker\": {\"color\": [\"dodgerblue\", \"dodgerblue\", \"dodgerblue\", \"dodgerblue\", \"dodgerblue\", \"dodgerblue\", \"dodgerblue\", \"dodgerblue\"]}, \"mode\": \"markers+lines\", \"text\": \"Health expenditure per captia in USD dollars\", \"type\": \"scatter\", \"x\": [\"2008\", \"2009\", \"2010\", \"2011\", \"2012\", \"2013\", \"2014\", \"2015\", \"2016\", \"2017\"], \"xaxis\": \"x\", \"y\": [\"77.31463\", \"79.46684\", \"91.84032\", \"98.94901\", \"112.9456\", \"123.2141\", \"117.3399\", \"124.3835\", \"130.046\", \"132.901\"], \"yaxis\": \"y\"}, {\"marker\": {\"color\": [\"blue\", \"blue\", \"blue\", \"blue\", \"blue\", \"blue\", \"blue\", \"blue\"]}, \"mode\": \"markers+lines\", \"text\": \"Health expenditure per captia in USD dollars \", \"type\": \"scatter\", \"x\": [\"2008\", \"2009\", \"2010\", \"2011\", \"2012\", \"2013\", \"2014\", \"2015\", \"2016\", \"2017\"], \"xaxis\": \"x\", \"y\": [\"270.9453\", \"251.4062\", \"292.8907\", \"352.5934\", \"382.2892\", \"388.6968\", \"421.9694\", \"376.0574\", \"361.522\", \"384.0061\"], \"yaxis\": \"y\"}, {\"marker\": {\"color\": [\"rgb(255, 0, 191)\", \"rgb(255, 0, 191)\", \"rgb(255, 0, 191)\", \"rgb(255, 0, 191)\", \"rgb(255, 0, 191)\", \"rgb(255, 0, 191)\", \"rgb(255, 0, 191)\", \"rgb(255, 0, 191)\"]}, \"mode\": \"markers+lines\", \"text\": \"Health expenditure per captia in USD dollars \", \"type\": \"scatter\", \"x\": [\"2008\", \"2009\", \"2010\", \"2011\", \"2012\", \"2013\", \"2014\", \"2015\", \"2016\", \"2017\"], \"xaxis\": \"x\", \"y\": [\"93.08516\", \"100.5639\", \"108.615\", \"119.4629\", \"114.0491\", \"138.5542\", \"138.7721\", \"151.3676\", \"153.0968\", \"159.4847\"], \"yaxis\": \"y\"}, {\"marker\": {\"color\": [\"#66FFCC\", \"#66FFCC\", \"#66FFCC\", \"#66FFCC\", \"#66FFCC\", \"#66FFCC\", \"#66FFCC\", \"#66FFCC\"]}, \"mode\": \"markers+lines\", \"text\": \"Health expenditure per captia in USD \", \"type\": \"scatter\", \"x\": [\"2008\", \"2009\", \"2010\", \"2011\", \"2012\", \"2013\", \"2014\", \"2015\", \"2016\", \"2017\"], \"xaxis\": \"x\", \"y\": [\"3213.399\", \"3685.825\", \"4060.19\", \"5087.102\", \"5212.07\", \"4336.15\", \"4099.465\", \"3733.673\", \"4174.904\", \"4168.986\"], \"yaxis\": \"y\"}, {\"marker\": {\"color\": [\"#665869\", \"#665869\", \"#665869\", \"#665869\", \"#665869\", \"#665869\", \"#665869\", \"#665869\"]}, \"mode\": \"markers+lines\", \"text\": \"Health expenditure per captia in USD dollars \", \"type\": \"scatter\", \"x\": [\"2008\", \"2009\", \"2010\", \"2011\", \"2012\", \"2013\", \"2014\", \"2015\", \"2016\", \"2017\"], \"xaxis\": \"x\", \"y\": [\"4635.934\", \"4643.003\", \"4597.245\", \"5021.631\", \"4754.656\", \"5094.416\", \"5290.722\", \"4617.491\", \"4734.183\", \"5033.452\"], \"yaxis\": \"y\"}, {\"marker\": {\"color\": [\"#a7b9ff\", \"#a7b9ff\", \"#a7b9ff\", \"#a7b9ff\", \"#a7b9ff\", \"#a7b9ff\", \"#a7b9ff\", \"#a7b9ff\"]}, \"mode\": \"markers+lines\", \"text\": \"Health expenditure per captia in USD dollars  \", \"type\": \"scatter\", \"x\": [\"2008\", \"2009\", \"2010\", \"2011\", \"2012\", \"2013\", \"2014\", \"2015\", \"2016\", \"2017\"], \"xaxis\": \"x\", \"y\": [\"4088.778\", \"3997.577\", \"4952.777\", \"5876.866\", \"6047.058\", \"5838.414\", \"5637.567\", \"4887.801\", \"4999.811\", \"5331.818\"], \"yaxis\": \"y\"}, {\"marker\": {\"color\": [\"#9856eb\", \"#9856eb\", \"#9856eb\", \"#9856eb\", \"#9856eb\", \"#9856eb\", \"#9856eb\", \"#9856eb\"]}, \"mode\": \"markers+lines\", \"text\": \"Health expenditure per captia in USD dollars \", \"type\": \"scatter\", \"x\": [\"2008\", \"2009\", \"2010\", \"2011\", \"2012\", \"2013\", \"2014\", \"2015\", \"2016\", \"2017\"], \"xaxis\": \"x\", \"y\": [\"7411.206\", \"7599.473\", \"8021.81\", \"9572.172\", \"9286.85\", \"9689.675\", \"10014.71\", \"9807.799\", \"9835.964\", \"9956.26\"], \"yaxis\": \"y\"}],                        {\"template\": {\"data\": {\"bar\": [{\"error_x\": {\"color\": \"#2a3f5f\"}, \"error_y\": {\"color\": \"#2a3f5f\"}, \"marker\": {\"line\": {\"color\": \"#E5ECF6\", \"width\": 0.5}}, \"type\": \"bar\"}], \"barpolar\": [{\"marker\": {\"line\": {\"color\": \"#E5ECF6\", \"width\": 0.5}}, \"type\": \"barpolar\"}], \"carpet\": [{\"aaxis\": {\"endlinecolor\": \"#2a3f5f\", \"gridcolor\": \"white\", \"linecolor\": \"white\", \"minorgridcolor\": \"white\", \"startlinecolor\": \"#2a3f5f\"}, \"baxis\": {\"endlinecolor\": \"#2a3f5f\", \"gridcolor\": \"white\", \"linecolor\": \"white\", \"minorgridcolor\": \"white\", \"startlinecolor\": \"#2a3f5f\"}, \"type\": \"carpet\"}], \"choropleth\": [{\"colorbar\": {\"outlinewidth\": 0, \"ticks\": \"\"}, \"type\": \"choropleth\"}], \"contour\": [{\"colorbar\": {\"outlinewidth\": 0, \"ticks\": \"\"}, \"colorscale\": [[0.0, \"#0d0887\"], [0.1111111111111111, \"#46039f\"], [0.2222222222222222, \"#7201a8\"], [0.3333333333333333, \"#9c179e\"], [0.4444444444444444, \"#bd3786\"], [0.5555555555555556, \"#d8576b\"], [0.6666666666666666, \"#ed7953\"], [0.7777777777777778, \"#fb9f3a\"], [0.8888888888888888, \"#fdca26\"], [1.0, \"#f0f921\"]], \"type\": \"contour\"}], \"contourcarpet\": [{\"colorbar\": {\"outlinewidth\": 0, \"ticks\": \"\"}, \"type\": \"contourcarpet\"}], \"heatmap\": [{\"colorbar\": {\"outlinewidth\": 0, \"ticks\": \"\"}, \"colorscale\": [[0.0, \"#0d0887\"], [0.1111111111111111, \"#46039f\"], [0.2222222222222222, \"#7201a8\"], [0.3333333333333333, \"#9c179e\"], [0.4444444444444444, \"#bd3786\"], [0.5555555555555556, \"#d8576b\"], [0.6666666666666666, \"#ed7953\"], [0.7777777777777778, \"#fb9f3a\"], [0.8888888888888888, \"#fdca26\"], [1.0, \"#f0f921\"]], \"type\": \"heatmap\"}], \"heatmapgl\": [{\"colorbar\": {\"outlinewidth\": 0, \"ticks\": \"\"}, \"colorscale\": [[0.0, \"#0d0887\"], [0.1111111111111111, \"#46039f\"], [0.2222222222222222, \"#7201a8\"], [0.3333333333333333, \"#9c179e\"], [0.4444444444444444, \"#bd3786\"], [0.5555555555555556, \"#d8576b\"], [0.6666666666666666, \"#ed7953\"], [0.7777777777777778, \"#fb9f3a\"], [0.8888888888888888, \"#fdca26\"], [1.0, \"#f0f921\"]], \"type\": \"heatmapgl\"}], \"histogram\": [{\"marker\": {\"colorbar\": {\"outlinewidth\": 0, \"ticks\": \"\"}}, \"type\": \"histogram\"}], \"histogram2d\": [{\"colorbar\": {\"outlinewidth\": 0, \"ticks\": \"\"}, \"colorscale\": [[0.0, \"#0d0887\"], [0.1111111111111111, \"#46039f\"], [0.2222222222222222, \"#7201a8\"], [0.3333333333333333, \"#9c179e\"], [0.4444444444444444, \"#bd3786\"], [0.5555555555555556, \"#d8576b\"], [0.6666666666666666, \"#ed7953\"], [0.7777777777777778, \"#fb9f3a\"], [0.8888888888888888, \"#fdca26\"], [1.0, \"#f0f921\"]], \"type\": \"histogram2d\"}], \"histogram2dcontour\": [{\"colorbar\": {\"outlinewidth\": 0, \"ticks\": \"\"}, \"colorscale\": [[0.0, \"#0d0887\"], [0.1111111111111111, \"#46039f\"], [0.2222222222222222, \"#7201a8\"], [0.3333333333333333, \"#9c179e\"], [0.4444444444444444, \"#bd3786\"], [0.5555555555555556, \"#d8576b\"], [0.6666666666666666, \"#ed7953\"], [0.7777777777777778, \"#fb9f3a\"], [0.8888888888888888, \"#fdca26\"], [1.0, \"#f0f921\"]], \"type\": \"histogram2dcontour\"}], \"mesh3d\": [{\"colorbar\": {\"outlinewidth\": 0, \"ticks\": \"\"}, \"type\": \"mesh3d\"}], \"parcoords\": [{\"line\": {\"colorbar\": {\"outlinewidth\": 0, \"ticks\": \"\"}}, \"type\": \"parcoords\"}], \"pie\": [{\"automargin\": true, \"type\": \"pie\"}], \"scatter\": [{\"marker\": {\"colorbar\": {\"outlinewidth\": 0, \"ticks\": \"\"}}, \"type\": \"scatter\"}], \"scatter3d\": [{\"line\": {\"colorbar\": {\"outlinewidth\": 0, \"ticks\": \"\"}}, \"marker\": {\"colorbar\": {\"outlinewidth\": 0, \"ticks\": \"\"}}, \"type\": \"scatter3d\"}], \"scattercarpet\": [{\"marker\": {\"colorbar\": {\"outlinewidth\": 0, \"ticks\": \"\"}}, \"type\": \"scattercarpet\"}], \"scattergeo\": [{\"marker\": {\"colorbar\": {\"outlinewidth\": 0, \"ticks\": \"\"}}, \"type\": \"scattergeo\"}], \"scattergl\": [{\"marker\": {\"colorbar\": {\"outlinewidth\": 0, \"ticks\": \"\"}}, \"type\": \"scattergl\"}], \"scattermapbox\": [{\"marker\": {\"colorbar\": {\"outlinewidth\": 0, \"ticks\": \"\"}}, \"type\": \"scattermapbox\"}], \"scatterpolar\": [{\"marker\": {\"colorbar\": {\"outlinewidth\": 0, \"ticks\": \"\"}}, \"type\": \"scatterpolar\"}], \"scatterpolargl\": [{\"marker\": {\"colorbar\": {\"outlinewidth\": 0, \"ticks\": \"\"}}, \"type\": \"scatterpolargl\"}], \"scatterternary\": [{\"marker\": {\"colorbar\": {\"outlinewidth\": 0, \"ticks\": \"\"}}, \"type\": \"scatterternary\"}], \"surface\": [{\"colorbar\": {\"outlinewidth\": 0, \"ticks\": \"\"}, \"colorscale\": [[0.0, \"#0d0887\"], [0.1111111111111111, \"#46039f\"], [0.2222222222222222, \"#7201a8\"], [0.3333333333333333, \"#9c179e\"], [0.4444444444444444, \"#bd3786\"], [0.5555555555555556, \"#d8576b\"], [0.6666666666666666, \"#ed7953\"], [0.7777777777777778, \"#fb9f3a\"], [0.8888888888888888, \"#fdca26\"], [1.0, \"#f0f921\"]], \"type\": \"surface\"}], \"table\": [{\"cells\": {\"fill\": {\"color\": \"#EBF0F8\"}, \"line\": {\"color\": \"white\"}}, \"header\": {\"fill\": {\"color\": \"#C8D4E3\"}, \"line\": {\"color\": \"white\"}}, \"type\": \"table\"}]}, \"layout\": {\"annotationdefaults\": {\"arrowcolor\": \"#2a3f5f\", \"arrowhead\": 0, \"arrowwidth\": 1}, \"coloraxis\": {\"colorbar\": {\"outlinewidth\": 0, \"ticks\": \"\"}}, \"colorscale\": {\"diverging\": [[0, \"#8e0152\"], [0.1, \"#c51b7d\"], [0.2, \"#de77ae\"], [0.3, \"#f1b6da\"], [0.4, \"#fde0ef\"], [0.5, \"#f7f7f7\"], [0.6, \"#e6f5d0\"], [0.7, \"#b8e186\"], [0.8, \"#7fbc41\"], [0.9, \"#4d9221\"], [1, \"#276419\"]], \"sequential\": [[0.0, \"#0d0887\"], [0.1111111111111111, \"#46039f\"], [0.2222222222222222, \"#7201a8\"], [0.3333333333333333, \"#9c179e\"], [0.4444444444444444, \"#bd3786\"], [0.5555555555555556, \"#d8576b\"], [0.6666666666666666, \"#ed7953\"], [0.7777777777777778, \"#fb9f3a\"], [0.8888888888888888, \"#fdca26\"], [1.0, \"#f0f921\"]], \"sequentialminus\": [[0.0, \"#0d0887\"], [0.1111111111111111, \"#46039f\"], [0.2222222222222222, \"#7201a8\"], [0.3333333333333333, \"#9c179e\"], [0.4444444444444444, \"#bd3786\"], [0.5555555555555556, \"#d8576b\"], [0.6666666666666666, \"#ed7953\"], [0.7777777777777778, \"#fb9f3a\"], [0.8888888888888888, \"#fdca26\"], [1.0, \"#f0f921\"]]}, \"colorway\": [\"#636efa\", \"#EF553B\", \"#00cc96\", \"#ab63fa\", \"#FFA15A\", \"#19d3f3\", \"#FF6692\", \"#B6E880\", \"#FF97FF\", \"#FECB52\"], \"font\": {\"color\": \"#2a3f5f\"}, \"geo\": {\"bgcolor\": \"white\", \"lakecolor\": \"white\", \"landcolor\": \"#E5ECF6\", \"showlakes\": true, \"showland\": true, \"subunitcolor\": \"white\"}, \"hoverlabel\": {\"align\": \"left\"}, \"hovermode\": \"closest\", \"mapbox\": {\"style\": \"light\"}, \"paper_bgcolor\": \"white\", \"plot_bgcolor\": \"#E5ECF6\", \"polar\": {\"angularaxis\": {\"gridcolor\": \"white\", \"linecolor\": \"white\", \"ticks\": \"\"}, \"bgcolor\": \"#E5ECF6\", \"radialaxis\": {\"gridcolor\": \"white\", \"linecolor\": \"white\", \"ticks\": \"\"}}, \"scene\": {\"xaxis\": {\"backgroundcolor\": \"#E5ECF6\", \"gridcolor\": \"white\", \"gridwidth\": 2, \"linecolor\": \"white\", \"showbackground\": true, \"ticks\": \"\", \"zerolinecolor\": \"white\"}, \"yaxis\": {\"backgroundcolor\": \"#E5ECF6\", \"gridcolor\": \"white\", \"gridwidth\": 2, \"linecolor\": \"white\", \"showbackground\": true, \"ticks\": \"\", \"zerolinecolor\": \"white\"}, \"zaxis\": {\"backgroundcolor\": \"#E5ECF6\", \"gridcolor\": \"white\", \"gridwidth\": 2, \"linecolor\": \"white\", \"showbackground\": true, \"ticks\": \"\", \"zerolinecolor\": \"white\"}}, \"shapedefaults\": {\"line\": {\"color\": \"#2a3f5f\"}}, \"ternary\": {\"aaxis\": {\"gridcolor\": \"white\", \"linecolor\": \"white\", \"ticks\": \"\"}, \"baxis\": {\"gridcolor\": \"white\", \"linecolor\": \"white\", \"ticks\": \"\"}, \"bgcolor\": \"#E5ECF6\", \"caxis\": {\"gridcolor\": \"white\", \"linecolor\": \"white\", \"ticks\": \"\"}}, \"title\": {\"x\": 0.05}, \"xaxis\": {\"automargin\": true, \"gridcolor\": \"white\", \"linecolor\": \"white\", \"ticks\": \"\", \"title\": {\"standoff\": 15}, \"zerolinecolor\": \"white\", \"zerolinewidth\": 2}, \"yaxis\": {\"automargin\": true, \"gridcolor\": \"white\", \"linecolor\": \"white\", \"ticks\": \"\", \"title\": {\"standoff\": 15}, \"zerolinecolor\": \"white\", \"zerolinewidth\": 2}}}, \"updatemenus\": [{\"buttons\": [{\"args\": [{\"visible\": [false, false, false, false, false, false, false, false]}], \"label\": \"Select country\", \"method\": \"update\"}, {\"args\": [{\"visible\": [true, false, false, false, false, false, false, false]}], \"label\": \"India\", \"method\": \"update\"}, {\"args\": [{\"visible\": [false, true, false, false, false, false, false, false]}], \"label\": \"Philippines\", \"method\": \"update\"}, {\"args\": [{\"visible\": [false, false, true, false, false, false, false, false]}], \"label\": \"Malayasia\", \"method\": \"update\"}, {\"args\": [{\"visible\": [false, false, false, true, false, false, false, false]}], \"label\": \"Srilanka\", \"method\": \"update\"}, {\"args\": [{\"visible\": [false, false, false, false, true, false, false, false]}], \"label\": \"Japan\", \"method\": \"update\"}, {\"args\": [{\"visible\": [false, false, false, false, false, true, false, false]}], \"label\": \"Germany\", \"method\": \"update\"}, {\"args\": [{\"visible\": [false, false, false, false, false, false, true, false]}], \"label\": \"Australia\", \"method\": \"update\"}, {\"args\": [{\"visible\": [false, false, false, false, false, false, false, true]}], \"label\": \"Switzerland\", \"method\": \"update\"}], \"x\": -0.01, \"y\": 1.1}], \"xaxis\": {\"anchor\": \"y\", \"domain\": [0.0, 1.0]}, \"yaxis\": {\"anchor\": \"x\", \"domain\": [0.0, 1.0]}},                        {\"responsive\": true}                    ).then(function(){\n",
       "                            \n",
       "var gd = document.getElementById('8020680a-f744-4592-960b-a1ef23e4fa5e');\n",
       "var x = new MutationObserver(function (mutations, observer) {{\n",
       "        var display = window.getComputedStyle(gd).display;\n",
       "        if (!display || display === 'none') {{\n",
       "            console.log([gd, 'removed!']);\n",
       "            Plotly.purge(gd);\n",
       "            observer.disconnect();\n",
       "        }}\n",
       "}});\n",
       "\n",
       "// Listen for the removal of the full notebook cells\n",
       "var notebookContainer = gd.closest('#notebook-container');\n",
       "if (notebookContainer) {{\n",
       "    x.observe(notebookContainer, {childList: true});\n",
       "}}\n",
       "\n",
       "// Listen for the clearing of the current output cell\n",
       "var outputEl = gd.closest('.output');\n",
       "if (outputEl) {{\n",
       "    x.observe(outputEl, {childList: true});\n",
       "}}\n",
       "\n",
       "                        })                };                });            </script>        </div>"
      ]
     },
     "metadata": {},
     "output_type": "display_data"
    }
   ],
   "source": [
    "import pandas as pd\n",
    "import numpy as np\n",
    "import matplotlib.pyplot as plt\n",
    "import matplotlib.gridspec as gridspec\n",
    "from plotly.subplots import make_subplots\n",
    "import plotly.graph_objects as go\n",
    "\n",
    "fig4 = make_subplots(rows=1, cols=1)\n",
    "\n",
    "years = ['2008','2009','2010','2011','2012','2013','2014','2015','2016','2017']\n",
    "\n",
    "fig4.add_trace(go.Scatter(x=['2008','2009','2010','2011','2012','2013','2014','2015','2016','2017'],y=['37.9936','38.41241','45.25077','48.72284','49.0514','56.21846','57.15114','58.96634','60.61838','69.2931'],text='Health expenditure per captia in USD dollars',marker_color=['green','green','green','green','green','green','green','green'],\n",
    "                                                                                                        mode='markers+lines'),row=1, col=1) \n",
    "fig4.add_trace(go.Scatter(x=['2008','2009','2010','2011','2012','2013','2014','2015','2016','2017'],y=['77.31463','79.46684','91.84032','98.94901','112.9456','123.2141','117.3399','124.3835','130.046','132.901'],text='Health expenditure per captia in USD dollars',marker_color=['dodgerblue','dodgerblue','dodgerblue','dodgerblue','dodgerblue','dodgerblue','dodgerblue','dodgerblue'],\n",
    "                                                                         \n",
    "mode='markers+lines'),row=1, col=1)\n",
    "\n",
    "fig4.add_trace(go.Scatter(x=['2008','2009','2010','2011','2012','2013','2014','2015','2016','2017'],y=['270.9453','251.4062','292.8907','352.5934','382.2892','388.6968','421.9694','376.0574','361.522','384.0061'],text='Health expenditure per captia in USD dollars ',marker_color=['blue','blue','blue','blue','blue','blue','blue','blue'],\n",
    "                    mode='markers+lines'),row=1, col=1) \n",
    "                                                                              \n",
    "fig4.add_trace(go.Scatter(x=['2008','2009','2010','2011','2012','2013','2014','2015','2016','2017'],y=['93.08516','100.5639','108.615','119.4629','114.0491','138.5542','138.7721','151.3676','153.0968','159.4847'],text='Health expenditure per captia in USD dollars ',marker_color=['rgb(255, 0, 191)','rgb(255, 0, 191)','rgb(255, 0, 191)','rgb(255, 0, 191)','rgb(255, 0, 191)','rgb(255, 0, 191)','rgb(255, 0, 191)','rgb(255, 0, 191)'],\n",
    "                     mode='markers+lines'),row=1, col=1)                                                        ,\n",
    "fig4.add_trace(go.Scatter(x=['2008','2009','2010','2011','2012','2013','2014','2015','2016','2017'],y=['3213.399','3685.825','4060.19','5087.102','5212.07','4336.15','4099.465','3733.673','4174.904','4168.986'],text='Health expenditure per captia in USD ',marker_color=['#66FFCC','#66FFCC','#66FFCC','#66FFCC','#66FFCC','#66FFCC','#66FFCC','#66FFCC'],\n",
    "                     mode='markers+lines'),row=1, col=1)                                                        \n",
    "\n",
    "fig4.add_trace(go.Scatter(x=['2008','2009','2010','2011','2012','2013','2014','2015','2016','2017'],y=['4635.934','4643.003','4597.245','5021.631','4754.656','5094.416','5290.722','4617.491','4734.183','5033.452'],text='Health expenditure per captia in USD dollars ',marker_color=['#665869','#665869','#665869','#665869','#665869','#665869','#665869','#665869'],\n",
    "                     mode='markers+lines'),row=1, col=1)                                                         \n",
    "fig4.add_trace(go.Scatter(x=['2008','2009','2010','2011','2012','2013','2014','2015','2016','2017'],y=['4088.778','3997.577','4952.777','5876.866','6047.058','5838.414','5637.567','4887.801','4999.811','5331.818'],text='Health expenditure per captia in USD dollars  ',marker_color=['#a7b9ff','#a7b9ff','#a7b9ff','#a7b9ff','#a7b9ff','#a7b9ff','#a7b9ff','#a7b9ff'],\n",
    "                     mode='markers+lines'),row=1, col=1)                                                        \n",
    "\n",
    "fig4.add_trace(go.Scatter(x=['2008','2009','2010','2011','2012','2013','2014','2015','2016','2017'],y=['7411.206','7599.473','8021.81','9572.172','9286.85','9689.675','10014.71','9807.799','9835.964','9956.26'],text='Health expenditure per captia in USD dollars ',marker_color=['#9856eb','#9856eb','#9856eb','#9856eb','#9856eb','#9856eb','#9856eb','#9856eb'],\n",
    "                     mode='markers+lines'),row=1, col=1)                                                         \n",
    " \n",
    "\n",
    "fig4.update_layout(\n",
    "updatemenus=[\n",
    "        dict(\n",
    "            buttons=list([\n",
    "                dict(args = [{'visible': [False, False,False, False,False, False,False, False]}],\n",
    "                    label=\"Select country\",\n",
    "                    method=\"update\"),\n",
    "                dict(args = [{'visible': [True, False,False, False,False, False,False, False]}],\n",
    "                    label=\"India\",\n",
    "                    method=\"update\"),\n",
    "                dict(args = [{'visible': [False, True,False, False,False, False,False, False]}],\n",
    "                    label=\"Philippines\",\n",
    "                    method=\"update\"),\n",
    "                dict(args = [{'visible': [False, False,True, False,False, False,False, False]}],\n",
    "                    label=\"Malayasia\",\n",
    "                    method=\"update\"),\n",
    "                dict(args = [{'visible': [False, False,False, True,False, False,False, False]}],\n",
    "                    label=\"Srilanka\",\n",
    "                    method=\"update\"),\n",
    "                dict(args = [{'visible': [False, False,False, False,True, False,False, False]}],\n",
    "                    label=\"Japan\",\n",
    "                    method=\"update\"),\n",
    "                dict(args = [{'visible': [False, False,False, False,False, True,False, False]}],\n",
    "                    label=\"Germany\",\n",
    "                    method=\"update\"),\n",
    "                dict(args = [{'visible': [False, False,False, False,False, False,True, False]}],\n",
    "                    label=\"Australia\",\n",
    "                    method=\"update\"),\n",
    "                dict(args = [{'visible': [False, False,False, False,False, False,False, True]}],\n",
    "                    label=\"Switzerland\",\n",
    "                    method=\"update\")]),x=-0.01,y=1.1),\n",
    "                \n",
    "    \n",
    "    ]\n",
    "    \n",
    ")\n",
    "\n",
    "fig4.show()                \n",
    "    \n",
    "    \n"
   ]
  },
  {
   "cell_type": "code",
   "execution_count": 10,
   "metadata": {},
   "outputs": [
    {
     "name": "stdout",
     "output_type": "stream",
     "text": [
      "Dash is running on http://127.0.0.1:8050/\n",
      "\n",
      "Dash is running on http://127.0.0.1:8050/\n",
      "\n",
      " * Serving Flask app \"__main__\" (lazy loading)\n",
      " * Environment: production\n",
      "   WARNING: This is a development server. Do not use it in a production deployment.\n",
      "   Use a production WSGI server instead.\n",
      " * Debug mode: off\n"
     ]
    },
    {
     "name": "stderr",
     "output_type": "stream",
     "text": [
      " * Running on http://127.0.0.1:8050/ (Press CTRL+C to quit)\n",
      "127.0.0.1 - - [21/Nov/2020 13:21:34] \"\u001b[37mGET / HTTP/1.1\u001b[0m\" 200 -\n",
      "127.0.0.1 - - [21/Nov/2020 13:21:34] \"\u001b[37mGET /_dash-component-suites/dash_renderer/polyfill@7.v1_8_3m1605246112.8.7.min.js HTTP/1.1\u001b[0m\" 200 -\n",
      "127.0.0.1 - - [21/Nov/2020 13:21:34] \"\u001b[37mGET /_dash-component-suites/dash_renderer/react@16.v1_8_3m1605246112.14.0.min.js HTTP/1.1\u001b[0m\" 200 -\n",
      "127.0.0.1 - - [21/Nov/2020 13:21:34] \"\u001b[37mGET /_dash-component-suites/dash_renderer/prop-types@15.v1_8_3m1605246112.7.2.min.js HTTP/1.1\u001b[0m\" 200 -\n",
      "127.0.0.1 - - [21/Nov/2020 13:21:34] \"\u001b[37mGET /_dash-component-suites/dash_core_components/dash_core_components-shared.v1_13_0m1605246112.js HTTP/1.1\u001b[0m\" 200 -\n",
      "127.0.0.1 - - [21/Nov/2020 13:21:34] \"\u001b[37mGET /_dash-component-suites/dash_renderer/react-dom@16.v1_8_3m1605246112.14.0.min.js HTTP/1.1\u001b[0m\" 200 -\n",
      "127.0.0.1 - - [21/Nov/2020 13:21:34] \"\u001b[37mGET /_dash-component-suites/dash_html_components/dash_html_components.v1_1_1m1605246112.min.js HTTP/1.1\u001b[0m\" 200 -\n",
      "127.0.0.1 - - [21/Nov/2020 13:21:34] \"\u001b[37mGET /_dash-component-suites/dash_core_components/dash_core_components.v1_13_0m1605246112.min.js HTTP/1.1\u001b[0m\" 200 -\n",
      "127.0.0.1 - - [21/Nov/2020 13:21:34] \"\u001b[37mGET /_dash-component-suites/dash_renderer/dash_renderer.v1_8_3m1605246112.min.js HTTP/1.1\u001b[0m\" 200 -\n",
      "127.0.0.1 - - [21/Nov/2020 13:21:34] \"\u001b[37mGET /_dash-dependencies HTTP/1.1\u001b[0m\" 200 -\n",
      "127.0.0.1 - - [21/Nov/2020 13:21:34] \"\u001b[37mGET /_dash-layout HTTP/1.1\u001b[0m\" 200 -\n"
     ]
    }
   ],
   "source": [
    "import dash\n",
    "import dash_html_components as html  \n",
    "import dash_core_components as dcc\n",
    "app = dash.Dash()\n",
    "app.layout=html.Div([html.Div(html.H1('WDI Dashboard',style={'color':'#00FFFF',          \n",
    "                                                   'text-align':'center',\n",
    "                                                   'display':'inline-block',  \n",
    "                                                   'width':'100%',\n",
    "                                                   'font-family':'Monospace',\n",
    "                                                   'font-size':'2.5rem'  \n",
    "                                                                                     \n",
    "                                                    })),\n",
    "                   \n",
    "                   html.Div(dcc.Graph(id='graph1',figure=fig1,style={'width':'100%','display':'block'})),  \n",
    "                   html.Div(dcc.Graph(id='graph3',figure=fig2,style={'width':'100%','display':'block'})),\n",
    "                   html.Div(dcc.Graph(id='graph4',figure=fig3,style={'width':'100%','display':'inline'})),\n",
    "                   html.Div(dcc.Graph(id='graph5',figure=fig4,style={'width':'100%','display':'block'})),\n",
    "                 \n",
    "                    ]) \n",
    "\n",
    "    \n",
    "if __name__ == '__main__':\n",
    "    app.run_server()\n"
   ]
  },
  {
   "cell_type": "code",
   "execution_count": null,
   "metadata": {},
   "outputs": [],
   "source": []
  },
  {
   "cell_type": "code",
   "execution_count": null,
   "metadata": {},
   "outputs": [],
   "source": []
  }
 ],
 "metadata": {
  "kernelspec": {
   "display_name": "Python 3",
   "language": "python",
   "name": "python3"
  },
  "language_info": {
   "codemirror_mode": {
    "name": "ipython",
    "version": 3
   },
   "file_extension": ".py",
   "mimetype": "text/x-python",
   "name": "python",
   "nbconvert_exporter": "python",
   "pygments_lexer": "ipython3",
   "version": "3.7.6"
  }
 },
 "nbformat": 4,
 "nbformat_minor": 4
}
